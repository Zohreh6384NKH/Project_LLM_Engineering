{
 "cells": [
  {
   "cell_type": "code",
   "execution_count": 1,
   "id": "5248e6a5-fb55-4dea-b0fc-33308cec9469",
   "metadata": {},
   "outputs": [],
   "source": [
    "#imports \n",
    "import os \n",
    "import pickle\n",
    "import re\n",
    "import math \n",
    "import json \n",
    "import random \n",
    "from dotenv import load_dotenv \n",
    "from huggingface_hub import login \n",
    "from items import Item \n",
    "from tester_function import Tester\n",
    "import matplotlib.pyplot as plt\n",
    "import numpy as np \n",
    "from collections import Counter\n",
    "from openai import OpenAI\n",
    "\n"
   ]
  },
  {
   "cell_type": "code",
   "execution_count": 3,
   "id": "b368a74a-f496-45e5-b564-d2ac8bc0483b",
   "metadata": {},
   "outputs": [
    {
     "name": "stdout",
     "output_type": "stream",
     "text": [
      "Collecting anthropic\n",
      "  Downloading anthropic-0.50.0-py3-none-any.whl.metadata (25 kB)\n",
      "Requirement already satisfied: anyio<5,>=3.5.0 in /usr/local/lib/python3.12/dist-packages (from anthropic) (4.8.0)\n",
      "Requirement already satisfied: distro<2,>=1.7.0 in /usr/local/lib/python3.12/dist-packages (from anthropic) (1.9.0)\n",
      "Requirement already satisfied: httpx<1,>=0.25.0 in /usr/local/lib/python3.12/dist-packages (from anthropic) (0.28.1)\n",
      "Requirement already satisfied: jiter<1,>=0.4.0 in /usr/local/lib/python3.12/dist-packages (from anthropic) (0.8.2)\n",
      "Requirement already satisfied: pydantic<3,>=1.9.0 in /usr/local/lib/python3.12/dist-packages (from anthropic) (2.10.6)\n",
      "Requirement already satisfied: sniffio in /usr/local/lib/python3.12/dist-packages (from anthropic) (1.3.1)\n",
      "Requirement already satisfied: typing-extensions<5,>=4.10 in /usr/local/lib/python3.12/dist-packages (from anthropic) (4.12.2)\n",
      "Requirement already satisfied: idna>=2.8 in /usr/lib/python3/dist-packages (from anyio<5,>=3.5.0->anthropic) (2.8)\n",
      "Requirement already satisfied: certifi in /usr/local/lib/python3.12/dist-packages (from httpx<1,>=0.25.0->anthropic) (2024.8.30)\n",
      "Requirement already satisfied: httpcore==1.* in /usr/local/lib/python3.12/dist-packages (from httpx<1,>=0.25.0->anthropic) (1.0.7)\n",
      "Requirement already satisfied: h11<0.15,>=0.13 in /usr/local/lib/python3.12/dist-packages (from httpcore==1.*->httpx<1,>=0.25.0->anthropic) (0.14.0)\n",
      "Requirement already satisfied: annotated-types>=0.6.0 in /usr/local/lib/python3.12/dist-packages (from pydantic<3,>=1.9.0->anthropic) (0.7.0)\n",
      "Requirement already satisfied: pydantic-core==2.27.2 in /usr/local/lib/python3.12/dist-packages (from pydantic<3,>=1.9.0->anthropic) (2.27.2)\n",
      "Downloading anthropic-0.50.0-py3-none-any.whl (245 kB)\n",
      "Installing collected packages: anthropic\n",
      "Successfully installed anthropic-0.50.0\n",
      "\u001b[33mWARNING: Running pip as the 'root' user can result in broken permissions and conflicting behaviour with the system package manager, possibly rendering your system unusable.It is recommended to use a virtual environment instead: https://pip.pypa.io/warnings/venv. Use the --root-user-action option if you know what you are doing and want to suppress this warning.\u001b[0m\u001b[33m\n",
      "\u001b[0m\n",
      "\u001b[1m[\u001b[0m\u001b[34;49mnotice\u001b[0m\u001b[1;39;49m]\u001b[0m\u001b[39;49m A new release of pip is available: \u001b[0m\u001b[31;49m24.3.1\u001b[0m\u001b[39;49m -> \u001b[0m\u001b[32;49m25.0.1\u001b[0m\n",
      "\u001b[1m[\u001b[0m\u001b[34;49mnotice\u001b[0m\u001b[1;39;49m]\u001b[0m\u001b[39;49m To update, run: \u001b[0m\u001b[32;49mpython3.12 -m pip install --upgrade pip\u001b[0m\n"
     ]
    }
   ],
   "source": [
    "!pip install anthropic\n",
    "from anthropic import Anthropic\n"
   ]
  },
  {
   "cell_type": "code",
   "execution_count": 8,
   "id": "fa1a875a-0f26-4400-95fc-f68b481c5e7c",
   "metadata": {},
   "outputs": [],
   "source": [
    "with open('train.pkl', 'rb') as file:\n",
    "    train = pickle.load(file)\n",
    "\n",
    "\n",
    "with open('test.pkl', 'rb') as file:\n",
    "    test = pickle.load(file)"
   ]
  },
  {
   "cell_type": "code",
   "execution_count": 5,
   "id": "1c38c467-cf4e-4a49-8757-25907ac41965",
   "metadata": {},
   "outputs": [],
   "source": [
    "!git config --global credential.helper store\n",
    "\n",
    "load_dotenv(\"hg_token.env\")\n",
    "huggingface_token = os.getenv(\"HUGGINGFACE_TOKEN\")\n",
    "login(token=huggingface_token, add_to_git_credential=True)"
   ]
  },
  {
   "cell_type": "code",
   "execution_count": 6,
   "id": "8a9569cf-63b2-44d1-90c1-c561d6e2e39e",
   "metadata": {},
   "outputs": [],
   "source": [
    "load_dotenv(\"gpt_token.env\")\n",
    "openai_api_key = os.getenv(\"OPENAI_API_KEY\")\n",
    "openai = OpenAI()\n"
   ]
  },
  {
   "cell_type": "code",
   "execution_count": 9,
   "id": "021fd93f-61c4-410b-a87c-1363d4e2dbb2",
   "metadata": {},
   "outputs": [],
   "source": [
    "#we gor for 500 example\n",
    "fine_tune_train = train[:500]\n",
    "fine_tune_validation = train[500:550]"
   ]
  },
  {
   "cell_type": "markdown",
   "id": "9136bbb7-6839-4776-9217-6219f1a96564",
   "metadata": {},
   "source": [
    "## Step1"
   ]
  },
  {
   "cell_type": "code",
   "execution_count": null,
   "id": "27f96996-feb0-479f-9fef-d92fe4703d37",
   "metadata": {},
   "outputs": [],
   "source": [
    "#first lets go for a good prompt for a Frontier model\n",
    "# notice that we are removing \"to the nearest dollar\"\n",
    "# when we train our own models, we will need to make the problem as easy as possible\n",
    "# but a frontier model needs no such simplification"
   ]
  },
  {
   "cell_type": "code",
   "execution_count": 13,
   "id": "7973d237-aad9-483d-b8c1-c8b5542de067",
   "metadata": {},
   "outputs": [],
   "source": [
    "#use this function to turn the item into a list of messages formatted for a chat model like gpt\n",
    "# format: sytem_user_assistant messages\n",
    "def messages_for(item):\n",
    "    system_message = \"you estimate the prices of items. reply only with the price, no explanation\"\n",
    "    user_prompt = item.test_prompt().replace(\"to the nearest dollar\", \"\").replace(\"\\n\\nprice is $\", \"\")\n",
    "    return [\n",
    "\n",
    "        {\"role\": \"system\",\"content\":system_message},\n",
    "        {\"role\": \"user\",\"content\":user_prompt},\n",
    "        {\"role\": \"assistant\",\"content\":f\"price is ${item.price:.2f}\"}\n",
    "    ]\n"
   ]
  },
  {
   "cell_type": "code",
   "execution_count": 14,
   "id": "ab418c07-e195-4ce9-9e84-164c2b56f06b",
   "metadata": {},
   "outputs": [
    {
     "data": {
      "text/plain": [
       "[{'role': 'system',\n",
       "  'content': 'you estimate the prices of items. reply only with the price, no explanation'},\n",
       " {'role': 'user',\n",
       "  'content': 'How much does this cost ?\\n\\nSuper-Softie Kit 416, Super-Softie and Lyre Mount Kit for Sennheiser MKH 416 Sennheiser ME66 K6, Rode NTG3 and Sanken CS-3e\\nAerodynamic and durable, the Super-Softie Kit 416 slip-on microphone windshield and shock mounting system provides superior performance and unparalleled durability for your Sennheiser MKH 416, also Sennheiser ME66 K6, Rode NTG3 and Sanken CS-3e. Kit includes Super-Softie Windshield and Universal Shotgun Mount ideal for boom pole use or on-camera with included brass cold-shoe adaptor. Perfect for the Sennheiser MKH 416, also Sennheiser ME66 K6,\\n\\nPrice is $'},\n",
       " {'role': 'assistant', 'content': 'price is $205.00'}]"
      ]
     },
     "execution_count": 14,
     "metadata": {},
     "output_type": "execute_result"
    }
   ],
   "source": [
    "messages_for(train[0])"
   ]
  },
  {
   "cell_type": "code",
   "execution_count": 41,
   "id": "2b6c4e0c-afd1-4442-bb5b-2ae76a4f0a44",
   "metadata": {},
   "outputs": [],
   "source": [
    "def make_json(items):\n",
    "    result = \"\"\n",
    "    for item in items:\n",
    "        messages = messages_for(item)\n",
    "        messages_str = json.dumps(messages)\n",
    "        result += '{\"messages\": '+messages_str +'}\\n'\n",
    "    return result.strip()\n",
    "        \n",
    "        "
   ]
  },
  {
   "cell_type": "code",
   "execution_count": 20,
   "id": "6bd15d88-f323-4aab-a052-9fcdd5ed8533",
   "metadata": {},
   "outputs": [
    {
     "name": "stdout",
     "output_type": "stream",
     "text": [
      "{\"messages\": [{\"role\": \"system\", \"content\": \"you estimate the prices of items. reply only with the price, no explanation\"}, {\"role\": \"user\", \"content\": \"How much does this cost ?\\n\\nSuper-Softie Kit 416, Super-Softie and Lyre Mount Kit for Sennheiser MKH 416 Sennheiser ME66 K6, Rode NTG3 and Sanken CS-3e\\nAerodynamic and durable, the Super-Softie Kit 416 slip-on microphone windshield and shock mounting system provides superior performance and unparalleled durability for your Sennheiser MKH 416, also Sennheiser ME66 K6, Rode NTG3 and Sanken CS-3e. Kit includes Super-Softie Windshield and Universal Shotgun Mount ideal for boom pole use or on-camera with included brass cold-shoe adaptor. Perfect for the Sennheiser MKH 416, also Sennheiser ME66 K6,\\n\\nPrice is $\"}, {\"role\": \"assistant\", \"content\": \"price is $205.00\"}]}\n",
      "{\"messages\": [{\"role\": \"system\", \"content\": \"you estimate the prices of items. reply only with the price, no explanation\"}, {\"role\": \"user\", \"content\": \"How much does this cost ?\\n\\nIvory Travertine Honed 2 1/4 X 12 Palermo Molding - Standard Quality - BOX of 10 PCS\\nALL SALES ARE FINAL. NO RETURNS / EXCHANGES. Items offered in this listing are of Standard / Commercial quality. Huge color / shading / texture variations might be visibly apparent as natural stone is a product of nature and is therefore subject to natural variations of color, shading, veins, markings and texture from piece to piece. The typical variation of a stone is dependent upon the type of stone selected. No claims will be accepted after materials are fabricated or installed. We extend no guarantees; expressed or implied, as to slipperiness, wear resistance or maintenance procedures. All natural stone is subject to some wearing or scratching over time. 10\\n\\nPrice is $\"}, {\"role\": \"assistant\", \"content\": \"price is $120.99\"}]}\n",
      "{\"messages\": [{\"role\": \"system\", \"content\": \"you estimate the prices of items. reply only with the price, no explanation\"}, {\"role\": \"user\", \"content\": \"How much does this cost ?\\n\\nD'Addario Accessories Microphone Cable - XLR Cable - Copper Braid Shield - Optimal Signal Transfer - American Stage - 10 Meters - 1 Pack\\nPlanet Waves American Stage Series microphone cables are built to exceed the demands of the gigging musician, delivering all the fidelity and durabilty needed for any situation. The length is ideal for shorter runs, home studios, and smaller stages. American Stage Microphone Cables are precision engineered and expertly assembled in our Farmingdale, New York facility. We begin with a premium, audiophile cable manufactured in the U.S.A, and add exclusive high quality connectors built by Neutrik utilizing aerospace crimp connector technology. These unique engineering and cutting-edge manufacturing techniques combine to create a cable that will exceed the most demanding expectations.\\n\\nPrice is $\"}, {\"role\": \"assistant\", \"content\": \"price is $67.99\"}]}\n"
     ]
    }
   ],
   "source": [
    "print(make_json(train[:3]))"
   ]
  },
  {
   "cell_type": "code",
   "execution_count": 42,
   "id": "cad45bdf-f03d-49fd-91bf-fb5202f49150",
   "metadata": {},
   "outputs": [],
   "source": [
    "#convert the items into jsonl and write them to a file\n",
    "def write_jsonl(items, filename):\n",
    "    with open(filename, \"w\") as f:\n",
    "        jsonl = make_json(items)\n",
    "        f.write(jsonl)\n",
    "    "
   ]
  },
  {
   "cell_type": "code",
   "execution_count": 43,
   "id": "59ab9271-d013-48cf-9f46-c88e25ae7395",
   "metadata": {},
   "outputs": [],
   "source": [
    "write_jsonl(fine_tune_train, \"fine_tune_train.jsonl\")\n"
   ]
  },
  {
   "cell_type": "code",
   "execution_count": 44,
   "id": "8fdb17b1-8de6-4340-8bce-d034f958122c",
   "metadata": {},
   "outputs": [],
   "source": [
    "write_jsonl(fine_tune_validation, \"fine_tune_validation.jsonl\")\n"
   ]
  },
  {
   "cell_type": "code",
   "execution_count": 53,
   "id": "26018878-6eba-4014-8c1c-6f194a8b7c3d",
   "metadata": {},
   "outputs": [],
   "source": [
    "with open(\"fine_tune_train.jsonl\", \"rb\") as f:\n",
    "    train_file = openai.files.create(file=f, purpose=\"fine-tune\")\n",
    "    "
   ]
  },
  {
   "cell_type": "code",
   "execution_count": 49,
   "id": "ea427012-1b96-45d3-a648-9c276c7c1e08",
   "metadata": {},
   "outputs": [
    {
     "data": {
      "text/plain": [
       "FileObject(id='file-FrKGeJCHv5iw8ZcPzmG2sv', bytes=476263, created_at=1745417065, filename='fine_tune_train.jsonl', object='file', purpose='fine-tune', status='processed', status_details=None, expires_at=None)"
      ]
     },
     "execution_count": 49,
     "metadata": {},
     "output_type": "execute_result"
    }
   ],
   "source": [
    "train_file"
   ]
  },
  {
   "cell_type": "code",
   "execution_count": 55,
   "id": "85bf1613-720e-459a-817a-030f162dffdd",
   "metadata": {},
   "outputs": [],
   "source": [
    "with open(\"fine_tune_validation.jsonl\", \"rb\") as f:\n",
    "    validation_file = openai.files.create(file=f, purpose=\"fine-tune\")"
   ]
  },
  {
   "cell_type": "code",
   "execution_count": 56,
   "id": "8b0ff515-8192-4f02-8ed9-6bf123e694ec",
   "metadata": {},
   "outputs": [
    {
     "data": {
      "text/plain": [
       "FileObject(id='file-SssdxKncohduF2qiaTxKS1', bytes=47454, created_at=1745417238, filename='fine_tune_validation.jsonl', object='file', purpose='fine-tune', status='processed', status_details=None, expires_at=None)"
      ]
     },
     "execution_count": 56,
     "metadata": {},
     "output_type": "execute_result"
    }
   ],
   "source": [
    "validation_file"
   ]
  },
  {
   "cell_type": "markdown",
   "id": "e8bee2f3-4855-4f15-8f3b-b923b1fb6667",
   "metadata": {},
   "source": [
    "## Step2"
   ]
  },
  {
   "cell_type": "code",
   "execution_count": null,
   "id": "9cdd0999-fd59-40b6-8936-d21609c90ee2",
   "metadata": {},
   "outputs": [],
   "source": [
    "## weights and biases is integrated with openai for fine tuning"
   ]
  },
  {
   "cell_type": "code",
   "execution_count": null,
   "id": "c07b2b21-49f5-4492-81a9-c6b77331c549",
   "metadata": {},
   "outputs": [],
   "source": [
    "#first we create our weights and biases"
   ]
  },
  {
   "cell_type": "markdown",
   "id": "b4c9a692-8a50-46b1-b03f-d52456b7d473",
   "metadata": {},
   "source": [
    "## and now time for fine tune"
   ]
  },
  {
   "cell_type": "code",
   "execution_count": 57,
   "id": "a0396f7e-4aed-40dd-8fb5-f04f6239bfc0",
   "metadata": {},
   "outputs": [
    {
     "name": "stdout",
     "output_type": "stream",
     "text": [
      "Collecting wandb\n",
      "  Downloading wandb-0.19.10-py3-none-manylinux_2_17_x86_64.manylinux2014_x86_64.whl.metadata (10 kB)\n",
      "Requirement already satisfied: click!=8.0.0,>=7.1 in /usr/local/lib/python3.12/dist-packages (from wandb) (8.1.8)\n",
      "Collecting docker-pycreds>=0.4.0 (from wandb)\n",
      "  Downloading docker_pycreds-0.4.0-py2.py3-none-any.whl.metadata (1.8 kB)\n",
      "Collecting gitpython!=3.1.29,>=1.0.0 (from wandb)\n",
      "  Downloading GitPython-3.1.44-py3-none-any.whl.metadata (13 kB)\n",
      "Requirement already satisfied: platformdirs in /usr/local/lib/python3.12/dist-packages (from wandb) (4.3.6)\n",
      "Requirement already satisfied: protobuf!=4.21.0,!=5.28.0,<7,>=3.19.0 in /usr/local/lib/python3.12/dist-packages (from wandb) (5.29.3)\n",
      "Requirement already satisfied: psutil>=5.0.0 in /usr/local/lib/python3.12/dist-packages (from wandb) (6.1.0)\n",
      "Requirement already satisfied: pydantic<3 in /usr/local/lib/python3.12/dist-packages (from wandb) (2.10.6)\n",
      "Requirement already satisfied: pyyaml in /usr/local/lib/python3.12/dist-packages (from wandb) (6.0.2)\n",
      "Requirement already satisfied: requests<3,>=2.0.0 in /usr/local/lib/python3.12/dist-packages (from wandb) (2.32.3)\n",
      "Collecting sentry-sdk>=2.0.0 (from wandb)\n",
      "  Downloading sentry_sdk-2.26.1-py2.py3-none-any.whl.metadata (10 kB)\n",
      "Collecting setproctitle (from wandb)\n",
      "  Downloading setproctitle-1.3.5-cp312-cp312-manylinux_2_5_x86_64.manylinux1_x86_64.manylinux_2_17_x86_64.manylinux2014_x86_64.whl.metadata (10 kB)\n",
      "Requirement already satisfied: setuptools in /usr/local/lib/python3.12/dist-packages (from wandb) (75.5.0)\n",
      "Requirement already satisfied: typing-extensions<5,>=4.4 in /usr/local/lib/python3.12/dist-packages (from wandb) (4.12.2)\n",
      "Requirement already satisfied: six>=1.4.0 in /usr/local/lib/python3.12/dist-packages (from docker-pycreds>=0.4.0->wandb) (1.16.0)\n",
      "Collecting gitdb<5,>=4.0.1 (from gitpython!=3.1.29,>=1.0.0->wandb)\n",
      "  Downloading gitdb-4.0.12-py3-none-any.whl.metadata (1.2 kB)\n",
      "Requirement already satisfied: annotated-types>=0.6.0 in /usr/local/lib/python3.12/dist-packages (from pydantic<3->wandb) (0.7.0)\n",
      "Requirement already satisfied: pydantic-core==2.27.2 in /usr/local/lib/python3.12/dist-packages (from pydantic<3->wandb) (2.27.2)\n",
      "Requirement already satisfied: charset-normalizer<4,>=2 in /usr/local/lib/python3.12/dist-packages (from requests<3,>=2.0.0->wandb) (3.4.0)\n",
      "Requirement already satisfied: idna<4,>=2.5 in /usr/lib/python3/dist-packages (from requests<3,>=2.0.0->wandb) (2.8)\n",
      "Requirement already satisfied: urllib3<3,>=1.21.1 in /usr/local/lib/python3.12/dist-packages (from requests<3,>=2.0.0->wandb) (2.3.0)\n",
      "Requirement already satisfied: certifi>=2017.4.17 in /usr/local/lib/python3.12/dist-packages (from requests<3,>=2.0.0->wandb) (2024.8.30)\n",
      "Collecting smmap<6,>=3.0.1 (from gitdb<5,>=4.0.1->gitpython!=3.1.29,>=1.0.0->wandb)\n",
      "  Downloading smmap-5.0.2-py3-none-any.whl.metadata (4.3 kB)\n",
      "Downloading wandb-0.19.10-py3-none-manylinux_2_17_x86_64.manylinux2014_x86_64.whl (21.3 MB)\n",
      "\u001b[2K   \u001b[90m━━━━━━━━━━━━━━━━━━━━━━━━━━━━━━━━━━━━━━━━\u001b[0m \u001b[32m21.3/21.3 MB\u001b[0m \u001b[31m149.7 MB/s\u001b[0m eta \u001b[36m0:00:00\u001b[0m\n",
      "Downloading docker_pycreds-0.4.0-py2.py3-none-any.whl (9.0 kB)\n",
      "Downloading GitPython-3.1.44-py3-none-any.whl (207 kB)\n",
      "Downloading sentry_sdk-2.26.1-py2.py3-none-any.whl (340 kB)\n",
      "Downloading setproctitle-1.3.5-cp312-cp312-manylinux_2_5_x86_64.manylinux1_x86_64.manylinux_2_17_x86_64.manylinux2014_x86_64.whl (31 kB)\n",
      "Downloading gitdb-4.0.12-py3-none-any.whl (62 kB)\n",
      "Downloading smmap-5.0.2-py3-none-any.whl (24 kB)\n",
      "Installing collected packages: smmap, setproctitle, sentry-sdk, docker-pycreds, gitdb, gitpython, wandb\n",
      "Successfully installed docker-pycreds-0.4.0 gitdb-4.0.12 gitpython-3.1.44 sentry-sdk-2.26.1 setproctitle-1.3.5 smmap-5.0.2 wandb-0.19.10\n",
      "\u001b[33mWARNING: Running pip as the 'root' user can result in broken permissions and conflicting behaviour with the system package manager, possibly rendering your system unusable.It is recommended to use a virtual environment instead: https://pip.pypa.io/warnings/venv. Use the --root-user-action option if you know what you are doing and want to suppress this warning.\u001b[0m\u001b[33m\n",
      "\u001b[0m\n",
      "\u001b[1m[\u001b[0m\u001b[34;49mnotice\u001b[0m\u001b[1;39;49m]\u001b[0m\u001b[39;49m A new release of pip is available: \u001b[0m\u001b[31;49m24.3.1\u001b[0m\u001b[39;49m -> \u001b[0m\u001b[32;49m25.0.1\u001b[0m\n",
      "\u001b[1m[\u001b[0m\u001b[34;49mnotice\u001b[0m\u001b[1;39;49m]\u001b[0m\u001b[39;49m To update, run: \u001b[0m\u001b[32;49mpython3.12 -m pip install --upgrade pip\u001b[0m\n"
     ]
    }
   ],
   "source": [
    "!pip install wandb"
   ]
  },
  {
   "cell_type": "code",
   "execution_count": 59,
   "id": "8042c22e-f08a-4dee-9b5b-e5b8ccff39de",
   "metadata": {},
   "outputs": [],
   "source": [
    "# import wandb"
   ]
  },
  {
   "cell_type": "code",
   "execution_count": 61,
   "id": "8721a484-7dc4-44a7-b5d5-cafcffa07117",
   "metadata": {},
   "outputs": [
    {
     "name": "stderr",
     "output_type": "stream",
     "text": [
      "\u001b[34m\u001b[1mwandb\u001b[0m: \u001b[33mWARNING\u001b[0m If you're specifying your api key in code, ensure this code is not shared publicly.\n",
      "\u001b[34m\u001b[1mwandb\u001b[0m: \u001b[33mWARNING\u001b[0m Consider setting the WANDB_API_KEY environment variable, or running `wandb login` from the command line.\n",
      "\u001b[34m\u001b[1mwandb\u001b[0m: No netrc file found, creating one.\n",
      "\u001b[34m\u001b[1mwandb\u001b[0m: Appending key for api.wandb.ai to your netrc file: /root/.netrc\n",
      "\u001b[34m\u001b[1mwandb\u001b[0m: Currently logged in as: \u001b[33mzohreh-nikkhah1984\u001b[0m (\u001b[33mzohreh-nikkhah1984-stealth-ai-startup\u001b[0m) to \u001b[32mhttps://api.wandb.ai\u001b[0m. Use \u001b[1m`wandb login --relogin`\u001b[0m to force relogin\n"
     ]
    },
    {
     "data": {
      "text/plain": [
       "True"
      ]
     },
     "execution_count": 61,
     "metadata": {},
     "output_type": "execute_result"
    }
   ],
   "source": [
    "# load_dotenv(\"wb.env\")\n",
    "\n",
    "# #get the key from environment variable\n",
    "# wandb_api_key = os.getenv(\"wandb_api_key\")\n",
    "\n",
    "# #login to wandb\n",
    "# wandb.login(key=wandb_api_key)"
   ]
  },
  {
   "cell_type": "code",
   "execution_count": 62,
   "id": "c15acdb6-e6e4-4955-85ce-b503e0d6fdd2",
   "metadata": {},
   "outputs": [],
   "source": [
    "# wandb_integration = {\"type\":\"wandb\", \"wandb\":{\"project\":\"gpt-pricer\"}}"
   ]
  },
  {
   "cell_type": "code",
   "execution_count": 68,
   "id": "a785f852-45ec-4dc3-a4c9-097a5e78eafd",
   "metadata": {},
   "outputs": [
    {
     "data": {
      "text/plain": [
       "FileObject(id='file-CANjKxGEbNdiSTDg54vB46', bytes=476263, created_at=1745417213, filename='fine_tune_train.jsonl', object='file', purpose='fine-tune', status='processed', status_details=None, expires_at=None)"
      ]
     },
     "execution_count": 68,
     "metadata": {},
     "output_type": "execute_result"
    }
   ],
   "source": [
    "train_file"
   ]
  },
  {
   "cell_type": "code",
   "execution_count": 69,
   "id": "1fcb550f-faa3-477e-a7bb-938a670e2abe",
   "metadata": {},
   "outputs": [
    {
     "data": {
      "text/plain": [
       "'file-CANjKxGEbNdiSTDg54vB46'"
      ]
     },
     "execution_count": 69,
     "metadata": {},
     "output_type": "execute_result"
    }
   ],
   "source": [
    "train_file.id"
   ]
  },
  {
   "cell_type": "code",
   "execution_count": 64,
   "id": "389b4b24-eeab-43cc-a374-d384e2e53926",
   "metadata": {},
   "outputs": [
    {
     "data": {
      "text/plain": [
       "'file-SssdxKncohduF2qiaTxKS1'"
      ]
     },
     "execution_count": 64,
     "metadata": {},
     "output_type": "execute_result"
    }
   ],
   "source": [
    "validation_file.id"
   ]
  },
  {
   "cell_type": "code",
   "execution_count": 72,
   "id": "e8f8d27e-57e7-4725-a68e-6d135855e054",
   "metadata": {},
   "outputs": [
    {
     "data": {
      "text/plain": [
       "FineTuningJob(id='ftjob-pK54tAhvwdCcE7lYbgKRDTNG', created_at=1745427465, error=Error(code=None, message=None, param=None), fine_tuned_model=None, finished_at=None, hyperparameters=Hyperparameters(batch_size='auto', learning_rate_multiplier='auto', n_epochs=1), model='gpt-4o-mini-2024-07-18', object='fine_tuning.job', organization_id='org-LrQT4u0SX1dJEcN6VYNrqvLp', result_files=[], seed=42, status='validating_files', trained_tokens=None, training_file='file-CANjKxGEbNdiSTDg54vB46', validation_file='file-SssdxKncohduF2qiaTxKS1', estimated_finish=None, integrations=[], method=Method(dpo=None, supervised=MethodSupervised(hyperparameters=MethodSupervisedHyperparameters(batch_size='auto', learning_rate_multiplier='auto', n_epochs=1)), type='supervised'), user_provided_suffix='pricer', metadata=None)"
      ]
     },
     "execution_count": 72,
     "metadata": {},
     "output_type": "execute_result"
    }
   ],
   "source": [
    "openai.fine_tuning.jobs.create(\n",
    "    training_file = train_file.id,\n",
    "    validation_file = validation_file.id,\n",
    "    model = \"gpt-4o-mini-2024-07-18\",\n",
    "    seed = 42,\n",
    "    hyperparameters={\"n_epochs\":1},\n",
    "    # integrations=[wandb_integration],\n",
    "    suffix=\"pricer\"\n",
    "    \n",
    "    \n",
    ")"
   ]
  },
  {
   "cell_type": "code",
   "execution_count": 83,
   "id": "1ef99a90-bf3e-4eba-92a1-5f01026f50e6",
   "metadata": {},
   "outputs": [
    {
     "data": {
      "text/plain": [
       "SyncCursorPage[FineTuningJob](data=[FineTuningJob(id='ftjob-pK54tAhvwdCcE7lYbgKRDTNG', created_at=1745427465, error=Error(code=None, message=None, param=None), fine_tuned_model='ft:gpt-4o-mini-2024-07-18:personal:pricer:BPXus2Gn', finished_at=1745428273, hyperparameters=Hyperparameters(batch_size=1, learning_rate_multiplier=1.8, n_epochs=1), model='gpt-4o-mini-2024-07-18', object='fine_tuning.job', organization_id='org-LrQT4u0SX1dJEcN6VYNrqvLp', result_files=['file-KaAVU9kioLzi74xUwg77yC'], seed=42, status='succeeded', trained_tokens=100589, training_file='file-CANjKxGEbNdiSTDg54vB46', validation_file='file-SssdxKncohduF2qiaTxKS1', estimated_finish=None, integrations=[], method=Method(dpo=None, supervised=MethodSupervised(hyperparameters=MethodSupervisedHyperparameters(batch_size=1, learning_rate_multiplier=1.8, n_epochs=1)), type='supervised'), user_provided_suffix='pricer', metadata=None)], object='list', has_more=True)"
      ]
     },
     "execution_count": 83,
     "metadata": {},
     "output_type": "execute_result"
    }
   ],
   "source": [
    "openai.fine_tuning.jobs.list(limit=1)"
   ]
  },
  {
   "cell_type": "code",
   "execution_count": 88,
   "id": "d334f50d-8b62-4aa7-9adb-17644fff982a",
   "metadata": {},
   "outputs": [
    {
     "data": {
      "text/plain": [
       "'ftjob-pK54tAhvwdCcE7lYbgKRDTNG'"
      ]
     },
     "execution_count": 88,
     "metadata": {},
     "output_type": "execute_result"
    }
   ],
   "source": [
    "job_id = openai.fine_tuning.jobs.list(limit=1).data[0].id\n",
    "job_id"
   ]
  },
  {
   "cell_type": "code",
   "execution_count": 90,
   "id": "088cbadf-43d1-4bf3-81ae-cc0b01f0d93f",
   "metadata": {},
   "outputs": [
    {
     "data": {
      "text/plain": [
       "FineTuningJob(id='ftjob-pK54tAhvwdCcE7lYbgKRDTNG', created_at=1745427465, error=Error(code=None, message=None, param=None), fine_tuned_model='ft:gpt-4o-mini-2024-07-18:personal:pricer:BPXus2Gn', finished_at=1745428273, hyperparameters=Hyperparameters(batch_size=1, learning_rate_multiplier=1.8, n_epochs=1), model='gpt-4o-mini-2024-07-18', object='fine_tuning.job', organization_id='org-LrQT4u0SX1dJEcN6VYNrqvLp', result_files=['file-KaAVU9kioLzi74xUwg77yC'], seed=42, status='succeeded', trained_tokens=100589, training_file='file-CANjKxGEbNdiSTDg54vB46', validation_file='file-SssdxKncohduF2qiaTxKS1', estimated_finish=None, integrations=[], method=Method(dpo=None, supervised=MethodSupervised(hyperparameters=MethodSupervisedHyperparameters(batch_size=1, learning_rate_multiplier=1.8, n_epochs=1)), type='supervised'), user_provided_suffix='pricer', metadata=None)"
      ]
     },
     "execution_count": 90,
     "metadata": {},
     "output_type": "execute_result"
    }
   ],
   "source": [
    "openai.fine_tuning.jobs.retrieve(job_id)"
   ]
  },
  {
   "cell_type": "code",
   "execution_count": 89,
   "id": "db884660-ab82-4351-ba94-1470d9f28577",
   "metadata": {},
   "outputs": [
    {
     "data": {
      "text/plain": [
       "[FineTuningJobEvent(id='ftevent-whiozPvIvpOmnxy88Gn5KS1r', created_at=1745428280, level='info', message='The job has successfully completed', object='fine_tuning.job.event', data={}, type='message'),\n",
       " FineTuningJobEvent(id='ftevent-kTAvUxxxf2zEBykCpHByUqge', created_at=1745428275, level='info', message='New fine-tuned model created', object='fine_tuning.job.event', data={}, type='message'),\n",
       " FineTuningJobEvent(id='ftevent-Z18ZBLO57uZ1jk34U6Blx6XI', created_at=1745428255, level='info', message='Step 500/500: training loss=1.41, validation loss=1.24, full validation loss=1.08', object='fine_tuning.job.event', data={'step': 500, 'train_loss': 1.413585901260376, 'valid_loss': 1.2384517192840576, 'total_steps': 500, 'full_valid_loss': 1.0818539571762085, 'train_mean_token_accuracy': 0.75, 'valid_mean_token_accuracy': 0.75, 'full_valid_mean_token_accuracy': 0.79}, type='metrics'),\n",
       " FineTuningJobEvent(id='ftevent-PdZnWSecDTPmMeoLf8fX8h2J', created_at=1745428244, level='info', message='Step 499/500: training loss=1.43', object='fine_tuning.job.event', data={'step': 499, 'train_loss': 1.4264812469482422, 'total_steps': 500, 'train_mean_token_accuracy': 0.75}, type='metrics'),\n",
       " FineTuningJobEvent(id='ftevent-fwSMBUa3c7r5ULZcYRNZOhYS', created_at=1745428244, level='info', message='Step 498/500: training loss=0.86', object='fine_tuning.job.event', data={'step': 498, 'train_loss': 0.8632009029388428, 'total_steps': 500, 'train_mean_token_accuracy': 0.875}, type='metrics'),\n",
       " FineTuningJobEvent(id='ftevent-ERW3fYZUKSShV0r7tyCCZa2Z', created_at=1745428244, level='info', message='Step 497/500: training loss=1.53', object='fine_tuning.job.event', data={'step': 497, 'train_loss': 1.5284538269042969, 'total_steps': 500, 'train_mean_token_accuracy': 0.75}, type='metrics'),\n",
       " FineTuningJobEvent(id='ftevent-37yM4S2LVhhJTG7rTQXmejaf', created_at=1745428242, level='info', message='Step 496/500: training loss=1.24', object='fine_tuning.job.event', data={'step': 496, 'train_loss': 1.2385649681091309, 'total_steps': 500, 'train_mean_token_accuracy': 0.75}, type='metrics'),\n",
       " FineTuningJobEvent(id='ftevent-k3FpEfmReFLsEpxWr7LSPVTT', created_at=1745428242, level='info', message='Step 495/500: training loss=0.97', object='fine_tuning.job.event', data={'step': 495, 'train_loss': 0.9661540985107422, 'total_steps': 500, 'train_mean_token_accuracy': 0.875}, type='metrics'),\n",
       " FineTuningJobEvent(id='ftevent-cUqwQjm9UMaINlWQkPJEXnTw', created_at=1745428242, level='info', message='Step 494/500: training loss=1.52', object='fine_tuning.job.event', data={'step': 494, 'train_loss': 1.5236749649047852, 'total_steps': 500, 'train_mean_token_accuracy': 0.75}, type='metrics'),\n",
       " FineTuningJobEvent(id='ftevent-mUt5htq1zxnatiwfazb98wVu', created_at=1745428239, level='info', message='Step 493/500: training loss=0.87', object='fine_tuning.job.event', data={'step': 493, 'train_loss': 0.8671774864196777, 'total_steps': 500, 'train_mean_token_accuracy': 0.875}, type='metrics')]"
      ]
     },
     "execution_count": 89,
     "metadata": {},
     "output_type": "execute_result"
    }
   ],
   "source": [
    "openai.fine_tuning.jobs.list_events(fine_tuning_job_id=job_id, limit=10).data"
   ]
  },
  {
   "cell_type": "markdown",
   "id": "93667238-1ca7-4fdf-85a6-4c346a3dd741",
   "metadata": {},
   "source": [
    "## Step3"
   ]
  },
  {
   "cell_type": "code",
   "execution_count": 92,
   "id": "8fd66d39-667a-4ea1-97f4-89ebf955467b",
   "metadata": {},
   "outputs": [],
   "source": [
    "fine_tuned_model_name = openai.fine_tuning.jobs.retrieve(job_id).fine_tuned_model"
   ]
  },
  {
   "cell_type": "code",
   "execution_count": 93,
   "id": "05a225ef-375a-4e9a-9a43-259019dd3b6b",
   "metadata": {},
   "outputs": [
    {
     "data": {
      "text/plain": [
       "'ft:gpt-4o-mini-2024-07-18:personal:pricer:BPXus2Gn'"
      ]
     },
     "execution_count": 93,
     "metadata": {},
     "output_type": "execute_result"
    }
   ],
   "source": [
    "fine_tuned_model_name"
   ]
  },
  {
   "cell_type": "code",
   "execution_count": 96,
   "id": "6549c446-9f96-452a-89a3-11da633204a7",
   "metadata": {},
   "outputs": [],
   "source": [
    "#prompt\n",
    "def messages_for(item):\n",
    "    system_message = \"you estimate the prices of items.Reply only with the price, no explanation\"\n",
    "    user_prompt= item.test_prompt().replace(\"to the nearest dollar\", \"\").replace(\"\\n\\nprice is $\", \" \")\n",
    "    return[\n",
    "        {\"role\":\"system\", \"content\":system_message},\n",
    "        {\"role\":\"user\", \"content\":user_prompt},\n",
    "        {\"role\":\"assistant\", \"content\":\"price is $\"}\n",
    "    ]\n",
    "    \n",
    "    "
   ]
  },
  {
   "cell_type": "code",
   "execution_count": 97,
   "id": "0c75da1a-c540-4e5c-88db-dbd5c50e77db",
   "metadata": {},
   "outputs": [
    {
     "data": {
      "text/plain": [
       "[{'role': 'system',\n",
       "  'content': 'you estimate the prices of items.Reply only with the price, no explanation'},\n",
       " {'role': 'user',\n",
       "  'content': 'How much does this cost ?\\n\\nAC Compressor & A/C Clutch For Chevy Sonic 1.8L Non-Turbo 2013 2014 2015 2016 2017 2018 - BuyAutoParts New\\nEngineered for superior durability, backed by a one year, unlimited mileage warranty Guaranteed Exact Fit for easy installation 100% BRAND NEW, premium ISO/TS 16949 quality - no core deposit or return required! Make sure you flush the system thoroughly and replace the drier filter along with the compressor for better long-term reliability, or consider one of our AC kits that includes everything you need! Fits Chevy Sonic with the 1.8L non-turbo Manufacturer BuyAutoParts, Brand BUYAUTOPARTS!, Weight 12 pounds, Dimensions 11 x 9\\n\\nPrice is $'},\n",
       " {'role': 'assistant', 'content': 'price is $'}]"
      ]
     },
     "execution_count": 97,
     "metadata": {},
     "output_type": "execute_result"
    }
   ],
   "source": [
    "#try it out\n",
    "\n",
    "messages_for(test[0])"
   ]
  },
  {
   "cell_type": "code",
   "execution_count": 98,
   "id": "f5eac4b5-8c38-4dc3-908e-93529b714326",
   "metadata": {},
   "outputs": [],
   "source": [
    "# a utility function to extract price from the string\n",
    "def get_price(s):\n",
    "    s = s.replace('$','').replace(',','')\n",
    "    match = re.search(r\"[-+]?\\d*\\.\\d+|\\d+\", s)\n",
    "    return float(match.group()) if match else 0\n"
   ]
  },
  {
   "cell_type": "code",
   "execution_count": 99,
   "id": "d322757d-961f-4137-a1c2-c502372f7db4",
   "metadata": {},
   "outputs": [
    {
     "data": {
      "text/plain": [
       "99.99"
      ]
     },
     "execution_count": 99,
     "metadata": {},
     "output_type": "execute_result"
    }
   ],
   "source": [
    "get_price(\"The price is roughly $99.99 because blah blah\")\n"
   ]
  },
  {
   "cell_type": "code",
   "execution_count": 106,
   "id": "1a39cd24-f646-4e3a-89a5-f4d4ebb3086f",
   "metadata": {},
   "outputs": [],
   "source": [
    "#the function for gpt4o-mini\n",
    "def gpt_fine_tuned(item):\n",
    "    # print(item.price)\n",
    "    response = openai.chat.completions.create(\n",
    "        model=\"gpt-4o-mini-2024-07-18\",\n",
    "        messages=messages_for(item),\n",
    "        max_tokens=5,\n",
    "        seed=42\n",
    "    )\n",
    "    reply = response.choices[0].message.content\n",
    "    # print(f\"reply:{reply}\")\n",
    "    return get_price(reply)\n",
    "    "
   ]
  },
  {
   "cell_type": "code",
   "execution_count": 102,
   "id": "fb2fb08e-6dff-404e-98fd-6239f74740bc",
   "metadata": {},
   "outputs": [
    {
     "data": {
      "text/plain": [
       "250.41"
      ]
     },
     "execution_count": 102,
     "metadata": {},
     "output_type": "execute_result"
    }
   ],
   "source": [
    "test[0].price"
   ]
  },
  {
   "cell_type": "code",
   "execution_count": 107,
   "id": "fea171f4-727a-4f92-b84e-4ca759458b89",
   "metadata": {},
   "outputs": [
    {
     "data": {
      "text/plain": [
       "150.0"
      ]
     },
     "execution_count": 107,
     "metadata": {},
     "output_type": "execute_result"
    }
   ],
   "source": [
    "gpt_fine_tuned(test[0])"
   ]
  },
  {
   "cell_type": "code",
   "execution_count": 108,
   "id": "30192f89-5307-4f2f-8ba9-2900fce03d65",
   "metadata": {},
   "outputs": [
    {
     "name": "stdout",
     "output_type": "stream",
     "text": [
      "\u001b[91m1: Guess: $150.00 Truth: $250.41 Error: $100.41 SLE: 0.26 Item: AC Compressor & A/C Clutch For Chevy Son...\u001b[0m\n",
      "\u001b[92m2: Guess: $85.00 Truth: $118.50 Error: $33.50 SLE: 0.11 Item: MCR Safety BPCL3LX3 Luminator Class 3 In...\u001b[0m\n",
      "\u001b[91m3: Guess: $150.00 Truth: $263.21 Error: $113.21 SLE: 0.31 Item: CABOT SAMUEL 19205-08 INC 5GAL Pac RED D...\u001b[0m\n",
      "\u001b[92m4: Guess: $79.99 Truth: $93.88 Error: $13.89 SLE: 0.03 Item: Carrying Case With Kickstand - CTA Secur...\u001b[0m\n",
      "\u001b[91m5: Guess: $100.00 Truth: $222.35 Error: $122.35 SLE: 0.63 Item: Fill-Rite 807CN1 1\" 5-20 GPM 3 Wheel Mec...\u001b[0m\n",
      "\u001b[93m6: Guess: $139.99 Truth: $97.54 Error: $42.45 SLE: 0.13 Item: Evniset Kitchen Faucets Lead-Free Commer...\u001b[0m\n",
      "\u001b[91m7: Guess: $600.00 Truth: $375.75 Error: $224.25 SLE: 0.22 Item: Kingston FURY Renegade RGB 128GB (4x32GB...\u001b[0m\n",
      "\u001b[93m8: Guess: $180.00 Truth: $108.57 Error: $71.43 SLE: 0.25 Item: Elk 10150/1DR-WS Celina 1-Light Dark Rus...\u001b[0m\n",
      "\u001b[93m9: Guess: $30.99 Truth: $84.99 Error: $54.00 SLE: 0.98 Item: DEWALT DWA4203B Bi Metal Wood with Nails...\u001b[0m\n",
      "\u001b[92m10: Guess: $39.99 Truth: $34.99 Error: $5.00 SLE: 0.02 Item: iWALK MAG-X Magnetic Wireless Power Bank...\u001b[0m\n",
      "\u001b[91m11: Guess: $65.99 Truth: $163.26 Error: $97.27 SLE: 0.80 Item: Garage-Pro Radiator Support for HONDA AC...\u001b[0m\n",
      "\u001b[93m12: Guess: $250.00 Truth: $172.96 Error: $77.04 SLE: 0.13 Item: ECCPP Complete Struts Spring Assembly Fr...\u001b[0m\n",
      "\u001b[92m13: Guess: $100.00 Truth: $99.00 Error: $1.00 SLE: 0.00 Item: NS YOLO 2015 2016 2017 2018 2019 2020 Fo...\u001b[0m\n",
      "\u001b[92m14: Guess: $100.00 Truth: $121.10 Error: $21.10 SLE: 0.04 Item: Lantronix Uds-10 Device Server DB25 Port...\u001b[0m\n",
      "\u001b[92m15: Guess: $29.99 Truth: $22.95 Error: $7.04 SLE: 0.07 Item: BURGA Phone Case Compatible with Google ...\u001b[0m\n",
      "\u001b[93m16: Guess: $30.99 Truth: $109.95 Error: $78.96 SLE: 1.55 Item: 4-Pack(1BK+1C+1M+1Y) TN225 Toner Cartrid...\u001b[0m\n",
      "\u001b[92m17: Guess: $200.00 Truth: $185.99 Error: $14.01 SLE: 0.01 Item: CURT 13198 Class 3 Trailer Hitch, 2-Inch...\u001b[0m\n",
      "\u001b[93m18: Guess: $199.99 Truth: $251.96 Error: $51.97 SLE: 0.05 Item: X-ACTO 24x24 Commercial Grade Square Gui...\u001b[0m\n",
      "\u001b[92m19: Guess: $79.99 Truth: $79.00 Error: $0.99 SLE: 0.00 Item: Linsoul Tripowin Rhombus 1BA + 1DD Hybri...\u001b[0m\n",
      "\u001b[91m20: Guess: $139.99 Truth: $252.99 Error: $113.00 SLE: 0.35 Item: Covercraft Custom-Fit Front Bench SeatSa...\u001b[0m\n",
      "\u001b[92m21: Guess: $22.99 Truth: $18.59 Error: $4.40 SLE: 0.04 Item: Kohler Genuine Part Gp1138930 Silent Fil...\u001b[0m\n",
      "\u001b[93m22: Guess: $499.99 Truth: $408.49 Error: $91.50 SLE: 0.04 Item: GoPro HERO10 Black (Hero 10) - Waterproo...\u001b[0m\n",
      "\u001b[92m23: Guess: $29.99 Truth: $38.99 Error: $9.00 SLE: 0.07 Item: SupeDesk Book Stand for Reading,Book Hol...\u001b[0m\n",
      "\u001b[92m24: Guess: $12.99 Truth: $42.99 Error: $30.00 SLE: 1.31 Item: 24 Set Football Ball Cups with Straws an...\u001b[0m\n",
      "\u001b[91m25: Guess: $129.99 Truth: $273.75 Error: $143.76 SLE: 0.55 Item: Moen Voss Oil Rubbed Bronze One-Handle H...\u001b[0m\n",
      "\u001b[93m26: Guess: $100.00 Truth: $179.99 Error: $79.99 SLE: 0.34 Item: LINCO Lincostore 12x20 feet Heavy Duty P...\u001b[0m\n",
      "\u001b[92m27: Guess: $150.00 Truth: $173.65 Error: $23.65 SLE: 0.02 Item: 2019 Kawasaki Ninja ZX-6R SEAT COWL PEAR...\u001b[0m\n",
      "\u001b[93m28: Guess: $129.99 Truth: $79.00 Error: $50.99 SLE: 0.24 Item: SKIL SR6607B-10 20V Brushless Compact 4-...\u001b[0m\n",
      "\u001b[92m29: Guess: $100.00 Truth: $99.99 Error: $0.01 SLE: 0.00 Item: Monster Rocker 270 Sport Portable Indoor...\u001b[0m\n",
      "\u001b[93m30: Guess: $150.00 Truth: $211.36 Error: $61.36 SLE: 0.12 Item: Phat Idolmaster Cinderella Girls: Mika J...\u001b[0m\n",
      "\u001b[93m31: Guess: $199.99 Truth: $250.21 Error: $50.22 SLE: 0.05 Item: SMARTLINER Floor Mats 3 Rows and Cargo L...\u001b[0m\n",
      "\u001b[92m32: Guess: $200.00 Truth: $229.71 Error: $29.71 SLE: 0.02 Item: Schlage F62-CAM-ACC-LH Matte Black Handl...\u001b[0m\n",
      "\u001b[92m33: Guess: $19.99 Truth: $47.32 Error: $27.33 SLE: 0.70 Item: Monster Smart Phone Car Mount, Fits Most...\u001b[0m\n",
      "\u001b[92m34: Guess: $199.99 Truth: $162.39 Error: $37.60 SLE: 0.04 Item: Power Acoustik MA4 3000D Razor Marine Se...\u001b[0m\n",
      "\u001b[92m35: Guess: $30.00 Truth: $60.62 Error: $30.62 SLE: 0.47 Item: Compatible with OnePlus 5 Screen Replace...\u001b[0m\n",
      "\u001b[93m36: Guess: $250.00 Truth: $205.74 Error: $44.26 SLE: 0.04 Item: Universal Air Conditioner KT 1105 A/C Co...\u001b[0m\n",
      "\u001b[92m37: Guess: $199.99 Truth: $187.93 Error: $12.06 SLE: 0.00 Item: Aurora FC-102BK Modern Soho Design 2-Dra...\u001b[0m\n",
      "\u001b[91m38: Guess: $100.00 Truth: $198.00 Error: $98.00 SLE: 0.46 Item: Pentax IQZoom 170SL Date Camera\u001b[0m\n",
      "\u001b[92m39: Guess: $150.00 Truth: $140.75 Error: $9.25 SLE: 0.00 Item: Legends in 3-Dimensions: Marvel Comics C...\u001b[0m\n",
      "\u001b[92m40: Guess: $69.99 Truth: $99.95 Error: $29.96 SLE: 0.12 Item: Compatible with Dodge Durango 2004 2005 ...\u001b[0m\n",
      "\u001b[92m41: Guess: $649.00 Truth: $799.99 Error: $150.99 SLE: 0.04 Item: Sawgrass UHD Virtuoso SG500 Sublimation ...\u001b[0m\n",
      "\u001b[91m42: Guess: $299.99 Truth: $149.99 Error: $150.00 SLE: 0.48 Item: LyxPro SPA-10-10\" Compact Portable PA Sy...\u001b[0m\n",
      "\u001b[92m43: Guess: $150.00 Truth: $182.78 Error: $32.78 SLE: 0.04 Item: Garage-Pro Mirror Compatible with 2015-2...\u001b[0m\n",
      "\u001b[92m44: Guess: $10.99 Truth: $19.35 Error: $8.36 SLE: 0.28 Item: Black Cruzerlite Clone Army TPU Case for...\u001b[0m\n",
      "\u001b[92m45: Guess: $300.00 Truth: $324.72 Error: $24.72 SLE: 0.01 Item: Century Electric B855 2-Horsepower 56Y-F...\u001b[0m\n",
      "\u001b[92m46: Guess: $199.00 Truth: $199.00 Error: $0.00 SLE: 0.00 Item: Kwikset Halo Wi-Fi Smart Door Lock, Keyl...\u001b[0m\n",
      "\u001b[92m47: Guess: $100.00 Truth: $114.98 Error: $14.98 SLE: 0.02 Item: LEDIN 36\" Lx6.5 H Towing Hitch Step Bar ...\u001b[0m\n",
      "\u001b[93m48: Guess: $179.99 Truth: $259.00 Error: $79.01 SLE: 0.13 Item: Solo SG Style DIY Guitar Kit, Basswood B...\u001b[0m\n",
      "\u001b[91m49: Guess: $599.99 Truth: $422.85 Error: $177.14 SLE: 0.12 Item: Motorguide 8M0092070 Xi Series Pinpoint ...\u001b[0m\n",
      "\u001b[93m50: Guess: $25.99 Truth: $99.99 Error: $74.00 SLE: 1.74 Item: Disney Magic Kingdom Game includes Toy\u001b[0m\n",
      "\u001b[92m51: Guess: $15.99 Truth: $36.36 Error: $20.37 SLE: 0.62 Item: PT Cy-Kick CS Aerosol 20oz\u001b[0m\n",
      "\u001b[92m52: Guess: $69.99 Truth: $90.62 Error: $20.63 SLE: 0.07 Item: NSL Gen II 3-Color Temperature LED Task ...\u001b[0m\n",
      "\u001b[93m53: Guess: $85.00 Truth: $138.68 Error: $53.68 SLE: 0.24 Item: MSI Computer Corp. 760GM-P21 (FX) AMD 76...\u001b[0m\n",
      "\u001b[93m54: Guess: $400.00 Truth: $559.00 Error: $159.00 SLE: 0.11 Item: 2020 Lenovo IdeaPad 3 15.6\" FHD LED Back...\u001b[0m\n",
      "\u001b[92m55: Guess: $139.00 Truth: $116.00 Error: $23.00 SLE: 0.03 Item: 18-Volt ONE+ AirStrike 18-Gauge Cordless...\u001b[0m\n",
      "\u001b[91m56: Guess: $120.00 Truth: $208.29 Error: $88.29 SLE: 0.30 Item: Gold Shrine For GMC Yukon Denali/XL Dena...\u001b[0m\n",
      "\u001b[92m57: Guess: $150.00 Truth: $134.00 Error: $16.00 SLE: 0.01 Item: Flexible LCD Motorised TV Stand Lift Mou...\u001b[0m\n",
      "\u001b[91m58: Guess: $100.00 Truth: $379.99 Error: $279.99 SLE: 1.76 Item: AmScope TCS-100 Microscope Temperature C...\u001b[0m\n",
      "\u001b[91m59: Guess: $199.99 Truth: $340.00 Error: $140.01 SLE: 0.28 Item: GOWE Portable Rechargeable Lightest Auto...\u001b[0m\n",
      "\u001b[92m60: Guess: $199.99 Truth: $229.99 Error: $30.00 SLE: 0.02 Item: Billet Specialties 199150 Polished Tri-F...\u001b[0m\n",
      "\u001b[93m61: Guess: $179.99 Truth: $250.99 Error: $71.00 SLE: 0.11 Item: BUMPERS THAT DELIVER - Primered, Rear Bu...\u001b[0m\n",
      "\u001b[92m62: Guess: $150.00 Truth: $136.56 Error: $13.44 SLE: 0.01 Item: Detroit Axle - 12PC Front Lower Control ...\u001b[0m\n",
      "\u001b[92m63: Guess: $30.99 Truth: $55.98 Error: $24.99 SLE: 0.33 Item: HRUIYL 16GB kit (2×8GB) for Apple DDR3L ...\u001b[0m\n",
      "\u001b[91m64: Guess: $199.99 Truth: $35.00 Error: $164.99 SLE: 2.96 Item: Pioneer DJ Remix Software, White (RB-VD1...\u001b[0m\n",
      "\u001b[92m65: Guess: $69.99 Truth: $94.25 Error: $24.26 SLE: 0.09 Item: Adesso 6236-02 Oslo Table Lamp, 22.5 in....\u001b[0m\n",
      "\u001b[92m66: Guess: $699.00 Truth: $829.99 Error: $130.99 SLE: 0.03 Item: Lenovo Ideapad L340 Gaming Laptop, 15.6 ...\u001b[0m\n",
      "\u001b[92m67: Guess: $100.00 Truth: $87.29 Error: $12.71 SLE: 0.02 Item: Adaptiv D-01-13 AdaptivMount Reservoir M...\u001b[0m\n",
      "\u001b[93m68: Guess: $299.99 Truth: $399.99 Error: $100.00 SLE: 0.08 Item: Franklin Iron Works Ulric Heritage Bronz...\u001b[0m\n",
      "\u001b[92m69: Guess: $50.00 Truth: $75.00 Error: $25.00 SLE: 0.16 Item: SWARK AMOLED Compatible with Samsung Gal...\u001b[0m\n",
      "\u001b[92m70: Guess: $299.99 Truth: $299.99 Error: $0.00 SLE: 0.00 Item: NUBEHONE Rear High Wing Spoiler Fit for ...\u001b[0m\n",
      "\u001b[92m71: Guess: $150.00 Truth: $112.99 Error: $37.01 SLE: 0.08 Item: OMEX TRIUMPH NORTON BSA 32 PC. 1/4\" - 3/...\u001b[0m\n",
      "\u001b[93m72: Guess: $125.00 Truth: $199.99 Error: $74.99 SLE: 0.22 Item: ASURION 4 Year Tablet Accident Protectio...\u001b[0m\n",
      "\u001b[93m73: Guess: $199.99 Truth: $286.98 Error: $86.99 SLE: 0.13 Item: Roadanvi 10.2\" Android Car Stereo for Ni...\u001b[0m\n",
      "\u001b[91m74: Guess: $199.99 Truth: $119.95 Error: $80.04 SLE: 0.26 Item: Douglas EGC-450LP Faux Tweed/Gold Les Pa...\u001b[0m\n",
      "\u001b[93m75: Guess: $100.00 Truth: $173.69 Error: $73.69 SLE: 0.30 Item: Monroe Shocks & Struts Quick-Strut 17141...\u001b[0m\n",
      "\u001b[92m76: Guess: $199.99 Truth: $209.00 Error: $9.01 SLE: 0.00 Item: 7artisans 50mm F0.95 APS-C Manual Fixed ...\u001b[0m\n",
      "\u001b[92m77: Guess: $65.99 Truth: $56.28 Error: $9.71 SLE: 0.02 Item: KYB 235058 Excel-G Gas Strut\u001b[0m\n",
      "\u001b[91m78: Guess: $299.99 Truth: $699.00 Error: $399.01 SLE: 0.71 Item: Enginetech GM AFM DOD Replacement Kit Li...\u001b[0m\n",
      "\u001b[92m79: Guess: $120.00 Truth: $134.59 Error: $14.59 SLE: 0.01 Item: B&S BROWN SHARPE 9# Collet 11Pc Set 1/8\"...\u001b[0m\n",
      "\u001b[91m80: Guess: $47.99 Truth: $130.76 Error: $82.77 SLE: 0.98 Item: Aviditi HD14468FOL Side Loading Boxes, 1...\u001b[0m\n",
      "\u001b[91m81: Guess: $1,200.00 Truth: $733.97 Error: $466.03 SLE: 0.24 Item: Ranch Hand GGD02HBL1 Legend Grille Guard...\u001b[0m\n",
      "\u001b[91m82: Guess: $450.00 Truth: $949.95 Error: $499.95 SLE: 0.56 Item: Supermicro X9QRI-F+ Motherboard\u001b[0m\n",
      "\u001b[91m83: Guess: $50.00 Truth: $249.99 Error: $199.99 SLE: 2.54 Item: Intel D815EEA2 815e Fcpga Socket 370 ATX...\u001b[0m\n",
      "\u001b[92m84: Guess: $34.99 Truth: $52.40 Error: $17.41 SLE: 0.16 Item: 14\" X 30\" Steel Return Air Filter Grille...\u001b[0m\n",
      "\u001b[91m85: Guess: $299.99 Truth: $169.00 Error: $130.99 SLE: 0.33 Item: Banks 42191 Super Scoop with Pointed Bum...\u001b[0m\n",
      "\u001b[91m86: Guess: $85.00 Truth: $251.97 Error: $166.97 SLE: 1.16 Item: Moen 90 Degree Chrome Eco-Performance Ha...\u001b[0m\n",
      "\u001b[93m87: Guess: $100.00 Truth: $162.00 Error: $62.00 SLE: 0.23 Item: Kenroy Home 20955VB Tifton Floor Lamps, ...\u001b[0m\n",
      "\u001b[92m88: Guess: $65.99 Truth: $71.08 Error: $5.09 SLE: 0.01 Item: Lithonia Lighting ECBR M6 LED Exit and E...\u001b[0m\n",
      "\u001b[92m89: Guess: $12.99 Truth: $4.99 Error: $8.00 SLE: 0.72 Item: 2 Pack Galaxy Slime Kit Christmas Stocki...\u001b[0m\n",
      "\u001b[92m90: Guess: $150.00 Truth: $120.69 Error: $29.31 SLE: 0.05 Item: Cokin Expert ND Creative Kit - Includes ...\u001b[0m\n",
      "\u001b[93m91: Guess: $499.99 Truth: $629.95 Error: $129.96 SLE: 0.05 Item: 800/1200R Cylinder Kit Compatible with Y...\u001b[0m\n",
      "\u001b[92m92: Guess: $299.99 Truth: $349.99 Error: $50.00 SLE: 0.02 Item: Lenovo - Corporate Monitors M14T A20140F...\u001b[0m\n",
      "\u001b[92m93: Guess: $45.99 Truth: $45.99 Error: $0.00 SLE: 0.00 Item: Dusk to Dawn Outdoor Wall Lighting, Farm...\u001b[0m\n",
      "\u001b[93m94: Guess: $150.00 Truth: $93.60 Error: $56.40 SLE: 0.22 Item: LED Spot Light- Charcoal Black, BKSPOT\u001b[0m\n",
      "\u001b[91m95: Guess: $600.00 Truth: $264.38 Error: $335.62 SLE: 0.67 Item: Smittybilt XRC Rock Sliders (Black) - 76...\u001b[0m\n",
      "\u001b[92m96: Guess: $299.99 Truth: $263.22 Error: $36.77 SLE: 0.02 Item: Power Steering Gearbox Gear Box for Ford...\u001b[0m\n",
      "\u001b[91m97: Guess: $100.00 Truth: $186.87 Error: $86.87 SLE: 0.39 Item: Evan Fischer Headlight Kit Compatible Wi...\u001b[0m\n",
      "\u001b[93m98: Guess: $100.00 Truth: $158.95 Error: $58.95 SLE: 0.21 Item: MPC OEM Key Fob Activated Remote Start f...\u001b[0m\n",
      "\u001b[92m99: Guess: $349.00 Truth: $314.99 Error: $34.01 SLE: 0.01 Item: LEGO Icons Real Madrid Santiago Bernabéu...\u001b[0m\n",
      "\u001b[92m100: Guess: $39.99 Truth: $77.00 Error: $37.01 SLE: 0.41 Item: General Finishes Exterior 450 Water Base...\u001b[0m\n",
      "\u001b[91m101: Guess: $100.00 Truth: $213.26 Error: $113.26 SLE: 0.57 Item: Innovative Products Of America #7884 Dis...\u001b[0m\n",
      "\u001b[93m102: Guess: $150.00 Truth: $221.00 Error: $71.00 SLE: 0.15 Item: 3D MAXpider All-Weather Floor Mats for F...\u001b[0m\n",
      "\u001b[91m103: Guess: $150.00 Truth: $340.99 Error: $190.99 SLE: 0.67 Item: MBI AUTO - Painted To Match, Front Bumpe...\u001b[0m\n",
      "\u001b[92m104: Guess: $22.99 Truth: $48.97 Error: $25.98 SLE: 0.54 Item: Ekena Millwork RUNP06X0625X48PRK Parker ...\u001b[0m\n",
      "\u001b[92m105: Guess: $8.99 Truth: $2.80 Error: $6.19 SLE: 0.93 Item: Glow in The Dark Tape 9.8 FT Luminous Ph...\u001b[0m\n",
      "\u001b[91m106: Guess: $139.99 Truth: $59.99 Error: $80.00 SLE: 0.70 Item: Donner Electronic Drum Set, 7 Pads Elect...\u001b[0m\n",
      "\u001b[92m107: Guess: $22.99 Truth: $40.99 Error: $18.00 SLE: 0.31 Item: Zgxhga Compatible with Apple Watch SE Sc...\u001b[0m\n",
      "\u001b[93m108: Guess: $100.00 Truth: $48.04 Error: $51.96 SLE: 0.52 Item: Speaker System\u001b[0m\n",
      "\u001b[91m109: Guess: $100.00 Truth: $249.99 Error: $149.99 SLE: 0.83 Item: 4Pack 100W LED Wall Pack Light, 12000LM ...\u001b[0m\n",
      "\u001b[92m110: Guess: $100.00 Truth: $138.37 Error: $38.37 SLE: 0.10 Item: Moto Hose Hose Kit (BLUE) For 14-24 KAWA...\u001b[0m\n",
      "\u001b[91m111: Guess: $120.00 Truth: $489.90 Error: $369.90 SLE: 1.96 Item: DYRABREST E12x14Crystal Flush Mount Ceil...\u001b[0m\n",
      "\u001b[92m112: Guess: $180.99 Truth: $162.14 Error: $18.85 SLE: 0.01 Item: Detroit Axle - Front CV Axle Drive Shaft...\u001b[0m\n",
      "\u001b[92m113: Guess: $199.99 Truth: $188.00 Error: $11.99 SLE: 0.00 Item: ECOTRIC 5 Truck Bed Rails Compatible wit...\u001b[0m\n",
      "\u001b[93m114: Guess: $49.99 Truth: $129.00 Error: $79.01 SLE: 0.88 Item: QuietCool Wireless RF Control Kit\u001b[0m\n",
      "\u001b[93m115: Guess: $139.99 Truth: $88.35 Error: $51.64 SLE: 0.21 Item: Qpower BQGMC102001HD Dual 10 Chevy/gmc C...\u001b[0m\n",
      "\u001b[92m116: Guess: $299.99 Truth: $299.94 Error: $0.05 SLE: 0.00 Item: Progressive Suspension 412-4038C Chrome ...\u001b[0m\n",
      "\u001b[92m117: Guess: $150.00 Truth: $115.99 Error: $34.01 SLE: 0.07 Item: 2G+32G Android Car Stereo with Wireless ...\u001b[0m\n",
      "\u001b[92m118: Guess: $199.99 Truth: $234.56 Error: $34.57 SLE: 0.03 Item: Mishimoto MMRT-CAM-16EBK Aluminum Overfl...\u001b[0m\n",
      "\u001b[93m119: Guess: $150.00 Truth: $223.99 Error: $73.99 SLE: 0.16 Item: Standard Motor Products S20039 Electroni...\u001b[0m\n",
      "\u001b[91m120: Guess: $699.00 Truth: $339.95 Error: $359.05 SLE: 0.52 Item: Flowmaster 817965 Outlaw Extreme Cat-Bac...\u001b[0m\n",
      "\u001b[91m121: Guess: $150.00 Truth: $55.37 Error: $94.63 SLE: 0.97 Item: Hatch RS12-105-277 - 105 Watt Max. - Ele...\u001b[0m\n",
      "\u001b[92m122: Guess: $180.00 Truth: $193.26 Error: $13.26 SLE: 0.00 Item: A-Frame Sidewalk Sign for 20 x 27-1/2-In...\u001b[0m\n",
      "\u001b[92m123: Guess: $99.99 Truth: $106.34 Error: $6.35 SLE: 0.00 Item: DEWALT Torque Wrench, Micro Adjust, 3/8\"...\u001b[0m\n",
      "\u001b[92m124: Guess: $65.99 Truth: $79.00 Error: $13.01 SLE: 0.03 Item: HOBBYSOUL 5.12'' / 130mm 2.2 Tires & All...\u001b[0m\n",
      "\u001b[91m125: Guess: $99.00 Truth: $283.81 Error: $184.81 SLE: 1.10 Item: APEC Water Systems Faucet-HC-RIA-CM Rial...\u001b[0m\n",
      "\u001b[92m126: Guess: $299.99 Truth: $335.49 Error: $35.50 SLE: 0.01 Item: TRENDnet 10-Port Industrial Gigabit PoE+...\u001b[0m\n",
      "\u001b[92m127: Guess: $399.99 Truth: $448.72 Error: $48.73 SLE: 0.01 Item: Blast Zone Big Ol Bouncer - 15x12 Inflat...\u001b[0m\n",
      "\u001b[93m128: Guess: $150.00 Truth: $249.99 Error: $99.99 SLE: 0.26 Item: NPYSVSSS Ceiling Rain Shower System with...\u001b[0m\n",
      "\u001b[92m129: Guess: $199.99 Truth: $163.00 Error: $36.99 SLE: 0.04 Item: HP Newest Chromebook 11.6\" HD (1366 x 76...\u001b[0m\n",
      "\u001b[92m130: Guess: $39.99 Truth: $18.31 Error: $21.68 SLE: 0.57 Item: 'Antier Amplified Indoor Outdoor Digital...\u001b[0m\n",
      "\u001b[92m131: Guess: $250.00 Truth: $208.41 Error: $41.59 SLE: 0.03 Item: AC Compressor w/A/C Drier For Nissan Rog...\u001b[0m\n",
      "\u001b[92m132: Guess: $69.99 Truth: $44.44 Error: $25.55 SLE: 0.20 Item: NewPath Learning 10 Piece Thinking Graph...\u001b[0m\n",
      "\u001b[92m133: Guess: $299.99 Truth: $362.49 Error: $62.50 SLE: 0.04 Item: Apple Watch Series 6 40mm GPS + Cellular...\u001b[0m\n",
      "\u001b[92m134: Guess: $100.00 Truth: $98.14 Error: $1.86 SLE: 0.00 Item: Genuine Hyundai 25281-2G652 Timing Belt ...\u001b[0m\n",
      "\u001b[92m135: Guess: $199.99 Truth: $232.95 Error: $32.96 SLE: 0.02 Item: KONIG Ampliform Wheels Gloss Bronze Alum...\u001b[0m\n",
      "\u001b[93m136: Guess: $299.99 Truth: $239.95 Error: $60.04 SLE: 0.05 Item: BETTERCABLES.COM Better Cables Blue Trut...\u001b[0m\n",
      "\u001b[92m137: Guess: $29.99 Truth: $15.99 Error: $14.00 SLE: 0.36 Item: Smart Ink Compatible Ink Cartridge Repla...\u001b[0m\n",
      "\u001b[92m138: Guess: $34.99 Truth: $34.89 Error: $0.10 SLE: 0.00 Item: Fan Blade Designs Illinois State Redbird...\u001b[0m\n",
      "\u001b[93m139: Guess: $150.00 Truth: $201.24 Error: $51.24 SLE: 0.09 Item: Packard 1/8 Hp 1550/1300/1050Rpm 115V Mo...\u001b[0m\n",
      "\u001b[92m140: Guess: $299.99 Truth: $333.83 Error: $33.84 SLE: 0.01 Item: AEM 21-814C Replacement Air Filter, 1 Pa...\u001b[0m\n",
      "\u001b[92m141: Guess: $599.99 Truth: $629.00 Error: $29.01 SLE: 0.00 Item: Sawgrass SG500 Sublimation Printer - Bun...\u001b[0m\n",
      "\u001b[91m142: Guess: $150.00 Truth: $285.41 Error: $135.41 SLE: 0.41 Item: For Ford Five Hundred Freestyle & Mercur...\u001b[0m\n",
      "\u001b[91m143: Guess: $299.99 Truth: $885.00 Error: $585.01 SLE: 1.17 Item: Brother HL-4070CDW Color Laser Printer w...\u001b[0m\n",
      "\u001b[91m144: Guess: $249.95 Truth: $144.00 Error: $105.95 SLE: 0.30 Item: Lowepro LP37014-PWW, Flipside Trek BP 25...\u001b[0m\n",
      "\u001b[92m145: Guess: $299.99 Truth: $299.99 Error: $0.00 SLE: 0.00 Item: SimpliSafe 9 Piece Wireless Home Securit...\u001b[0m\n",
      "\u001b[92m146: Guess: $199.99 Truth: $211.72 Error: $11.73 SLE: 0.00 Item: Rear Loaded Quick Complete Strut Spring ...\u001b[0m\n",
      "\u001b[92m147: Guess: $120.00 Truth: $118.99 Error: $1.01 SLE: 0.00 Item: wanan Toddler Slide Indoor, Kids Slide f...\u001b[0m\n",
      "\u001b[93m148: Guess: $65.00 Truth: $126.00 Error: $61.00 SLE: 0.43 Item: Large Multi Purpose Sales Book Invoice, ...\u001b[0m\n",
      "\u001b[91m149: Guess: $69.99 Truth: $191.19 Error: $121.20 SLE: 0.99 Item: GLI Led Open Sign with Business Hours – ...\u001b[0m\n",
      "\u001b[91m150: Guess: $150.00 Truth: $385.48 Error: $235.48 SLE: 0.88 Item: Rareelectrical NEW 12V STARTER COMPATIBL...\u001b[0m\n",
      "\u001b[92m151: Guess: $200.00 Truth: $212.00 Error: $12.00 SLE: 0.00 Item: Motegi MR118 18X8 5X4.5 M-BLK 45MM - MR1...\u001b[0m\n",
      "\u001b[93m152: Guess: $249.99 Truth: $179.03 Error: $70.96 SLE: 0.11 Item: Garmin 010-01207-00 Pro Control 2 Remote...\u001b[0m\n",
      "\u001b[92m153: Guess: $150.00 Truth: $120.95 Error: $29.05 SLE: 0.05 Item: RAREELECTRICAL New Starter Motor Compati...\u001b[0m\n",
      "\u001b[92m154: Guess: $350.00 Truth: $355.98 Error: $5.98 SLE: 0.00 Item: Power Stop CRK1431 Coated Brake Rotor & ...\u001b[0m\n",
      "\u001b[92m155: Guess: $100.00 Truth: $127.05 Error: $27.05 SLE: 0.06 Item: DC Collectibles Man of Steel Superman vs...\u001b[0m\n",
      "\u001b[93m156: Guess: $29.99 Truth: $94.99 Error: $65.00 SLE: 1.28 Item: Upgradelights Set of Six White with Gold...\u001b[0m\n",
      "\u001b[92m157: Guess: $12.99 Truth: $19.42 Error: $6.43 SLE: 0.14 Item: 3dRose LLC Pink Flowers on Black - Mouse...\u001b[0m\n",
      "\u001b[92m158: Guess: $100.00 Truth: $90.99 Error: $9.01 SLE: 0.01 Item: Pemberly Row Torchiere Metal Aged Floor ...\u001b[0m\n",
      "\u001b[91m159: Guess: $139.99 Truth: $239.99 Error: $100.00 SLE: 0.29 Item: Evotech Performance Fender Eliminator/Ta...\u001b[0m\n",
      "\u001b[93m160: Guess: $100.00 Truth: $162.50 Error: $62.50 SLE: 0.23 Item: 6pc jumbo metric combination spanner (op...\u001b[0m\n",
      "\u001b[92m161: Guess: $30.99 Truth: $24.99 Error: $6.00 SLE: 0.04 Item: fotoconic Motorized Rotating Display Sta...\u001b[0m\n",
      "\u001b[91m162: Guess: $499.99 Truth: $276.99 Error: $223.00 SLE: 0.35 Item: Hiseeu Wireless Security Camera System O...\u001b[0m\n",
      "\u001b[92m163: Guess: $30.00 Truth: $27.88 Error: $2.12 SLE: 0.01 Item: HP Ultraslim Keyed Cable Lock H4D73AA\u001b[0m\n",
      "\u001b[92m164: Guess: $69.99 Truth: $66.43 Error: $3.56 SLE: 0.00 Item: BOSCH 53011403 QuietCast Premium Disc Br...\u001b[0m\n",
      "\u001b[93m165: Guess: $199.99 Truth: $159.99 Error: $40.00 SLE: 0.05 Item: JOY worker White Electric Standing Desk ...\u001b[0m\n",
      "\u001b[93m166: Guess: $180.00 Truth: $289.99 Error: $109.99 SLE: 0.23 Item: AKKON - Fits 2017-2021 Jeep Grand Cherok...\u001b[0m\n",
      "\u001b[91m167: Guess: $179.99 Truth: $93.88 Error: $86.11 SLE: 0.42 Item: Kensington Surface Pro 8 Rugged Case (K9...\u001b[0m\n",
      "\u001b[92m168: Guess: $22.99 Truth: $33.46 Error: $10.47 SLE: 0.13 Item: C. K Tools T4840XESD50 Xonic ESD Precisi...\u001b[0m\n",
      "\u001b[92m169: Guess: $65.99 Truth: $78.95 Error: $12.96 SLE: 0.03 Item: Panasonic KX-TG6572R DECT 6.0 Cordless P...\u001b[0m\n",
      "\u001b[91m170: Guess: $49.99 Truth: $269.95 Error: $219.96 SLE: 2.79 Item: VMS Racing 14x1.5 32PC 124mm Cold Forged...\u001b[0m\n",
      "\u001b[92m171: Guess: $300.00 Truth: $295.00 Error: $5.00 SLE: 0.00 Item: Enginetech RCC305A Rebuild GM 5.0L 305\u001b[0m\n",
      "\u001b[92m172: Guess: $45.99 Truth: $51.99 Error: $6.00 SLE: 0.01 Item: Arrma AR220029 Center 50T Differential S...\u001b[0m\n",
      "\u001b[92m173: Guess: $25.99 Truth: $43.91 Error: $17.92 SLE: 0.26 Item: HS Power CHROME CLEAR SIGNAL BUMPER LIGH...\u001b[0m\n",
      "\u001b[91m174: Guess: $649.00 Truth: $403.09 Error: $245.91 SLE: 0.23 Item: Zhiyun Crane 3S 3-Axis Handheld Gimbal S...\u001b[0m\n",
      "\u001b[92m175: Guess: $250.00 Truth: $230.88 Error: $19.12 SLE: 0.01 Item: ﻿6 Inches Side Step Nerf Bar Running Boa...\u001b[0m\n",
      "\u001b[92m176: Guess: $199.99 Truth: $165.90 Error: $34.09 SLE: 0.03 Item: Leica DISTO D110 (E7100i) 60m/200ft Lase...\u001b[0m\n",
      "\u001b[92m177: Guess: $79.99 Truth: $79.95 Error: $0.04 SLE: 0.00 Item: Offroam Phone Mount Compatible for Toyot...\u001b[0m\n",
      "\u001b[93m178: Guess: $30.99 Truth: $103.72 Error: $72.73 SLE: 1.41 Item: Reflectix BP48050 48-Inch-by-50-Feet Squ...\u001b[0m\n",
      "\u001b[91m179: Guess: $120.00 Truth: $206.99 Error: $86.99 SLE: 0.29 Item: CTLAMP E49 Replacement Lamp - 200W UHE -...\u001b[0m\n",
      "\u001b[92m180: Guess: $199.99 Truth: $174.99 Error: $25.00 SLE: 0.02 Item: Wearable4U Bushnell Wingman GPS Bluetoot...\u001b[0m\n",
      "\u001b[93m181: Guess: $299.99 Truth: $399.00 Error: $99.01 SLE: 0.08 Item: Canon EOS 4000D DSLR Camera w/Canon EF-S...\u001b[0m\n",
      "\u001b[91m182: Guess: $85.99 Truth: $219.00 Error: $133.01 SLE: 0.86 Item: Mould King 17013 Mobile Cranes Building ...\u001b[0m\n",
      "\u001b[92m183: Guess: $49.99 Truth: $89.95 Error: $39.96 SLE: 0.33 Item: CLC Work Gear PB1531 13\" Molded Base Ele...\u001b[0m\n",
      "\u001b[92m184: Guess: $150.00 Truth: $179.98 Error: $29.98 SLE: 0.03 Item: H World Shopping Adjustable Maritime 10 ...\u001b[0m\n",
      "\u001b[93m185: Guess: $39.99 Truth: $102.99 Error: $63.00 SLE: 0.87 Item: SUNAPEX Solar String Lights for Outside,...\u001b[0m\n",
      "\u001b[92m186: Guess: $450.00 Truth: $398.99 Error: $51.01 SLE: 0.01 Item: aeliussine Pure Sine Wave Power Inverter...\u001b[0m\n",
      "\u001b[92m187: Guess: $34.99 Truth: $47.99 Error: $13.00 SLE: 0.10 Item: Swimways Ultra Baby Spring Float, Premiu...\u001b[0m\n",
      "\u001b[92m188: Guess: $349.95 Truth: $349.95 Error: $0.00 SLE: 0.00 Item: JBL Bar 300: 5.0-Channel Compact All-in-...\u001b[0m\n",
      "\u001b[92m189: Guess: $300.00 Truth: $299.99 Error: $0.01 SLE: 0.00 Item: AEM 21-488B Blue Cold Air Intake System\u001b[0m\n",
      "\u001b[92m190: Guess: $199.99 Truth: $223.53 Error: $23.54 SLE: 0.01 Item: audio-technica Balanced, armature type i...\u001b[0m\n",
      "\u001b[93m191: Guess: $499.99 Truth: $398.98 Error: $101.01 SLE: 0.05 Item: Lenovo Flex 5i 13 Chromebook 2-in-1 Lapt...\u001b[0m\n",
      "\u001b[93m192: Guess: $150.00 Truth: $238.81 Error: $88.81 SLE: 0.21 Item: BMW Genuine Fuel Filter with Fuel Level ...\u001b[0m\n",
      "\u001b[91m193: Guess: $320.00 Truth: $204.99 Error: $115.01 SLE: 0.20 Item: Power Stop K6814 Rear Z23 Carbon Fiber B...\u001b[0m\n",
      "\u001b[91m194: Guess: $135.00 Truth: $311.87 Error: $176.87 SLE: 0.69 Item: Texas Instrument TINSPIRECX TI-Nspire CX...\u001b[0m\n",
      "\u001b[91m195: Guess: $450.00 Truth: $192.00 Error: $258.00 SLE: 0.72 Item: Platinum Fountain Pen President #1 Black...\u001b[0m\n",
      "\u001b[91m196: Guess: $100.00 Truth: $277.00 Error: $177.00 SLE: 1.03 Item: 3M Aqua-Pure Whole House Standard Diamet...\u001b[0m\n",
      "\u001b[92m197: Guess: $110.00 Truth: $114.65 Error: $4.65 SLE: 0.00 Item: LeBra Front End Cover Lexus GS - Vinyl, ...\u001b[0m\n",
      "\u001b[93m198: Guess: $100.00 Truth: $168.00 Error: $68.00 SLE: 0.26 Item: JIAMAOXIN Car Seat Covers Full Set Fit f...\u001b[0m\n",
      "\u001b[92m199: Guess: $25.99 Truth: $27.96 Error: $1.97 SLE: 0.00 Item: Maisto Volkswagen Van \"Samba\" Bus, Red &...\u001b[0m\n",
      "\u001b[92m200: Guess: $550.00 Truth: $492.71 Error: $57.29 SLE: 0.01 Item: Bilstein 5100 Gas Adj Struts & Shocks Se...\u001b[0m\n",
      "\u001b[92m201: Guess: $85.99 Truth: $123.50 Error: $37.51 SLE: 0.13 Item: Unity Lock 2 3/4\" 70mm Stainless Steel D...\u001b[0m\n",
      "\u001b[91m202: Guess: $299.99 Truth: $192.98 Error: $107.01 SLE: 0.19 Item: HP 600 G2 ProDesk SFF Desktop, Intel Qua...\u001b[0m\n",
      "\u001b[93m203: Guess: $249.99 Truth: $336.63 Error: $86.64 SLE: 0.09 Item: Asmus Toys Evil Dead II Series: Ash Will...\u001b[0m\n",
      "\u001b[93m204: Guess: $199.99 Truth: $139.99 Error: $60.00 SLE: 0.13 Item: Sardoxx DJ Booth DJ Facade White+Black F...\u001b[0m\n",
      "\u001b[92m205: Guess: $25.99 Truth: $18.99 Error: $7.00 SLE: 0.09 Item: abcGoodefg Belt Clip for Motorola PMNN42...\u001b[0m\n",
      "\u001b[93m206: Guess: $289.99 Truth: $430.00 Error: $140.01 SLE: 0.15 Item: XTTEK 7 inch HD 1024x600 Multi-Touch Scr...\u001b[0m\n",
      "\u001b[91m207: Guess: $180.00 Truth: $409.00 Error: $229.00 SLE: 0.67 Item: Woods 019603R02 6506TLSX 50A Temp PWR X-...\u001b[0m\n",
      "\u001b[93m208: Guess: $199.00 Truth: $330.55 Error: $131.55 SLE: 0.26 Item: Salsbury Industries 3503SRU Recessed Mou...\u001b[0m\n",
      "\u001b[91m209: Guess: $499.99 Truth: $242.99 Error: $257.00 SLE: 0.52 Item: Patriot Exhaust H8025 1-5/8\" Tri-5 Exhau...\u001b[0m\n",
      "\u001b[91m210: Guess: $100.00 Truth: $272.17 Error: $172.17 SLE: 0.99 Item: Dolan Designs 3406-26 Southport 6 Light ...\u001b[0m\n",
      "\u001b[91m211: Guess: $120.00 Truth: $266.00 Error: $146.00 SLE: 0.63 Item: 1.50\" Bora Wheel Spacers for Chevy 8x6.5\u001b[0m\n",
      "\u001b[92m212: Guess: $50.00 Truth: $32.68 Error: $17.32 SLE: 0.17 Item: LOVE MEI Compatible with iPhone 12 Pro M...\u001b[0m\n",
      "\u001b[92m213: Guess: $289.99 Truth: $351.00 Error: $61.01 SLE: 0.04 Item: Enclosed Outdoor 36\"x24\" One Door Alumin...\u001b[0m\n",
      "\u001b[92m214: Guess: $22.99 Truth: $19.99 Error: $3.00 SLE: 0.02 Item: Lumiverse Dimmable A19 LED Light Bulbs, ...\u001b[0m\n",
      "\u001b[92m215: Guess: $100.00 Truth: $113.87 Error: $13.87 SLE: 0.02 Item: Jabsco ParMax 3-12V 3GPM 40PSI Freshwate...\u001b[0m\n",
      "\u001b[93m216: Guess: $180.00 Truth: $246.88 Error: $66.88 SLE: 0.10 Item: Pair of Rear View Side Towing Mirrors - ...\u001b[0m\n",
      "\u001b[91m217: Guess: $120.00 Truth: $214.98 Error: $94.98 SLE: 0.34 Item: BMW e53 (00-03) Hatch Lock Upper GENUINE...\u001b[0m\n",
      "\u001b[93m218: Guess: $300.00 Truth: $214.32 Error: $85.68 SLE: 0.11 Item: 6 Piece Steering & Suspension Kit Comple...\u001b[0m\n",
      "\u001b[93m219: Guess: $699.99 Truth: $549.99 Error: $150.00 SLE: 0.06 Item: Garmin D2™ Air X10, Touchscreen Aviator ...\u001b[0m\n",
      "\u001b[91m220: Guess: $120.00 Truth: $259.99 Error: $139.99 SLE: 0.59 Item: U-POL Raptor Hot Rod Red Urethane Spray-...\u001b[0m\n",
      "\u001b[91m221: Guess: $29.99 Truth: $169.95 Error: $139.96 SLE: 2.92 Item: House, Home and More Set of 12 Skid-Resi...\u001b[0m\n",
      "\u001b[92m222: Guess: $22.99 Truth: $27.85 Error: $4.86 SLE: 0.03 Item: BEYBLADE Burst Rise Hypersphere Eclipse ...\u001b[0m\n",
      "\u001b[92m223: Guess: $15.99 Truth: $22.00 Error: $6.01 SLE: 0.09 Item: Woapech 1000 Piece Puzzles Rose Corridor...\u001b[0m\n",
      "\u001b[93m224: Guess: $110.99 Truth: $55.99 Error: $55.00 SLE: 0.46 Item: WEZEMLIGHT Fog Lights Assembly Replaceme...\u001b[0m\n",
      "\u001b[91m225: Guess: $499.99 Truth: $304.50 Error: $195.49 SLE: 0.24 Item: Steel Rear Bumper 3 Piece Compatible wit...\u001b[0m\n",
      "\u001b[92m226: Guess: $30.00 Truth: $21.99 Error: $8.01 SLE: 0.09 Item: 12V 8Ah SLA Battery for Opti-UPS 280ES,4...\u001b[0m\n",
      "\u001b[92m227: Guess: $249.99 Truth: $234.83 Error: $15.16 SLE: 0.00 Item: Covercraft Carhartt SeatSaver Custom Sea...\u001b[0m\n",
      "\u001b[92m228: Guess: $449.99 Truth: $499.88 Error: $49.89 SLE: 0.01 Item: LEGO Technic App-Controlled Cat D11 Bull...\u001b[0m\n",
      "\u001b[93m229: Guess: $110.00 Truth: $189.99 Error: $79.99 SLE: 0.29 Item: Brybelly Deluxe Medium Size Raffle Drum ...\u001b[0m\n",
      "\u001b[92m230: Guess: $85.00 Truth: $92.00 Error: $7.00 SLE: 0.01 Item: Pelican 1200 Black & Red with Foam.\u001b[0m\n",
      "\u001b[92m231: Guess: $129.99 Truth: $159.00 Error: $29.01 SLE: 0.04 Item: 4G LTE Cellular Solar Security Camera Ou...\u001b[0m\n",
      "\u001b[91m232: Guess: $150.00 Truth: $292.60 Error: $142.60 SLE: 0.44 Item: Allied Brass RW-34/24 Retro Wave Collect...\u001b[0m\n",
      "\u001b[92m233: Guess: $65.00 Truth: $56.80 Error: $8.20 SLE: 0.02 Item: MOCBUILDING General Grievous Helmet Mode...\u001b[0m\n",
      "\u001b[92m234: Guess: $79.99 Truth: $103.99 Error: $24.00 SLE: 0.07 Item: MokerLink 5 Port 2.5G Ethernet Switch, 5...\u001b[0m\n",
      "\u001b[92m235: Guess: $120.00 Truth: $133.89 Error: $13.89 SLE: 0.01 Item: MAXLINER Custom Fit Floor Mats 2 Row Lin...\u001b[0m\n",
      "\u001b[92m236: Guess: $200.00 Truth: $182.54 Error: $17.46 SLE: 0.01 Item: Power Stop KOE5857 Autospecialty Front R...\u001b[0m\n",
      "\u001b[91m237: Guess: $499.00 Truth: $329.00 Error: $170.00 SLE: 0.17 Item: Parasound Zphono MM/MC Phono Preamplifie...\u001b[0m\n",
      "\u001b[93m238: Guess: $150.00 Truth: $211.23 Error: $61.23 SLE: 0.12 Item: Sony RDR-VXD655 VHS DVD Recorder Combo w...\u001b[0m\n",
      "\u001b[93m239: Guess: $180.00 Truth: $108.59 Error: $71.41 SLE: 0.25 Item: LITFAD Tiffany-Style Victorian Ceiling P...\u001b[0m\n",
      "\u001b[92m240: Guess: $150.00 Truth: $147.50 Error: $2.50 SLE: 0.00 Item: Collective Design L8018ADSAM, Brushed Ni...\u001b[0m\n",
      "\u001b[93m241: Guess: $100.00 Truth: $57.01 Error: $42.99 SLE: 0.31 Item: BRIGHTFOCAL New Screen Replacement for H...\u001b[0m\n",
      "\u001b[92m242: Guess: $39.99 Truth: $75.50 Error: $35.51 SLE: 0.39 Item: 45N1103 Laptop Batteries for ThinkPad He...\u001b[0m\n",
      "\u001b[91m243: Guess: $150.00 Truth: $364.84 Error: $214.84 SLE: 0.78 Item: Genuine Chrysler 4578052AA Engine Mount ...\u001b[0m\n",
      "\u001b[91m244: Guess: $65.00 Truth: $290.87 Error: $225.87 SLE: 2.21 Item: Genuine Chrysler 4663792AE Fuel Cylinder...\u001b[0m\n",
      "\u001b[92m245: Guess: $300.00 Truth: $367.99 Error: $67.99 SLE: 0.04 Item: Modern Stainless Steel Kitchen Sink with...\u001b[0m\n",
      "\u001b[93m246: Guess: $250.00 Truth: $399.95 Error: $149.95 SLE: 0.22 Item: Evergreen OK8004/0/0/0 Fits 99-03 Chevro...\u001b[0m\n",
      "\u001b[93m247: Guess: $150.00 Truth: $85.00 Error: $65.00 SLE: 0.32 Item: Auto Seat Replacement 2000 2001 2002 GMC...\u001b[0m\n",
      "\u001b[93m248: Guess: $199.00 Truth: $249.00 Error: $50.00 SLE: 0.05 Item: Dino-Lite AM412N Portable Digital Micros...\u001b[0m\n",
      "\u001b[93m249: Guess: $100.99 Truth: $57.01 Error: $43.98 SLE: 0.32 Item: Caltric Green O-Ring Drive Chain & Sproc...\u001b[0m\n",
      "\u001b[92m250: Guess: $179.99 Truth: $162.84 Error: $17.15 SLE: 0.01 Item: Cycle Electric Stator for Harley Davidso...\u001b[0m\n"
     ]
    },
    {
     "data": {
      "image/png": "[encoded data removed]",
      "text/plain": [
       "<Figure size 1200x800 with 1 Axes>"
      ]
     },
     "metadata": {},
     "output_type": "display_data"
    }
   ],
   "source": [
    "Tester.test(gpt_fine_tuned, test)"
   ]
  },
  {
   "cell_type": "code",
   "execution_count": null,
   "id": "00fc60a6-516f-4162-96e6-4e6c655a2bd3",
   "metadata": {},
   "outputs": [],
   "source": []
  }
 ],
 "metadata": {
  "kernelspec": {
   "display_name": "Python 3 (ipykernel)",
   "language": "python",
   "name": "python3"
  },
  "language_info": {
   "codemirror_mode": {
    "name": "ipython",
    "version": 3
   },
   "file_extension": ".py",
   "mimetype": "text/x-python",
   "name": "python",
   "nbconvert_exporter": "python",
   "pygments_lexer": "ipython3",
   "version": "3.12.7"
  }
 },
 "nbformat": 4,
 "nbformat_minor": 5
}
