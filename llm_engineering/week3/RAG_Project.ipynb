{
 "cells": [
  {
   "cell_type": "code",
   "execution_count": 1,
   "id": "9ba7637c-66a3-455b-b0ef-c3042e07687a",
   "metadata": {},
   "outputs": [
    {
     "name": "stdout",
     "output_type": "stream",
     "text": [
      "Requirement already satisfied: gradio in /usr/local/lib/python3.12/dist-packages (5.25.2)\n",
      "Requirement already satisfied: aiofiles<25.0,>=22.0 in /usr/local/lib/python3.12/dist-packages (from gradio) (24.1.0)\n",
      "Requirement already satisfied: anyio<5.0,>=3.0 in /usr/local/lib/python3.12/dist-packages (from gradio) (4.8.0)\n",
      "Requirement already satisfied: fastapi<1.0,>=0.115.2 in /usr/local/lib/python3.12/dist-packages (from gradio) (0.115.8)\n",
      "Requirement already satisfied: ffmpy in /usr/local/lib/python3.12/dist-packages (from gradio) (0.5.0)\n",
      "Requirement already satisfied: gradio-client==1.8.0 in /usr/local/lib/python3.12/dist-packages (from gradio) (1.8.0)\n",
      "Requirement already satisfied: groovy~=0.1 in /usr/local/lib/python3.12/dist-packages (from gradio) (0.1.2)\n",
      "Requirement already satisfied: httpx>=0.24.1 in /usr/local/lib/python3.12/dist-packages (from gradio) (0.28.1)\n",
      "Requirement already satisfied: huggingface-hub>=0.28.1 in /usr/local/lib/python3.12/dist-packages (from gradio) (0.30.2)\n",
      "Requirement already satisfied: jinja2<4.0 in /usr/local/lib/python3.12/dist-packages (from gradio) (3.1.5)\n",
      "Requirement already satisfied: markupsafe<4.0,>=2.0 in /usr/local/lib/python3.12/dist-packages (from gradio) (3.0.2)\n",
      "Requirement already satisfied: numpy<3.0,>=1.0 in /usr/local/lib/python3.12/dist-packages (from gradio) (1.26.4)\n",
      "Requirement already satisfied: orjson~=3.0 in /usr/local/lib/python3.12/dist-packages (from gradio) (3.10.16)\n",
      "Requirement already satisfied: packaging in /usr/local/lib/python3.12/dist-packages (from gradio) (24.2)\n",
      "Requirement already satisfied: pandas<3.0,>=1.0 in /usr/local/lib/python3.12/dist-packages (from gradio) (2.2.3)\n",
      "Requirement already satisfied: pillow<12.0,>=8.0 in /usr/local/lib/python3.12/dist-packages (from gradio) (11.0.0)\n",
      "Requirement already satisfied: pydantic<2.12,>=2.0 in /usr/local/lib/python3.12/dist-packages (from gradio) (2.10.6)\n",
      "Requirement already satisfied: pydub in /usr/local/lib/python3.12/dist-packages (from gradio) (0.25.1)\n",
      "Requirement already satisfied: python-multipart>=0.0.18 in /usr/local/lib/python3.12/dist-packages (from gradio) (0.0.20)\n",
      "Requirement already satisfied: pyyaml<7.0,>=5.0 in /usr/local/lib/python3.12/dist-packages (from gradio) (6.0.2)\n",
      "Requirement already satisfied: ruff>=0.9.3 in /usr/local/lib/python3.12/dist-packages (from gradio) (0.11.5)\n",
      "Requirement already satisfied: safehttpx<0.2.0,>=0.1.6 in /usr/local/lib/python3.12/dist-packages (from gradio) (0.1.6)\n",
      "Requirement already satisfied: semantic-version~=2.0 in /usr/local/lib/python3.12/dist-packages (from gradio) (2.10.0)\n",
      "Requirement already satisfied: starlette<1.0,>=0.40.0 in /usr/local/lib/python3.12/dist-packages (from gradio) (0.45.3)\n",
      "Requirement already satisfied: tomlkit<0.14.0,>=0.12.0 in /usr/local/lib/python3.12/dist-packages (from gradio) (0.13.2)\n",
      "Requirement already satisfied: typer<1.0,>=0.12 in /usr/local/lib/python3.12/dist-packages (from gradio) (0.15.1)\n",
      "Requirement already satisfied: typing-extensions~=4.0 in /usr/local/lib/python3.12/dist-packages (from gradio) (4.12.2)\n",
      "Requirement already satisfied: uvicorn>=0.14.0 in /usr/local/lib/python3.12/dist-packages (from gradio) (0.34.0)\n",
      "Requirement already satisfied: fsspec in /usr/local/lib/python3.12/dist-packages (from gradio-client==1.8.0->gradio) (2024.10.0)\n",
      "Requirement already satisfied: websockets<16.0,>=10.0 in /usr/local/lib/python3.12/dist-packages (from gradio-client==1.8.0->gradio) (14.2)\n",
      "Requirement already satisfied: idna>=2.8 in /usr/lib/python3/dist-packages (from anyio<5.0,>=3.0->gradio) (2.8)\n",
      "Requirement already satisfied: sniffio>=1.1 in /usr/local/lib/python3.12/dist-packages (from anyio<5.0,>=3.0->gradio) (1.3.1)\n",
      "Requirement already satisfied: certifi in /usr/local/lib/python3.12/dist-packages (from httpx>=0.24.1->gradio) (2024.8.30)\n",
      "Requirement already satisfied: httpcore==1.* in /usr/local/lib/python3.12/dist-packages (from httpx>=0.24.1->gradio) (1.0.7)\n",
      "Requirement already satisfied: h11<0.15,>=0.13 in /usr/local/lib/python3.12/dist-packages (from httpcore==1.*->httpx>=0.24.1->gradio) (0.14.0)\n",
      "Requirement already satisfied: filelock in /usr/local/lib/python3.12/dist-packages (from huggingface-hub>=0.28.1->gradio) (3.16.1)\n",
      "Requirement already satisfied: requests in /usr/local/lib/python3.12/dist-packages (from huggingface-hub>=0.28.1->gradio) (2.32.3)\n",
      "Requirement already satisfied: tqdm>=4.42.1 in /usr/local/lib/python3.12/dist-packages (from huggingface-hub>=0.28.1->gradio) (4.67.0)\n",
      "Requirement already satisfied: python-dateutil>=2.8.2 in /usr/local/lib/python3.12/dist-packages (from pandas<3.0,>=1.0->gradio) (2.9.0.post0)\n",
      "Requirement already satisfied: pytz>=2020.1 in /usr/local/lib/python3.12/dist-packages (from pandas<3.0,>=1.0->gradio) (2024.2)\n",
      "Requirement already satisfied: tzdata>=2022.7 in /usr/local/lib/python3.12/dist-packages (from pandas<3.0,>=1.0->gradio) (2024.2)\n",
      "Requirement already satisfied: annotated-types>=0.6.0 in /usr/local/lib/python3.12/dist-packages (from pydantic<2.12,>=2.0->gradio) (0.7.0)\n",
      "Requirement already satisfied: pydantic-core==2.27.2 in /usr/local/lib/python3.12/dist-packages (from pydantic<2.12,>=2.0->gradio) (2.27.2)\n",
      "Requirement already satisfied: click>=8.0.0 in /usr/local/lib/python3.12/dist-packages (from typer<1.0,>=0.12->gradio) (8.1.8)\n",
      "Requirement already satisfied: shellingham>=1.3.0 in /usr/local/lib/python3.12/dist-packages (from typer<1.0,>=0.12->gradio) (1.5.4)\n",
      "Requirement already satisfied: rich>=10.11.0 in /usr/local/lib/python3.12/dist-packages (from typer<1.0,>=0.12->gradio) (13.9.4)\n",
      "Requirement already satisfied: six>=1.5 in /usr/local/lib/python3.12/dist-packages (from python-dateutil>=2.8.2->pandas<3.0,>=1.0->gradio) (1.16.0)\n",
      "Requirement already satisfied: markdown-it-py>=2.2.0 in /usr/local/lib/python3.12/dist-packages (from rich>=10.11.0->typer<1.0,>=0.12->gradio) (3.0.0)\n",
      "Requirement already satisfied: pygments<3.0.0,>=2.13.0 in /usr/local/lib/python3.12/dist-packages (from rich>=10.11.0->typer<1.0,>=0.12->gradio) (2.18.0)\n",
      "Requirement already satisfied: charset-normalizer<4,>=2 in /usr/local/lib/python3.12/dist-packages (from requests->huggingface-hub>=0.28.1->gradio) (3.4.0)\n",
      "Requirement already satisfied: urllib3<3,>=1.21.1 in /usr/local/lib/python3.12/dist-packages (from requests->huggingface-hub>=0.28.1->gradio) (2.3.0)\n",
      "Requirement already satisfied: mdurl~=0.1 in /usr/local/lib/python3.12/dist-packages (from markdown-it-py>=2.2.0->rich>=10.11.0->typer<1.0,>=0.12->gradio) (0.1.2)\n",
      "\u001b[33mWARNING: Running pip as the 'root' user can result in broken permissions and conflicting behaviour with the system package manager, possibly rendering your system unusable.It is recommended to use a virtual environment instead: https://pip.pypa.io/warnings/venv. Use the --root-user-action option if you know what you are doing and want to suppress this warning.\u001b[0m\u001b[33m\n",
      "\u001b[0m\n",
      "\u001b[1m[\u001b[0m\u001b[34;49mnotice\u001b[0m\u001b[1;39;49m]\u001b[0m\u001b[39;49m A new release of pip is available: \u001b[0m\u001b[31;49m24.3.1\u001b[0m\u001b[39;49m -> \u001b[0m\u001b[32;49m25.0.1\u001b[0m\n",
      "\u001b[1m[\u001b[0m\u001b[34;49mnotice\u001b[0m\u001b[1;39;49m]\u001b[0m\u001b[39;49m To update, run: \u001b[0m\u001b[32;49mpython3.12 -m pip install --upgrade pip\u001b[0m\n"
     ]
    },
    {
     "name": "stderr",
     "output_type": "stream",
     "text": [
      "/usr/local/lib/python3.12/dist-packages/tqdm/auto.py:21: TqdmWarning: IProgress not found. Please update jupyter and ipywidgets. See https://ipywidgets.readthedocs.io/en/stable/user_install.html\n",
      "  from .autonotebook import tqdm as notebook_tqdm\n"
     ]
    }
   ],
   "source": [
    "import os \n",
    "from dotenv import load_dotenv\n",
    "!pip install gradio\n",
    "import gradio as gr\n",
    "from openai import OpenAI"
   ]
  },
  {
   "cell_type": "code",
   "execution_count": 2,
   "id": "8e231d18-041d-4275-9433-5604ab797d62",
   "metadata": {},
   "outputs": [],
   "source": [
    "MODEL = \"gpt-4o-mini\"\n",
    "load_dotenv(\"2.env\")\n",
    "openai_api_key = os.getenv(\"OPENAI_API_KEY\")\n",
    "openai = OpenAI()"
   ]
  },
  {
   "cell_type": "code",
   "execution_count": 3,
   "id": "776e91ba-66af-4adf-9c5a-399c15e82dfd",
   "metadata": {},
   "outputs": [
    {
     "name": "stdout",
     "output_type": "stream",
     "text": [
      "/home/zohreh/workspace/llm_engineering/week3\n"
     ]
    }
   ],
   "source": [
    "!pwd"
   ]
  },
  {
   "cell_type": "code",
   "execution_count": 4,
   "id": "84209ec0-7d58-4309-908e-2c8e352680f4",
   "metadata": {},
   "outputs": [
    {
     "name": "stdout",
     "output_type": "stream",
     "text": [
      "['./documents/trump.txt', './documents/andrew ng.txt']\n",
      "trump\n",
      "trump\n",
      "andrew ng\n",
      "andrew ng\n",
      "{'trump': \"Donald John Trump (born June 14, 1946) is an American politician, media personality, and businessman who is the 47th president of the United States. A member of the Republican Party, he served as the 45th president from 2017 to 2021.\\n\\nBorn in New York City, Trump graduated from the University of Pennsylvania in 1968 with a bachelor's degree in economics. He became the president of his family's real estate business in 1971, renamed it the Trump Organization, and began acquiring and building skyscrapers, hotels, casinos, and golf courses. He launched side ventures, many licensing the Trump name, and filed for six business bankruptcies in the 1990s and 2000s. From 2004 to 2015, he hosted the reality television show The Apprentice, bolstering his fame as a billionaire. A political outsider, Trump won the 2016 presidential election against the Democratic Party's nominee, Hillary Clinton.\\n\\nDuring his first presidency, Trump imposed a travel ban on seven Muslim-majority countries, expanded the U.S.–Mexico border wall, and enforced a family separation policy on the border. He rolled back environmental and business regulations, signed the Tax Cuts and Jobs Act, and appointed three Supreme Court justices. In foreign policy, Trump withdrew the U.S. from agreements on climate, trade, and Iran's nuclear program, and initiated a trade war with China. In response to the COVID-19 pandemic from 2020, he downplayed its severity, contradicted health officials, and signed the CARES Act. After losing the 2020 presidential election to Joe Biden, Trump attempted to overturn the result, culminating in the January 6 Capitol attack in 2021. Trump was impeached in 2019 for abuse of power and obstruction of Congress, and in 2021 for incitement of insurrection; the Senate acquitted him both times. After his first term, scholars and historians ranked him as one of the worst presidents in American history.\\n\\nTrump is the central figure of Trumpism, and his faction is dominant within the Republican Party. Many of his comments and actions have been characterized as racist or misogynistic, and he has made false and misleading statements and promoted conspiracy theories to a degree unprecedented in American politics. Trump's actions, especially in his second term, have been described as authoritarian and contributing to democratic backsliding. In 2023, Trump was found liable in civil cases for sexual abuse and defamation and for business fraud, and in 2024, he was found guilty of falsifying business records, making him the first U.S. president convicted of a felony. After winning the 2024 presidential election against Kamala Harris, Trump was sentenced to a penalty-free discharge, and two felony indictments against him were dismissed.\\n\\nTrump began his second presidency by pardoning around 1,500 January 6 rioters and initiating mass layoffs of federal workers. He imposed tariffs on nearly all countries and began trade wars with Canada, Mexico, and China. Many of his administration's actions, including his unprecedented use of executive orders, have drawn lawsuits challenging their legality.\\n\", 'andrew ng': 'Andrew Yan-Tak Ng (Chinese: born April 18, 1976[2]) is a British-American computer scientist and technology entrepreneur focusing on machine learning and artificial intelligence (AI).[3] Ng was a cofounder and head of Google Brain and was the former Chief Scientist at Baidu, building the company\\'s Artificial Intelligence Group into a team of several thousand people.[4]\\n\\nNg is an adjunct professor at Stanford University (formerly associate professor and Director of its Stanford AI Lab or SAIL). Ng has also worked in the field of online education, cofounding Coursera and DeepLearning.AI.[5] He has spearheaded many efforts to \"democratize deep learning\" teaching over 8 million students through his online courses.[6][3][7] Ng is renowned globally in computer science, recognized in Time magazine\\'s 100 Most Influential People in 2012 and Fast Company\\'s Most Creative People in 2014. His influence extends to being named in the Time100 AI Most Influential People in 2023.[7]\\n\\nIn 2018, he launched and currently heads the AI Fund, initially a $175-million investment fund for backing artificial intelligence startups. He has founded Landing AI, which provides AI-powered SaaS products.[8]\\n\\nOn April 11, 2024, Amazon announced the appointment of Ng to its board of directors.[9]\\n\\n\\n'}\n"
     ]
    }
   ],
   "source": [
    "import glob\n",
    "\n",
    "context = {}\n",
    "list_of_files = glob.glob(\"./documents/*.txt\")\n",
    "print(list_of_files)\n",
    "for file in list_of_files:\n",
    "    name = file.split('/')[-1][:-4]\n",
    "    print(name)\n",
    "    print(name)\n",
    "    doc = \"\"\n",
    "    with open(file, \"r\") as f:\n",
    "        doc = f.read()\n",
    "        context[name] = doc\n",
    "        # print(context[name])\n",
    "\n",
    "\n",
    "        \n",
    "context.keys()\n",
    "print(context)\n",
    "# print(list_of_files)"
   ]
  },
  {
   "cell_type": "code",
   "execution_count": 6,
   "id": "d6f57cdf-9cdd-486c-93b7-55109bb3c291",
   "metadata": {},
   "outputs": [
    {
     "data": {
      "text/plain": [
       "[\"Donald John Trump (born June 14, 1946) is an American politician, media personality, and businessman who is the 47th president of the United States. A member of the Republican Party, he served as the 45th president from 2017 to 2021.\\n\\nBorn in New York City, Trump graduated from the University of Pennsylvania in 1968 with a bachelor's degree in economics. He became the president of his family's real estate business in 1971, renamed it the Trump Organization, and began acquiring and building skyscrapers, hotels, casinos, and golf courses. He launched side ventures, many licensing the Trump name, and filed for six business bankruptcies in the 1990s and 2000s. From 2004 to 2015, he hosted the reality television show The Apprentice, bolstering his fame as a billionaire. A political outsider, Trump won the 2016 presidential election against the Democratic Party's nominee, Hillary Clinton.\\n\\nDuring his first presidency, Trump imposed a travel ban on seven Muslim-majority countries, expanded the U.S.–Mexico border wall, and enforced a family separation policy on the border. He rolled back environmental and business regulations, signed the Tax Cuts and Jobs Act, and appointed three Supreme Court justices. In foreign policy, Trump withdrew the U.S. from agreements on climate, trade, and Iran's nuclear program, and initiated a trade war with China. In response to the COVID-19 pandemic from 2020, he downplayed its severity, contradicted health officials, and signed the CARES Act. After losing the 2020 presidential election to Joe Biden, Trump attempted to overturn the result, culminating in the January 6 Capitol attack in 2021. Trump was impeached in 2019 for abuse of power and obstruction of Congress, and in 2021 for incitement of insurrection; the Senate acquitted him both times. After his first term, scholars and historians ranked him as one of the worst presidents in American history.\\n\\nTrump is the central figure of Trumpism, and his faction is dominant within the Republican Party. Many of his comments and actions have been characterized as racist or misogynistic, and he has made false and misleading statements and promoted conspiracy theories to a degree unprecedented in American politics. Trump's actions, especially in his second term, have been described as authoritarian and contributing to democratic backsliding. In 2023, Trump was found liable in civil cases for sexual abuse and defamation and for business fraud, and in 2024, he was found guilty of falsifying business records, making him the first U.S. president convicted of a felony. After winning the 2024 presidential election against Kamala Harris, Trump was sentenced to a penalty-free discharge, and two felony indictments against him were dismissed.\\n\\nTrump began his second presidency by pardoning around 1,500 January 6 rioters and initiating mass layoffs of federal workers. He imposed tariffs on nearly all countries and began trade wars with Canada, Mexico, and China. Many of his administration's actions, including his unprecedented use of executive orders, have drawn lawsuits challenging their legality.\\n\"]"
      ]
     },
     "execution_count": 6,
     "metadata": {},
     "output_type": "execute_result"
    }
   ],
   "source": [
    "def get_relevant_context(messages):\n",
    "    relevant_context = []\n",
    "    for context_title, context_detail in context.items():\n",
    "        # print(context_title)\n",
    "        # print(context_detail)\n",
    "        if context_title in messages:\n",
    "            relevant_context.append(context_detail)\n",
    "    return relevant_context\n",
    "\n",
    "relevant_content = get_relevant_context(\"who is donald trump\")\n",
    "relevant_content\n",
    "        "
   ]
  },
  {
   "cell_type": "code",
   "execution_count": 7,
   "id": "5709945b-06d4-4d29-ac23-1e934d095855",
   "metadata": {},
   "outputs": [
    {
     "name": "stdout",
     "output_type": "stream",
     "text": [
      "who is andrew ng?\n",
      "\n",
      "The following additional context might be relevant in answering this question:\n",
      "\n",
      " Andrew Yan-Tak Ng (Chinese: born April 18, 1976[2]) is a British-American computer scientist and technology entrepreneur focusing on machine learning and artificial intelligence (AI).[3] Ng was a cofounder and head of Google Brain and was the former Chief Scientist at Baidu, building the company's Artificial Intelligence Group into a team of several thousand people.[4]\n",
      "\n",
      "Ng is an adjunct professor at Stanford University (formerly associate professor and Director of its Stanford AI Lab or SAIL). Ng has also worked in the field of online education, cofounding Coursera and DeepLearning.AI.[5] He has spearheaded many efforts to \"democratize deep learning\" teaching over 8 million students through his online courses.[6][3][7] Ng is renowned globally in computer science, recognized in Time magazine's 100 Most Influential People in 2012 and Fast Company's Most Creative People in 2014. His influence extends to being named in the Time100 AI Most Influential People in 2023.[7]\n",
      "\n",
      "In 2018, he launched and currently heads the AI Fund, initially a $175-million investment fund for backing artificial intelligence startups. He has founded Landing AI, which provides AI-powered SaaS products.[8]\n",
      "\n",
      "On April 11, 2024, Amazon announced the appointment of Ng to its board of directors.[9]\n",
      "\n",
      "\n",
      "\n"
     ]
    }
   ],
   "source": [
    "def add_context(messages):\n",
    "    relevant_context = get_relevant_context(messages)\n",
    "    if relevant_context:\n",
    "        messages += \"\\n\\nThe following additional context might be relevant in answering this question:\\n\"\n",
    "        for relevant in relevant_context:\n",
    "            print(f\"{messages}\\n {relevant}\")\n",
    "add_context(\"who is andrew ng?\")"
   ]
  },
  {
   "cell_type": "code",
   "execution_count": 34,
   "id": "35cf0509-d44f-4f61-bfd7-e2c77980425a",
   "metadata": {},
   "outputs": [
    {
     "name": "stderr",
     "output_type": "stream",
     "text": [
      "/usr/local/lib/python3.12/dist-packages/gradio/chat_interface.py:338: UserWarning: The 'tuples' format for chatbot messages is deprecated and will be removed in a future version of Gradio. Please set type='messages' instead, which uses openai-style 'role' and 'content' keys.\n",
      "  self.chatbot = Chatbot(\n"
     ]
    },
    {
     "name": "stdout",
     "output_type": "stream",
     "text": [
      "* Running on local URL:  http://127.0.0.1:7885\n",
      "* Running on public URL: https://b409634ffb05d50baa.gradio.live\n",
      "\n",
      "This share link expires in 1 week. For free permanent hosting and GPU upgrades, run `gradio deploy` from the terminal in the working directory to deploy to Hugging Face Spaces (https://huggingface.co/spaces)\n"
     ]
    },
    {
     "data": {
      "text/html": [
       "<div><iframe src=\"https://b409634ffb05d50baa.gradio.live\" width=\"100%\" height=\"500\" allow=\"autoplay; camera; microphone; clipboard-read; clipboard-write;\" frameborder=\"0\" allowfullscreen></iframe></div>"
      ],
      "text/plain": [
       "<IPython.core.display.HTML object>"
      ]
     },
     "metadata": {},
     "output_type": "display_data"
    },
    {
     "data": {
      "text/plain": []
     },
     "execution_count": 34,
     "metadata": {},
     "output_type": "execute_result"
    },
    {
     "name": "stdout",
     "output_type": "stream",
     "text": [
      "trump\n",
      "\n",
      "The following additional context might be relevant in answering this question:\n",
      "\n",
      " Donald John Trump (born June 14, 1946) is an American politician, media personality, and businessman who is the 47th president of the United States. A member of the Republican Party, he served as the 45th president from 2017 to 2021.\n",
      "\n",
      "Born in New York City, Trump graduated from the University of Pennsylvania in 1968 with a bachelor's degree in economics. He became the president of his family's real estate business in 1971, renamed it the Trump Organization, and began acquiring and building skyscrapers, hotels, casinos, and golf courses. He launched side ventures, many licensing the Trump name, and filed for six business bankruptcies in the 1990s and 2000s. From 2004 to 2015, he hosted the reality television show The Apprentice, bolstering his fame as a billionaire. A political outsider, Trump won the 2016 presidential election against the Democratic Party's nominee, Hillary Clinton.\n",
      "\n",
      "During his first presidency, Trump imposed a travel ban on seven Muslim-majority countries, expanded the U.S.–Mexico border wall, and enforced a family separation policy on the border. He rolled back environmental and business regulations, signed the Tax Cuts and Jobs Act, and appointed three Supreme Court justices. In foreign policy, Trump withdrew the U.S. from agreements on climate, trade, and Iran's nuclear program, and initiated a trade war with China. In response to the COVID-19 pandemic from 2020, he downplayed its severity, contradicted health officials, and signed the CARES Act. After losing the 2020 presidential election to Joe Biden, Trump attempted to overturn the result, culminating in the January 6 Capitol attack in 2021. Trump was impeached in 2019 for abuse of power and obstruction of Congress, and in 2021 for incitement of insurrection; the Senate acquitted him both times. After his first term, scholars and historians ranked him as one of the worst presidents in American history.\n",
      "\n",
      "Trump is the central figure of Trumpism, and his faction is dominant within the Republican Party. Many of his comments and actions have been characterized as racist or misogynistic, and he has made false and misleading statements and promoted conspiracy theories to a degree unprecedented in American politics. Trump's actions, especially in his second term, have been described as authoritarian and contributing to democratic backsliding. In 2023, Trump was found liable in civil cases for sexual abuse and defamation and for business fraud, and in 2024, he was found guilty of falsifying business records, making him the first U.S. president convicted of a felony. After winning the 2024 presidential election against Kamala Harris, Trump was sentenced to a penalty-free discharge, and two felony indictments against him were dismissed.\n",
      "\n",
      "Trump began his second presidency by pardoning around 1,500 January 6 rioters and initiating mass layoffs of federal workers. He imposed tariffs on nearly all countries and began trade wars with Canada, Mexico, and China. Many of his administration's actions, including his unprecedented use of executive orders, have drawn lawsuits challenging their legality.\n",
      "\n",
      "andrew ng\n",
      "\n",
      "The following additional context might be relevant in answering this question:\n",
      "\n",
      " Andrew Yan-Tak Ng (Chinese: born April 18, 1976[2]) is a British-American computer scientist and technology entrepreneur focusing on machine learning and artificial intelligence (AI).[3] Ng was a cofounder and head of Google Brain and was the former Chief Scientist at Baidu, building the company's Artificial Intelligence Group into a team of several thousand people.[4]\n",
      "\n",
      "Ng is an adjunct professor at Stanford University (formerly associate professor and Director of its Stanford AI Lab or SAIL). Ng has also worked in the field of online education, cofounding Coursera and DeepLearning.AI.[5] He has spearheaded many efforts to \"democratize deep learning\" teaching over 8 million students through his online courses.[6][3][7] Ng is renowned globally in computer science, recognized in Time magazine's 100 Most Influential People in 2012 and Fast Company's Most Creative People in 2014. His influence extends to being named in the Time100 AI Most Influential People in 2023.[7]\n",
      "\n",
      "In 2018, he launched and currently heads the AI Fund, initially a $175-million investment fund for backing artificial intelligence startups. He has founded Landing AI, which provides AI-powered SaaS products.[8]\n",
      "\n",
      "On April 11, 2024, Amazon announced the appointment of Ng to its board of directors.[9]\n",
      "\n",
      "\n",
      "\n",
      "trump\n",
      "\n",
      "The following additional context might be relevant in answering this question:\n",
      "\n",
      " Donald John Trump (born June 14, 1946) is an American politician, media personality, and businessman who is the 47th president of the United States. A member of the Republican Party, he served as the 45th president from 2017 to 2021.\n",
      "\n",
      "Born in New York City, Trump graduated from the University of Pennsylvania in 1968 with a bachelor's degree in economics. He became the president of his family's real estate business in 1971, renamed it the Trump Organization, and began acquiring and building skyscrapers, hotels, casinos, and golf courses. He launched side ventures, many licensing the Trump name, and filed for six business bankruptcies in the 1990s and 2000s. From 2004 to 2015, he hosted the reality television show The Apprentice, bolstering his fame as a billionaire. A political outsider, Trump won the 2016 presidential election against the Democratic Party's nominee, Hillary Clinton.\n",
      "\n",
      "During his first presidency, Trump imposed a travel ban on seven Muslim-majority countries, expanded the U.S.–Mexico border wall, and enforced a family separation policy on the border. He rolled back environmental and business regulations, signed the Tax Cuts and Jobs Act, and appointed three Supreme Court justices. In foreign policy, Trump withdrew the U.S. from agreements on climate, trade, and Iran's nuclear program, and initiated a trade war with China. In response to the COVID-19 pandemic from 2020, he downplayed its severity, contradicted health officials, and signed the CARES Act. After losing the 2020 presidential election to Joe Biden, Trump attempted to overturn the result, culminating in the January 6 Capitol attack in 2021. Trump was impeached in 2019 for abuse of power and obstruction of Congress, and in 2021 for incitement of insurrection; the Senate acquitted him both times. After his first term, scholars and historians ranked him as one of the worst presidents in American history.\n",
      "\n",
      "Trump is the central figure of Trumpism, and his faction is dominant within the Republican Party. Many of his comments and actions have been characterized as racist or misogynistic, and he has made false and misleading statements and promoted conspiracy theories to a degree unprecedented in American politics. Trump's actions, especially in his second term, have been described as authoritarian and contributing to democratic backsliding. In 2023, Trump was found liable in civil cases for sexual abuse and defamation and for business fraud, and in 2024, he was found guilty of falsifying business records, making him the first U.S. president convicted of a felony. After winning the 2024 presidential election against Kamala Harris, Trump was sentenced to a penalty-free discharge, and two felony indictments against him were dismissed.\n",
      "\n",
      "Trump began his second presidency by pardoning around 1,500 January 6 rioters and initiating mass layoffs of federal workers. He imposed tariffs on nearly all countries and began trade wars with Canada, Mexico, and China. Many of his administration's actions, including his unprecedented use of executive orders, have drawn lawsuits challenging their legality.\n",
      "\n"
     ]
    }
   ],
   "source": [
    "def chat(message, history):\n",
    "    \n",
    "    messages = [{\"role\":\"system\", \"content\":system_message}]\n",
    "    for user_message, assistant_message in history:\n",
    "        if user_message is not None:\n",
    "            messages.append({\"role\": \"user\", \"content\": str(user_message)})\n",
    "        if assistant_message is not None:\n",
    "            messages.append({\"role\": \"assistant\", \"content\": str(assistant_message)})\n",
    "\n",
    "    message = add_context(message)\n",
    "    messages.append({\"role\":\"user\", \"content\":str(message)})\n",
    "    stream = openai.chat.completions.create(model=MODEL, messages=messages, stream=True)\n",
    "    response = \"\"\n",
    "    for chunk in stream:\n",
    "        response += chunk.choices[0].delta.content or \"\"\n",
    "        yield response\n",
    "# def chat(message, history):\n",
    "#     messages = [{\"role\": \"system\", \"content\": system_message}]\n",
    "\n",
    "#     for user_message, assistant_message in history:\n",
    "#         messages.append({\"role\": \"user\", \"content\": str(user_message)})\n",
    "#         messages.append({\"role\": \"assistant\", \"content\": str(assistant_message)})\n",
    "\n",
    "#     message = add_context(message)\n",
    "#     messages.append({\"role\": \"user\", \"content\": str(message)})\n",
    "\n",
    "    \n",
    "\n",
    "#     # Send request to OpenAI API\n",
    "#     stream = openai.chat.completions.create(\n",
    "#         model=MODEL,\n",
    "#         messages=messages,\n",
    "#         stream=True\n",
    "#     )\n",
    "\n",
    "#     response = \"\"\n",
    "#     for chunk in stream:\n",
    "#         response += chunk.choices[0].delta.content or \"\"\n",
    "#         yield response\n",
    "system_message = \"You are an expert in answering accurate question about famous people. give brief accurate answer,if you don't know the answer say so.do not make anything up if you haven't been provided with relevant context\"\n",
    "        \n",
    "view = gr.ChatInterface(fn=chat)\n",
    "view.launch(share=True)    \n",
    "      \n",
    "    \n"
   ]
  },
  {
   "cell_type": "code",
   "execution_count": null,
   "id": "8ae03537-92d8-4f71-9e2f-a71098fa6631",
   "metadata": {},
   "outputs": [],
   "source": []
  }
 ],
 "metadata": {
  "kernelspec": {
   "display_name": "Python 3 (ipykernel)",
   "language": "python",
   "name": "python3"
  },
  "language_info": {
   "codemirror_mode": {
    "name": "ipython",
    "version": 3
   },
   "file_extension": ".py",
   "mimetype": "text/x-python",
   "name": "python",
   "nbconvert_exporter": "python",
   "pygments_lexer": "ipython3",
   "version": "3.12.7"
  }
 },
 "nbformat": 4,
 "nbformat_minor": 5
}
