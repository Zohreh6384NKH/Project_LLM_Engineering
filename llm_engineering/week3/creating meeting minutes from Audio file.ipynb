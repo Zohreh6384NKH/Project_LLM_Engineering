{
 "cells": [
  {
   "cell_type": "markdown",
   "id": "9da96097-4613-4691-87ab-a5d2633c164d",
   "metadata": {},
   "source": [
    "## Creating meeting minutes from an audio file"
   ]
  },
  {
   "cell_type": "markdown",
   "id": "205331b9-e199-4995-9c30-6c82588a6f4f",
   "metadata": {},
   "source": [
    "I downloaded Denver city council meeting minute from this dataset.\n",
    "The goal of this product is to use Audio to generate meeting minutes including actions"
   ]
  },
  {
   "cell_type": "code",
   "execution_count": 1,
   "id": "c8b723e6-2411-491d-b78b-761f53e81173",
   "metadata": {},
   "outputs": [
    {
     "name": "stdout",
     "output_type": "stream",
     "text": [
      "Requirement already satisfied: pydub in /usr/local/lib/python3.12/dist-packages (0.25.1)\n",
      "\u001b[33mWARNING: Running pip as the 'root' user can result in broken permissions and conflicting behaviour with the system package manager, possibly rendering your system unusable.It is recommended to use a virtual environment instead: https://pip.pypa.io/warnings/venv. Use the --root-user-action option if you know what you are doing and want to suppress this warning.\u001b[0m\u001b[33m\n",
      "\u001b[0m\n",
      "\u001b[1m[\u001b[0m\u001b[34;49mnotice\u001b[0m\u001b[1;39;49m]\u001b[0m\u001b[39;49m A new release of pip is available: \u001b[0m\u001b[31;49m24.3.1\u001b[0m\u001b[39;49m -> \u001b[0m\u001b[32;49m25.0.1\u001b[0m\n",
      "\u001b[1m[\u001b[0m\u001b[34;49mnotice\u001b[0m\u001b[1;39;49m]\u001b[0m\u001b[39;49m To update, run: \u001b[0m\u001b[32;49mpython3.12 -m pip install --upgrade pip\u001b[0m\n"
     ]
    }
   ],
   "source": [
    "# !pip install datasets\n",
    "!pip install pydub"
   ]
  },
  {
   "cell_type": "code",
   "execution_count": 1,
   "id": "96100edf-534b-47ae-91b5-37b00cbb61a5",
   "metadata": {},
   "outputs": [],
   "source": [
    "from pydub import AudioSegment"
   ]
  },
  {
   "cell_type": "markdown",
   "id": "41cd201b-f5ab-4d9d-95c2-70347becdf5c",
   "metadata": {},
   "source": [
    "pip install pydub--> installs the Python wrapper to work with audio, but needs ffmpeg underneath to actually work with .mp3 files"
   ]
  },
  {
   "cell_type": "markdown",
   "id": "3aed97c1-e9e3-4938-9b3b-1b30bc314f34",
   "metadata": {},
   "source": [
    "pip install --> for installing python packages/libraries\n",
    "sudo apt install --> install system softwares"
   ]
  },
  {
   "cell_type": "code",
   "execution_count": null,
   "id": "fe0abf20-f3cd-447e-ac27-6556b0c7d2af",
   "metadata": {},
   "outputs": [
    {
     "name": "stdout",
     "output_type": "stream",
     "text": [
      "Hit:1 https://developer.download.nvidia.com/compute/cuda/repos/ubuntu2004/x86_64  InRelease\n",
      "Hit:2 http://archive.ubuntu.com/ubuntu focal InRelease                         \u001b[0m\n",
      "Hit:3 http://archive.ubuntu.com/ubuntu focal-updates InRelease                 \n",
      "Hit:4 http://security.ubuntu.com/ubuntu focal-security InRelease    \u001b[0m\n",
      "Hit:5 http://ppa.launchpad.net/deadsnakes/ppa/ubuntu focal InRelease\n",
      "Hit:6 http://archive.ubuntu.com/ubuntu focal-backports InRelease\n",
      "Reading package lists... Done\n",
      "Building dependency tree       \n",
      "Reading state information... Done\n",
      "114 packages can be upgraded. Run 'apt list --upgradable' to see them.\n",
      "Reading package lists... Done\n",
      "Building dependency tree       \n",
      "Reading state information... Done\n",
      "The following additional packages will be installed:\n",
      "  i965-va-driver intel-media-va-driver libaacs0 libaom0 libass9 libasyncns0\n",
      "  libavc1394-0 libavcodec58 libavdevice58 libavfilter7 libavformat58\n",
      "  libavresample4 libavutil56 libbdplus0 libbluray2 libbs2b0 libcaca0\n",
      "  libcairo-gobject2 libcdio-cdda2 libcdio-paranoia2 libcdio18 libchromaprint1\n",
      "  libcodec2-0.9 libdc1394-22 libflac8 libflite1 libgdk-pixbuf2.0-0\n",
      "  libgdk-pixbuf2.0-bin libgdk-pixbuf2.0-common libgme0 libgsm1 libiec61883-0\n",
      "  libigdgmm11 libjack-jackd2-0 liblilv-0-0 libmp3lame0 libmpg123-0 libmysofa1\n",
      "  libnorm1 libnuma1 libopenal-data libopenal1 libopenmpt0 libopus0\n",
      "  libpgm-5.2-0 libpostproc55 libpulse0 libraw1394-11 librsvg2-2\n",
      "  librsvg2-common librubberband2 libsamplerate0 libsdl2-2.0-0 libserd-0-0\n",
      "  libshine3 libslang2 libsnappy1v5 libsndfile1 libsndio7.0 libsodium23\n",
      "  libsord-0-0 libsoxr0 libspeex1 libsratom-0-0 libssh-gcrypt-4 libswresample3\n",
      "  libswscale5 libtheora0 libtwolame0 libusb-1.0-0 libva-drm2 libva-x11-2\n",
      "  libva2 libvdpau1 libvidstab1.1 libvorbisenc2 libvpx6 libwavpack1\n",
      "  libwayland-cursor0 libwayland-egl1 libwrap0 libx264-155 libx265-179 libxv1\n",
      "  libxvidcore4 libzmq5 libzvbi-common libzvbi0 mesa-va-drivers\n",
      "  mesa-vdpau-drivers ocl-icd-libopencl1 shared-mime-info va-driver-all\n",
      "  vdpau-driver-all\n",
      "Suggested packages:\n",
      "  ffmpeg-doc i965-va-driver-shaders libbluray-bdj jackd2 libportaudio2\n",
      "  opus-tools pulseaudio libraw1394-doc librsvg2-bin serdi sndiod sordi speex\n",
      "  opencl-icd libvdpau-va-gl1 nvidia-vdpau-driver\n",
      "  nvidia-legacy-340xx-vdpau-driver nvidia-legacy-304xx-vdpau-driver\n",
      "The following NEW packages will be installed:\n",
      "  ffmpeg i965-va-driver intel-media-va-driver libaacs0 libaom0 libass9\n",
      "  libasyncns0 libavc1394-0 libavcodec58 libavdevice58 libavfilter7\n",
      "  libavformat58 libavresample4 libavutil56 libbdplus0 libbluray2 libbs2b0\n",
      "  libcaca0 libcairo-gobject2 libcdio-cdda2 libcdio-paranoia2 libcdio18\n",
      "  libchromaprint1 libcodec2-0.9 libdc1394-22 libflac8 libflite1\n",
      "  libgdk-pixbuf2.0-0 libgdk-pixbuf2.0-bin libgdk-pixbuf2.0-common libgme0\n",
      "  libgsm1 libiec61883-0 libigdgmm11 libjack-jackd2-0 liblilv-0-0 libmp3lame0\n",
      "  libmpg123-0 libmysofa1 libnorm1 libnuma1 libopenal-data libopenal1\n",
      "  libopenmpt0 libopus0 libpgm-5.2-0 libpostproc55 libpulse0 libraw1394-11\n",
      "  librsvg2-2 librsvg2-common librubberband2 libsamplerate0 libsdl2-2.0-0\n",
      "  libserd-0-0 libshine3 libslang2 libsnappy1v5 libsndfile1 libsndio7.0\n",
      "  libsodium23 libsord-0-0 libsoxr0 libspeex1 libsratom-0-0 libssh-gcrypt-4\n",
      "  libswresample3 libswscale5 libtheora0 libtwolame0 libusb-1.0-0 libva-drm2\n",
      "  libva-x11-2 libva2 libvdpau1 libvidstab1.1 libvorbisenc2 libvpx6 libwavpack1\n",
      "  libwayland-cursor0 libwayland-egl1 libwrap0 libx264-155 libx265-179 libxv1\n",
      "  libxvidcore4 libzmq5 libzvbi-common libzvbi0 mesa-va-drivers\n",
      "  mesa-vdpau-drivers ocl-icd-libopencl1 shared-mime-info va-driver-all\n",
      "  vdpau-driver-all\n",
      "0 upgraded, 95 newly installed, 0 to remove and 114 not upgraded.\n",
      "Need to get 53.0 MB of archives.\n",
      "After this operation, 235 MB of additional disk space will be used.\n",
      "Do you want to continue? [Y/n] "
     ]
    }
   ],
   "source": [
    "!apt update\n",
    "!apt install ffmpeg"
   ]
  },
  {
   "cell_type": "code",
   "execution_count": 3,
   "id": "2c177b8a-b99b-4b9f-8c8a-53deddd6b90d",
   "metadata": {},
   "outputs": [
    {
     "name": "stdout",
     "output_type": "stream",
     "text": [
      "path exists\n"
     ]
    }
   ],
   "source": [
    "# root_dir = \"meeting/Audio&Transcripts/Denver/transcripts\"\n",
    "\n",
    "\n",
    "# if os.path.exists(root_dir):\n",
    "#     print(\"path exists\")\n",
    "# else:\n",
    "#     print(\"path doesnt exists\")\n"
   ]
  },
  {
   "cell_type": "code",
   "execution_count": 40,
   "id": "9b281fe8-054c-4644-b552-5b385ffb6c14",
   "metadata": {},
   "outputs": [
    {
     "name": "stdout",
     "output_type": "stream",
     "text": [
      "/home/zohreh/workspace/llm_engineering/week3\n"
     ]
    }
   ],
   "source": [
    "!pwd"
   ]
  },
  {
   "cell_type": "code",
   "execution_count": 56,
   "id": "65d342c4-d1c8-4d2e-81d9-e08fd352aee4",
   "metadata": {},
   "outputs": [
    {
     "name": "stdout",
     "output_type": "stream",
     "text": [
      "Requirement already satisfied: Ipython in /usr/local/lib/python3.12/dist-packages (8.32.0)\n",
      "Requirement already satisfied: decorator in /usr/local/lib/python3.12/dist-packages (from Ipython) (5.1.1)\n",
      "Requirement already satisfied: jedi>=0.16 in /usr/local/lib/python3.12/dist-packages (from Ipython) (0.19.2)\n",
      "Requirement already satisfied: matplotlib-inline in /usr/local/lib/python3.12/dist-packages (from Ipython) (0.1.7)\n",
      "Requirement already satisfied: pexpect>4.3 in /usr/local/lib/python3.12/dist-packages (from Ipython) (4.9.0)\n",
      "Requirement already satisfied: prompt_toolkit<3.1.0,>=3.0.41 in /usr/local/lib/python3.12/dist-packages (from Ipython) (3.0.48)\n",
      "Requirement already satisfied: pygments>=2.4.0 in /usr/local/lib/python3.12/dist-packages (from Ipython) (2.18.0)\n",
      "Requirement already satisfied: stack_data in /usr/local/lib/python3.12/dist-packages (from Ipython) (0.6.3)\n",
      "Requirement already satisfied: traitlets>=5.13.0 in /usr/local/lib/python3.12/dist-packages (from Ipython) (5.14.3)\n",
      "Requirement already satisfied: parso<0.9.0,>=0.8.4 in /usr/local/lib/python3.12/dist-packages (from jedi>=0.16->Ipython) (0.8.4)\n",
      "Requirement already satisfied: ptyprocess>=0.5 in /usr/local/lib/python3.12/dist-packages (from pexpect>4.3->Ipython) (0.7.0)\n",
      "Requirement already satisfied: wcwidth in /usr/local/lib/python3.12/dist-packages (from prompt_toolkit<3.1.0,>=3.0.41->Ipython) (0.2.13)\n",
      "Requirement already satisfied: executing>=1.2.0 in /usr/local/lib/python3.12/dist-packages (from stack_data->Ipython) (2.1.0)\n",
      "Requirement already satisfied: asttokens>=2.1.0 in /usr/local/lib/python3.12/dist-packages (from stack_data->Ipython) (2.4.1)\n",
      "Requirement already satisfied: pure-eval in /usr/local/lib/python3.12/dist-packages (from stack_data->Ipython) (0.2.3)\n",
      "Requirement already satisfied: six>=1.12.0 in /usr/local/lib/python3.12/dist-packages (from asttokens>=2.1.0->stack_data->Ipython) (1.16.0)\n",
      "\u001b[33mWARNING: Running pip as the 'root' user can result in broken permissions and conflicting behaviour with the system package manager, possibly rendering your system unusable.It is recommended to use a virtual environment instead: https://pip.pypa.io/warnings/venv. Use the --root-user-action option if you know what you are doing and want to suppress this warning.\u001b[0m\u001b[33m\n",
      "\u001b[0m\n",
      "\u001b[1m[\u001b[0m\u001b[34;49mnotice\u001b[0m\u001b[1;39;49m]\u001b[0m\u001b[39;49m A new release of pip is available: \u001b[0m\u001b[31;49m24.3.1\u001b[0m\u001b[39;49m -> \u001b[0m\u001b[32;49m25.0.1\u001b[0m\n",
      "\u001b[1m[\u001b[0m\u001b[34;49mnotice\u001b[0m\u001b[1;39;49m]\u001b[0m\u001b[39;49m To update, run: \u001b[0m\u001b[32;49mpython3.12 -m pip install --upgrade pip\u001b[0m\n",
      "path exists\n"
     ]
    }
   ],
   "source": [
    "!pip install Ipython\n",
    "\n",
    "import os\n",
    "from pydub import AudioSegment\n",
    "from IPython.display import Audio\n",
    "\n",
    "\n",
    "# file_path = \"/home/zohreh/workspace/llm_engineering/week3/meeting\"\n",
    "file_path = \"./meeting\"\n",
    "mp3_file = os.path.join(file_path, \"denver_0b39b5f6-dab6-4493-8769-0876474ff779.mp3\" )\n",
    "\n",
    "if os.path.exists(mp3_file):\n",
    "    print(\"path exists\")\n",
    "else:\n",
    "    print(\"path doesnt exists\")\n",
    "\n",
    "\n",
    "# audio = AudioSegment.from_file(mp3_file, format=\"mp3\")\n",
    "# first_25_min = audio[:25 * 60 * 1000]  # first 25 minutes\n",
    "# first_25_min.export(\"output_audio/denver_25_min.mp3\", format=\"mp3\")\n",
    "# from IPython.display import Audio\n",
    "# audio_filename = \"output_audio/denver_25_min.mp3\"\n",
    "# Audio(audio_filename)\n",
    "\n",
    "\n",
    "\n",
    "\n"
   ]
  },
  {
   "cell_type": "code",
   "execution_count": 57,
   "id": "9dc69e23-39c8-4f3d-b5d4-d27a173426b2",
   "metadata": {},
   "outputs": [
    {
     "name": "stdout",
     "output_type": "stream",
     "text": [
      "Requirement already satisfied: python-dotenv in /usr/local/lib/python3.12/dist-packages (1.0.1)\n",
      "\u001b[33mWARNING: Running pip as the 'root' user can result in broken permissions and conflicting behaviour with the system package manager, possibly rendering your system unusable.It is recommended to use a virtual environment instead: https://pip.pypa.io/warnings/venv. Use the --root-user-action option if you know what you are doing and want to suppress this warning.\u001b[0m\u001b[33m\n",
      "\u001b[0m\n",
      "\u001b[1m[\u001b[0m\u001b[34;49mnotice\u001b[0m\u001b[1;39;49m]\u001b[0m\u001b[39;49m A new release of pip is available: \u001b[0m\u001b[31;49m24.3.1\u001b[0m\u001b[39;49m -> \u001b[0m\u001b[32;49m25.0.1\u001b[0m\n",
      "\u001b[1m[\u001b[0m\u001b[34;49mnotice\u001b[0m\u001b[1;39;49m]\u001b[0m\u001b[39;49m To update, run: \u001b[0m\u001b[32;49mpython3.12 -m pip install --upgrade pip\u001b[0m\n",
      "Requirement already satisfied: ipywidgets in /usr/local/lib/python3.12/dist-packages (8.1.6)\n",
      "Requirement already satisfied: comm>=0.1.3 in /usr/local/lib/python3.12/dist-packages (from ipywidgets) (0.2.2)\n",
      "Requirement already satisfied: ipython>=6.1.0 in /usr/local/lib/python3.12/dist-packages (from ipywidgets) (8.32.0)\n",
      "Requirement already satisfied: traitlets>=4.3.1 in /usr/local/lib/python3.12/dist-packages (from ipywidgets) (5.14.3)\n",
      "Requirement already satisfied: widgetsnbextension~=4.0.14 in /usr/local/lib/python3.12/dist-packages (from ipywidgets) (4.0.14)\n",
      "Requirement already satisfied: jupyterlab_widgets~=3.0.14 in /usr/local/lib/python3.12/dist-packages (from ipywidgets) (3.0.14)\n",
      "Requirement already satisfied: decorator in /usr/local/lib/python3.12/dist-packages (from ipython>=6.1.0->ipywidgets) (5.1.1)\n",
      "Requirement already satisfied: jedi>=0.16 in /usr/local/lib/python3.12/dist-packages (from ipython>=6.1.0->ipywidgets) (0.19.2)\n",
      "Requirement already satisfied: matplotlib-inline in /usr/local/lib/python3.12/dist-packages (from ipython>=6.1.0->ipywidgets) (0.1.7)\n",
      "Requirement already satisfied: pexpect>4.3 in /usr/local/lib/python3.12/dist-packages (from ipython>=6.1.0->ipywidgets) (4.9.0)\n",
      "Requirement already satisfied: prompt_toolkit<3.1.0,>=3.0.41 in /usr/local/lib/python3.12/dist-packages (from ipython>=6.1.0->ipywidgets) (3.0.48)\n",
      "Requirement already satisfied: pygments>=2.4.0 in /usr/local/lib/python3.12/dist-packages (from ipython>=6.1.0->ipywidgets) (2.18.0)\n",
      "Requirement already satisfied: stack_data in /usr/local/lib/python3.12/dist-packages (from ipython>=6.1.0->ipywidgets) (0.6.3)\n",
      "Requirement already satisfied: parso<0.9.0,>=0.8.4 in /usr/local/lib/python3.12/dist-packages (from jedi>=0.16->ipython>=6.1.0->ipywidgets) (0.8.4)\n",
      "Requirement already satisfied: ptyprocess>=0.5 in /usr/local/lib/python3.12/dist-packages (from pexpect>4.3->ipython>=6.1.0->ipywidgets) (0.7.0)\n",
      "Requirement already satisfied: wcwidth in /usr/local/lib/python3.12/dist-packages (from prompt_toolkit<3.1.0,>=3.0.41->ipython>=6.1.0->ipywidgets) (0.2.13)\n",
      "Requirement already satisfied: executing>=1.2.0 in /usr/local/lib/python3.12/dist-packages (from stack_data->ipython>=6.1.0->ipywidgets) (2.1.0)\n",
      "Requirement already satisfied: asttokens>=2.1.0 in /usr/local/lib/python3.12/dist-packages (from stack_data->ipython>=6.1.0->ipywidgets) (2.4.1)\n",
      "Requirement already satisfied: pure-eval in /usr/local/lib/python3.12/dist-packages (from stack_data->ipython>=6.1.0->ipywidgets) (0.2.3)\n",
      "Requirement already satisfied: six>=1.12.0 in /usr/local/lib/python3.12/dist-packages (from asttokens>=2.1.0->stack_data->ipython>=6.1.0->ipywidgets) (1.16.0)\n",
      "\u001b[33mWARNING: Running pip as the 'root' user can result in broken permissions and conflicting behaviour with the system package manager, possibly rendering your system unusable.It is recommended to use a virtual environment instead: https://pip.pypa.io/warnings/venv. Use the --root-user-action option if you know what you are doing and want to suppress this warning.\u001b[0m\u001b[33m\n",
      "\u001b[0m\n",
      "\u001b[1m[\u001b[0m\u001b[34;49mnotice\u001b[0m\u001b[1;39;49m]\u001b[0m\u001b[39;49m A new release of pip is available: \u001b[0m\u001b[31;49m24.3.1\u001b[0m\u001b[39;49m -> \u001b[0m\u001b[32;49m25.0.1\u001b[0m\n",
      "\u001b[1m[\u001b[0m\u001b[34;49mnotice\u001b[0m\u001b[1;39;49m]\u001b[0m\u001b[39;49m To update, run: \u001b[0m\u001b[32;49mpython3.12 -m pip install --upgrade pip\u001b[0m\n"
     ]
    }
   ],
   "source": [
    "!pip install python-dotenv\n",
    "\n",
    "import os \n",
    "import requests \n",
    "from IPython.display import Markdown, display, update_display\n",
    "from huggingface_hub import login\n",
    "from transformers import AutoTokenizer, AutoModelForCausalLM, TextStreamer, BitsAndBytesConfig\n",
    "import torch\n",
    "from dotenv import load_dotenv\n",
    "from openai import OpenAI\n",
    "!pip install ipywidgets"
   ]
  },
  {
   "cell_type": "code",
   "execution_count": 58,
   "id": "2e24c542-4ac9-47cf-bb70-ea25f56ebb74",
   "metadata": {},
   "outputs": [],
   "source": [
    "#constants \n",
    "audio_model = \"whisper-1\"\n",
    "LLAMA = \"meta-llama/Meta-Llama-3.1-8B-Instruct\""
   ]
  },
  {
   "cell_type": "code",
   "execution_count": 63,
   "id": "b3782dd2-a499-4767-88fa-b9a7fb5ad334",
   "metadata": {},
   "outputs": [
    {
     "data": {
      "application/vnd.jupyter.widget-view+json": {
       "model_id": "48e1076215574ad19d32d13ff9dfec30",
       "version_major": 2,
       "version_minor": 0
      },
      "text/plain": [
       "VBox(children=(HTML(value='<center> <img\\nsrc=https://huggingface.co/front/assets/huggingface_logo-noborder.sv…"
      ]
     },
     "metadata": {},
     "output_type": "display_data"
    }
   ],
   "source": [
    "audio_filename = \"output_audio/denver_25_min.mp3\"\n",
    "load_dotenv(\"2.env\")\n",
    "huggingface_token = os.getenv(\"HUGGINGFACE_TOKEN\")\n",
    "login(token=huggingface_token, add_to_git_credential=True)\n"
   ]
  },
  {
   "cell_type": "code",
   "execution_count": 65,
   "id": "a8e6e725-2996-4953-92d3-07c36fcc61b0",
   "metadata": {},
   "outputs": [],
   "source": [
    "openai_api_key = os.getenv(\"OPENAI_API_KEY\")\n",
    "\n",
    "openai = OpenAI(api_key=openai_api_key)"
   ]
  },
  {
   "cell_type": "code",
   "execution_count": null,
   "id": "e9e65913-5af1-4040-9c82-2e698225471b",
   "metadata": {},
   "outputs": [],
   "source": []
  },
  {
   "cell_type": "code",
   "execution_count": 67,
   "id": "eb65b55f-3fdd-4558-81bf-b8f6a03bf94b",
   "metadata": {},
   "outputs": [
    {
     "name": "stdout",
     "output_type": "stream",
     "text": [
      "♪♪ ♪♪ ♪♪ ♪♪ ♪♪ ♪♪ ♪♪ ♪♪ ♪♪ ♪♪ ♪♪ ♪♪ ♪♪ ♪♪ ♪♪ Good evening, I want to welcome you to the Denver City Council meeting of Monday, May 18, 2015. Please rise and join Councilwoman Sussman in the Pledge of Allegiance. I pledge allegiance to the flag of the United States of America, and to the republic for which it stands, one nation, under God, indivisible, with liberty and justice for all. Thank you, Councilwoman. Madam Secretary, roll call. Brooks. Here. Brown. Here. Kenneche. Here. Layman. Here. Lopez. Here. Montero. Here. Nevitt. Here. Ortega. Here. Robb. Here. Shepard. Here. Sussman. Here. Mr. President. Here. 11 present. We have 11 members present. We have a quorum. Approval of minutes. Any corrections to the minutes of Monday, May 11, 2015? Seeing none, the minutes of May 11, 2015 stand approved. Council announcements. Any announcements from members of Council? Councilwoman Montero. Thank you, Mr. President. I just wanted to announce that last Thursday, on May 14th, we had a community unveiling of the new Youth on Record media studio located at the Mariposa Redevelopment in Lama Lincoln Park. And what's so significant about this particular program is that they were able to complete the $2 million youth media studio at 1301 10th Avenue. They began with a facility that they broke ground in 2012 with more than a million dollars in funding from the Denver Housing Authority. And then they raised another million with gifts from DeVita, Anschutz, Denver Public Library, Betcher, Gates Family Foundation, and others. So the crews have been putting the finishing touches on the control room where a sound board that was formerly part of the phrase studio is being not so much recycled. It's pretty fancy equipment. But they've donated it to Youth on Record, and it's a place where local producers and musicians will teach kids how to record and also learn audio engineering classes. So I am very, very proud of them and just wanted to give a shout-out. Many of the kids that go to Youth on Record are from the Colorado High School Charter, and 90% of the teens involved in Youth on Record are youth of color, and 90% are on free or reduced lunches. So I'm very, very happy, and congratulations to Youth on Record. Thank you, Councilman Montero. Councilman Brooks? Hey, thank you, Mr. President. I wanted to just say how thrilled I was at the event that we had in Five Points this weekend, the Five Points Jazz Festival. Come on, everybody. Who was there? Who was there? One. Okay, great. We had, even though we had a rainstorm in the middle, we had 20,000 people on Welton, and we were hoping for 30,000, but we'll take 20,000. It was incredible. I think so much work was done. Brooke Dilling, who is a representative from Arts & Venue, led the whole project. Norman Harris III, who is on our Five Points business board, did a great job orchestrating everything. But the picture that I want to give you guys is being on stage when one of our many jazz performers was singing and seeing 10 blocks wall-to-wall with the most beautiful presentation of people, rich, poor, old, young, all beautiful, and diverse, and just so eclectic, and not one problem, not one issue the whole day. And so it was completely safe. It was a lot of fun. So I am just thrilled, and I just want to say a special thanks to Kent Rice and Arts & Venue. This is their largest community event, and they invest over $100,000 into one day. But the economic impact is hard to track on that day because it's the gift that keeps on giving to our community in Five Points. So many, many thanks to Arts & Venue. Thank you. Thank you, Councilman. It's a great event. And speaking of great events, I'm betting Councilwoman Robb is going to talk about another one. Go ahead, Councilwoman Robb. You read my mind, Council President. I, too, want to talk about a fabulous event that occurred this weekend, which was the 10th anniversary Colfax Marathon. I really couldn't have been prouder. Without doing a proclamation this year, or even weeks of announcements beforehand, because I know most of the runners come from council announcements, right? But at any rate, without my doing any of that and driving my colleagues nutty, we had over 17,000 runners participate. And the event went very smoothly. All right. Who here ran? Who ran? Councilwoman Sussman? No. But I'll speak about that a little bit later. Councilwoman Sussman had family members who came to Denver for the marathon. We had great weather. Someone was responsible for that, I'm sure. A fabulous festival. 150 charity partners. And I do really want to, once again, thank the Public Works Department, the Denver Police Department, and our sponsors, Kaiser Permanente, which is the title sponsor, DaVita, which sponsors the charity partners. And finally, the thousands of volunteers it took to put on the event. So that's the last announcement I'll be making about the Colfax Marathon from this dais. Thank you, Councilwoman Robb. Councilwoman Sussman? I can't let that one go by. It was a fabulous event. And I was my daughter, Kate, and her husband, Zach, ran in that race and told me how well organized it was. It was so well organized. 23,000 runners, I understand. And they came through it with some excellent timing, although the looks on their faces afterwards looks as if they might be reconsidering their recreation choices. But they were very, very happy to be finished, and congratulations to Kate and Zach. Thank you, Councilwoman Sussman. Councilwoman Layman? Thank you. I just want to third this. My son, John, and his wife, Sarah, also ran. See, we might not run ourselves, but we, our generation, our next generation, are real great athletes. And again, it was just a wonderful experience for both of them. Thank you, Councilwoman Layman. Any other comments from members of council? I'd like to add just one, just to let you all know. We are off next week for the Memorial Day holiday, so we will be back on Monday, June 1st. And I'd like to make a personal announcement. So the Herndon household will be expanding by one or maybe half of a person next week, as my wife and I are expecting a baby boy to show up probably sometime next week. But I just wanted to say thank you to the city council family. We got some great gifts on our registry this weekend, and so I just wanted to publicly thank you all for that. We've got everything we need. We are now just waiting on the baby. So thank you all for that. I sincerely appreciate it on behalf of my wife and our daughter, Griffin, who I think is more excited than both of us combined. So seeing no other, we are moving to presentations. Madam Secretary, do we have any presentations? None, Mr. President. Communications. Madam Secretary, do we have any communications? None, Mr. President. We do have two proclamations this evening. We're going to start with Proclamation 320. Councilwoman Shepard, will you please read Proclamation 320? Thank you, Mr. President. With pleasure. Designating May 17th through May 23rd as Public Works Week in Denver and congratulating the Denver Public Works Department's 10 employees of the year for 2014. Whereas in celebrating the American Public Works Association's 2015 theme of Community Begins Here, we recognize that Denver Public Works, through its 1,100 employees, consistently delivers safe, high-quality, cost-effective services to the citizens of Denver. And whereas Denver Public Works services are an integral part of our residents' everyday lives, with programs that include street sweeping, recycling, refuse collection, pothole repair, and street paving. And whereas Denver Public Works enhances the quality of life in our city by managing and maintaining public infrastructure, including city rights-of-way, streets, alleys, on-street parking, drainage ways, sewers, bridges, traffic signals, street markings, and signage, as well as contracting, procurement, cashiering, and permitting programs that meet the needs of the public. And whereas Denver Public Works continues to make significant contributions to our built environment, managing the planning, design, and construction of public infrastructure and new transportation options, including installing Denver's first protected bikeway and permitting the city's first on-street public bike corrals. And whereas as our city grows, Denver Public Works will work to accommodate more people with a strategic plan that focuses on SMART growth, SMART being an acronym, and making Denver more, and this is what it stands for, sustainable, multimodal, attractive, resilient, and transparent. And whereas the council specifically recognizes and congratulates the Denver Public Works Employees of the Year for 2014 for their achievements. Michael Lopez, Capital Projects Management. Rudy Schlose, with Finance and Administration. Duane Fields, in Fleet Management. Rachel Reyes. We've got a popular one out there. Rachel Reyes-Walsh, with Right-of-Way Enforcement and Permitting. Steven Forvilli, Right-of-Way Services. Sarah Anderson, with Policy Planning and Sustainability. Rosalio Villalobos, Solid Waste Management. Larry Lovato, with Street Maintenance. Rachel Bronson, in Transportation. And Danny Lopez, with Wastewater Management. Now, therefore, be it proclaimed by the Council of the City and County of Denver, Section 1, that the Council designates the week of May 17th through May 23rd, 2015, as Public Works Week in Denver, and congratulates the 2015 Public Works Employees of the Year and their outstanding contributions to the department and the city. Section 2, that the clerk of the City and County of Denver shall attest and affix the seal of the City and County of Denver to this proclamation, and that copies hereof be forwarded to Denver Public Works and the 10 Public Works employees listed above. Thank you, Councilwoman Shepard. Your motion to adopt? I move that we adopt Proclamation Number 320, Series of 2015. Second. Moved and seconded. Comments from members of Council? Councilwoman Shepard. Thank you, Mr. President. It's such a pleasure to be able to read this proclamation again this year. I am chair of the Infrastructure and Culture Committee, and transportation planning and all the good work that we do in Public Works is really a specialty interest of mine. And a lot of people don't know this, but Public Works is the second biggest part of our city budget on an annual basis, just after the Public Safety Department. And when it's working well, we don't hear much from the public, but we do hear when they're upset about things. But the great news is, is that every time that your trash is picked up, or that your sewer works the way it's supposed to, or that you arrive on time and safely at work or at school or any other parts of your destination during the day, the reason that you got there or the reason that those things were achieved is because of the hard work of our second largest department in the City and County of Denver. I just can't speak highly enough for this department, and I think you guys are kind of the unsung heroes, so I'm really glad we're taking this time today to recognize all of the really hard and valuable work that you do to make this city work. And I travel a lot. I travel in the United States a lot, but I also travel in a fair number of developing countries, and I'm always really struck by the way, by the contrast between the way our infrastructure works so well here in the United States and in Colorado specifically, as compared to some of the other cities and countries around the world that I have visited, which also have nice features as well. But perhaps things working on time correctly, safely, and efficiently may not be some of those strengths in other areas of the world. So I'm very thankful for the work that you all do, and I'm especially proud of the growth that we have made in the last few years in terms of really promoting an agenda that helps promote safety for pedestrians and cyclists. And the work that we have made to push the boundaries in this area in Denver in the last few years is really great, and it's also been a big focus of many members of this council, as evidenced by our budget retreats in the last few years. So thank you all so much for all your work, and I'm sure that some of my colleagues might have some comments as well to make, but it's great to see you in chambers tonight. Thank you, Councilwoman Sheppard. Any other comments? Proclamation 320. Councilwoman Ortega. Thank you, Mr. President. I just wanted to also weigh in, and first of all, thank Councilwoman Sheppard for bringing this forward once again. I think it's vitally important to be able to recognize our city employees for the incredible work that is done day in and day out that keeps this city looking clean and great. I know the issue of filling those potholes continues to be a challenge, especially as we continue to have rain, but the work that's done of all of the different public works divisions, if you will, is such an important part of the basic services that our public, our constituents, come to expect. We believe that their taxpayer dollars pay for those services, and if it were not for all of you sitting in the audience today and your colleagues who make this work happen and ensuring that everything works the way it's supposed to, you know, when people's toilets flush, when they turn on the water, you know, our drainage systems throughout the city, through our tributaries, all of that is part of the work that we do. It's part of the work that our city employees do for us, and I just want to say a big thank you. Congratulations to the honorees, but congratulations to all of you for the work that you do every day. Thank you, Mr. President. Councilman Ortega. Councilman Nevitt. Thank you, Mr. President. I will echo but not repeat what my colleagues have said very eloquently. I just ask that whoever comes up to speak to the proclamation, I assume it'll be Manager Cornejo that he'll introduce these awardees individually so we get a chance to thank them directly. Thank you, Councilman Nevitt. Councilwoman Montero. Thank you, Mr. President. I also want to extend my congratulations to all of you. For the general public, there are so many divisions that are within Public Works. For example, solid waste. I'm so happy that we have rollout barrels now in Global Hillary Swansea and now Lama Lincoln wants them. So that's something that Councilman Lopez will work on. And wastewater and traffic management, and I'm sure that there's other divisions that I'm forgetting, but I just want to say that, as was mentioned earlier, many times to keep things running smoothly, you don't hear from people and you don't hear them call and say, gee, you really did a good job today. I like the way my street sign looks or something, but the minute that someone hits a pothole or even the timing on the traffic lights, which I've called George Delaney on plenty of times, so it's one of those divisions where we just hear from people when the trains aren't running on time. So I just want to say that I appreciate with all my heart all of the work that Commander Cornejo and the whole staff do every day and that I am always thankful when everything is running smoothly and people are happy. So when people are happy, we won't hear from them. And so this is one night where we're able to celebrate and be able to tell you thank you. Thank you, Councilman Montero. Councilman Lopez. Thank you. I just wanted to say a quick thank you to all of you who are being honored, but also I think it's just a reflection of the department. It's a reflection of the leadership. When you look at basic city services and what our constituents see as city services, you are that face. And that department accounts for so much of our budget, and rightfully so, especially in a state where it snows one day, then it rains the hour later, and then it's sunny. It wreaks havoc on our infrastructure, and it wreaks havoc on our budget as well. It wreaks havoc in offices. There's always a phone call that comes in from council offices to public works saying, can you fix this pothole, that pothole? Can you get people out here? It doesn't just happen in a vacuum. These are hardworking people. A lot of them who I know call Council District 3 home, and it's their city, and there's nothing more gratifying than when you go out there and you see folks, for example, with street cleaners that are out there putting in new asphalt, blistering summer days. It's over 200 degrees with the asphalt, with that heat coming out. And to see them being able to work on streets that they grew up in really says something. And it says something about the quality of work that's being done, the dedication of our employees to our city. So I wish we could pass out, I don't know how many employees do we have, Manager Cortenejo and Public Works. We should name all of them one day on a proclamation. Not necessarily read it, but list it. It'd be interesting, but they all deserve it. Thank you very much, those of you who are being honored. Thank you, Councilman Lopez. Councilwoman Robb. Thank you, Mr. President. I just can't let this resolution go by, noting that it honors two people from right-of-way services, which is probably the part of Public Works that my office calls most frequently, whether it has to do with street occupancy permits in construction zones or closed sidewalks or parking. We talk to right-of-way services almost on a daily basis, so I wanted to call out that division. All of you are very deserving. Thank you very much. Thank you, Councilwoman Robb. Any other comments? 3-2-0. Seeing none, Madam Secretary, roll call. Shepard. Aye. Sussman. Aye. Brooks. Aye. Fatz. Aye. Layman. Aye. Roth. Aye. Mr. President. Aye. Madam Secretary, please close the voting and announce the results. 11 ayes. 11 ayes. Proclamation 3-2-0 has been adopted. Councilwoman Shepard, is there someone you'd like to invite to the podium to receive the proclamation? Absolutely. I would like to invite Director Jose Cornejo, and please be sure to introduce all of the employees tonight as well. Thank you very much. Thank you for the proclamation, but more important for the relationship that members of the council have developed with Public Works. I think this is very, very important that we have this type of relationship in order to not only maintain the city, but continuing building the city the way we're doing. Yes, I wish that all 1,100 employees could be here today, because each one of them really deserves a pat on the back for what they do. But we have our spotlight employees. We have the 10 employees that have been nominated as Employee of the Year, and I'd like to talk a little bit about each one of them, because I think sometimes we get lost a little bit when we have 1,100 employees not talking about each one of them and what they do on a day-to-day basis. So I'd like to start with Rudy Schloth from Finance and Administration. Rudy, always.\n",
      "\n"
     ]
    }
   ],
   "source": [
    "#use the whisper openai model to convert audio to text\n",
    "audio_file = open(audio_filename, 'rb')\n",
    "transcription = openai.audio.transcriptions.create(model = audio_model, file=audio_file, response_format='text')\n",
    "print(transcription)"
   ]
  },
  {
   "cell_type": "code",
   "execution_count": null,
   "id": "ffc10cbb-d99b-4ed0-aa0b-6911f5dc3685",
   "metadata": {},
   "outputs": [],
   "source": [
    "## system and user prompt for llama to get summary from transcription from previous output from whisper-1 api model"
   ]
  },
  {
   "cell_type": "code",
   "execution_count": 75,
   "id": "6f018406-7f35-48ab-9c8e-791ae984616f",
   "metadata": {},
   "outputs": [],
   "source": [
    "system_message = \"you are an assistant that produces minutes of meeting from transcript, with summary, key discussion point, takeaways and action items with owner in markdown\"\n",
    "\n",
    "user_prompt = f\"below is an extract transcript of Denver council meeting. please write minutes in markdown, including summary with attendees, location and dates, discussion points for {transcription}\"\n",
    "messages = [\n",
    "    {\"role\":\"system\", \"content\":system_message},\n",
    "    {\"role\":\"user\", \"content\":user_prompt},\n",
    "\n",
    "]\n",
    "\n"
   ]
  },
  {
   "cell_type": "code",
   "execution_count": 76,
   "id": "b9be0c29-0b87-45ec-ab97-8596245b4939",
   "metadata": {},
   "outputs": [],
   "source": [
    "quant_config = BitsAndBytesConfig(\n",
    "    load_in_4_bits=True,\n",
    "    bnb_4bit_use_double_quant = True,\n",
    "    bnb_4bit_compute_dtype=torch.bfloat16,\n",
    "    bnb_4bit_quant_type=\"nf4\"\n",
    "\n",
    ")"
   ]
  },
  {
   "cell_type": "code",
   "execution_count": 80,
   "id": "0d4d3ba2-3b73-4b95-8bfb-275d49e35be6",
   "metadata": {},
   "outputs": [
    {
     "name": "stderr",
     "output_type": "stream",
     "text": [
      "Loading checkpoint shards: 100%|██████████████████████████████████████████████████████████████████████████████████████████████████████████| 4/4 [00:42<00:00, 10.66s/it]\n",
      "The attention mask and the pad token id were not set. As a consequence, you may observe unexpected behavior. Please pass your input's `attention_mask` to obtain reliable results.\n",
      "Setting `pad_token_id` to `eos_token_id`:128001 for open-end generation.\n"
     ]
    },
    {
     "name": "stdout",
     "output_type": "stream",
     "text": [
      "<|begin_of_text|><|start_header_id|>system<|end_header_id|>\n",
      "\n",
      "Cutting Knowledge Date: December 2023\n",
      "Today Date: 26 Jul 2024\n",
      "\n",
      "you are an assistant that produces minutes of meeting from transcript, with summary, key discussion point, takeaways and action items with owner in markdown<|eot_id|><|start_header_id|>user<|end_header_id|>\n",
      "\n",
      "always.<|eot_id|><|start_header_id|>assistant<|end_header_id|>se write minutes in markdown, including summary with attendees, location and dates, discussion points for ♪♪ ♪♪ ♪♪ ♪♪ ♪♪ ♪♪ ♪♪ ♪♪ ♪♪ ♪♪ ♪♪ ♪♪ ♪♪ ♪♪ ♪♪ Good evening, I want to welcome you to the Denver City Council meeting of Monday, May 18, 2015. Please rise and join Councilwoman Sussman in the Pledge of Allegiance. I pledge allegiance to the flag of the United States of America, and to the republic for which it stands, one nation, under God, indivisible, with liberty and justice for all. Thank you, Councilwoman. Madam Secretary, roll call. Brooks. Here. Brown. Here. Kenneche. Here. Layman. Here. Lopez. Here. Montero. Here. Nevitt. Here. Ortega. Here. Robb. Here. Shepard. Here. Sussman. Here. Mr. President. Here. 11 present. We have 11 members present. We have a quorum. Approval of minutes. Any corrections to the minutes of Monday, May 11, 2015? Seeing none, the minutes of May 11, 2015 stand approved. Council announcements. Any announcements from members of Council? Councilwoman Montero. Thank you, Mr. President. I just wanted to announce that last Thursday, on May 14th, we had a community unveiling of the new Youth on Record media studio located at the Mariposa Redevelopment in Lama Lincoln Park. And what's so significant about this particular program is that they were able to complete the $2 million youth media studio at 1301 10th Avenue. They began with a facility that they broke ground in 2012 with more than a million dollars in funding from the Denver Housing Authority. And then they raised another million with gifts from DeVita, Anschutz, Denver Public Library, Betcher, Gates Family Foundation, and others. So the crews have been putting the finishing touches on the control room where a sound board that was formerly part of the phrase studio is being not so much recycled. It's pretty fancy equipment. But they've donated it to Youth on Record, and it's a place where local producers and musicians will teach kids how to record and also learn audio engineering classes. So I am very, very proud of them and just wanted to give a shout-out. Many of the kids that go to Youth on Record are from the Colorado High School Charter, and 90% of the teens involved in Youth on Record are youth of color, and 90% are on free or reduced lunches. So I'm very, very happy, and congratulations to Youth on Record. Thank you, Councilman Montero. Councilman Brooks? Hey, thank you, Mr. President. I wanted to just say how thrilled I was at the event that we had in Five Points this weekend, the Five Points Jazz Festival. Come on, everybody. Who was there? Who was there? One. Okay, great. We had, even though we had a rainstorm in the middle, we had 20,000 people on Welton, and we were hoping for 30,000, but we'll take 20,000. It was incredible. I think so much work was done. Brooke Dilling, who is a representative from Arts & Venue, led the whole project. Norman Harris III, who is on our Five Points business board, did a great job orchestrating everything. But the picture that I want to give you guys is being on stage when one of our many jazz performers was singing and seeing 10 blocks wall-to-wall with the most beautiful presentation of people, rich, poor, old, young, all beautiful, and diverse, and just so eclectic, and not one problem, not one issue the whole day. And so it was completely safe. It was a lot of fun. So I am just thrilled, and I just want to say a special thanks to Kent Rice and Arts & Venue. This is their largest community event, and they invest over $100,000 into one day. But the economic impact is hard to track on that day because it's the gift that keeps on giving to our community in Five Points. So many, many thanks to Arts & Venue. Thank you. Thank you, Councilman. It's a great event. And speaking of great events, I'm betting Councilwoman Robb is going to talk about another one. Go ahead, Councilwoman Robb. You read my mind, Council President. I, too, want to talk about a fabulous event that occurred this weekend, which was the 10th anniversary Colfax Marathon. I really couldn't have been prouder. Without doing a proclamation this year, or even weeks of announcements beforehand, because I know most of the runners come from council announcements, right? But at any rate, without my doing any of that and driving my colleagues nutty, we had over 17,000 runners participate. And the event went very smoothly. All right. Who here ran? Who ran? Councilwoman Sussman? No. But I'll speak about that a little bit later. Councilwoman Sussman had family members who came to Denver for the marathon. We had great weather. Someone was responsible for that, I'm sure. A fabulous festival. 150 charity partners. And I do really want to, once again, thank the Public Works Department, the Denver Police Department, and our sponsors, Kaiser Permanente, which is the title sponsor, DaVita, which sponsors the charity partners. And finally, the thousands of volunteers it took to put on the event. So that's the last announcement I'll be making about the Colfax Marathon from this dais. Thank you, Councilwoman Robb. Councilwoman Sussman? I can't let that one go by. It was a fabulous event. And I was my daughter, Kate, and her husband, Zach, ran in that race and told me how well organized it was. It was so well organized. 23,000 runners, I understand. And they came through it with some excellent timing, although the looks on their faces afterwards looks as if they might be reconsidering their recreation choices. But they were very, very happy to be finished, and congratulations to Kate and Zach. Thank you, Councilwoman Sussman. Councilwoman Layman? Thank you. I just want to third this. My son, John, and his wife, Sarah, also ran. See, we might not run ourselves, but we, our generation, our next generation, are real great athletes. And again, it was just a wonderful experience for both of them. Thank you, Councilwoman Layman. Any other comments from members of council? I'd like to add just one, just to let you all know. We are off next week for the Memorial Day holiday, so we will be back on Monday, June 1st. And I'd like to make a personal announcement. So the Herndon household will be expanding by one or maybe half of a person next week, as my wife and I are expecting a baby boy to show up probably sometime next week. But I just wanted to say thank you to the city council family. We got some great gifts on our registry this weekend, and so I just wanted to publicly thank you all for that. We've got everything we need. We are now just waiting on the baby. So thank you all for that. I sincerely appreciate it on behalf of my wife and our daughter, Griffin, who I think is more excited than both of us combined. So seeing no other, we are moving to presentations. Madam Secretary, do we have any presentations? None, Mr. President. Communications. Madam Secretary, do we have any communications? None, Mr. President. We do have two proclamations this evening. We're going to start with Proclamation 320. Councilwoman Shepard, will you please read Proclamation 320? Thank you, Mr. President. With pleasure. Designating May 17th through May 23rd as Public Works Week in Denver and congratulating the Denver Public Works Department's 10 employees of the year for 2014. Whereas in celebrating the American Public Works Association's 2015 theme of Community Begins Here, we recognize that Denver Public Works, through its 1,100 employees, consistently delivers safe, high-quality, cost-effective services to the citizens of Denver. And whereas Denver Public Works services are an integral part of our residents' everyday lives, with programs that include street sweeping, recycling, refuse collection, pothole repair, and street paving. And whereas Denver Public Works enhances the quality of life in our city by managing and maintaining public infrastructure, including city rights-of-way, streets, alleys, on-street parking, drainage ways, sewers, bridges, traffic signals, street markings, and signage, as well as contracting, procurement, cashiering, and permitting programs that meet the needs of the public. And whereas Denver Public Works continues to make significant contributions to our built environment, managing the planning, design, and construction of public infrastructure and new transportation options, including installing Denver's first protected bikeway and permitting the city's first on-street public bike corrals. And whereas as our city grows, Denver Public Works will work to accommodate more people with a strategic plan that focuses on SMART growth, SMART being an acronym, and making Denver more, and this is what it stands for, sustainable, multimodal, attractive, resilient, and transparent. And whereas the council specifically recognizes and congratulates the Denver Public Works Employees of the Year for 2014 for their achievements. Michael Lopez, Capital Projects Management. Rudy Schlose, with Finance and Administration. Duane Fields, in Fleet Management. Rachel Reyes. We've got a popular one out there. Rachel Reyes-Walsh, with Right-of-Way Enforcement and Permitting. Steven Forvilli, Right-of-Way Services. Sarah Anderson, with Policy Planning and Sustainability. Rosalio Villalobos, Solid Waste Management. Larry Lovato, with Street Maintenance. Rachel Bronson, in Transportation. And Danny Lopez, with Wastewater Management. Now, therefore, be it proclaimed by the Council of the City and County of Denver, Section 1, that the Council designates the week of May 17th through May 23rd, 2015, as Public Works Week in Denver, and congratulates the 2015 Public Works Employees of the Year and their outstanding contributions to the department and the city. Section 2, that the clerk of the City and County of Denver shall attest and affix the seal of the City and County of Denver to this proclamation, and that copies hereof be forwarded to Denver Public Works and the 10 Public Works employees listed above. Thank you, Councilwoman Shepard. Your motion to adopt? I move that we adopt Proclamation Number 320, Series of 2015. Second. Moved and seconded. Comments from members of Council? Councilwoman Shepard. Thank you, Mr. President. It's such a pleasure to be able to read this proclamation again this year. I am chair of the Infrastructure and Culture Committee, and transportation planning and all the good work that we do in Public Works is really a specialty interest of mine. And a lot of people don't know this, but Public Works is the second biggest part of our city budget on an annual basis, just after the Public Safety Department. And when it's working well, we don't hear much from the public, but we do hear when they're upset about things. But the great news is, is that every time that your trash is picked up, or that your sewer works the way it's supposed to, or that you arrive on time and safely at work or at school or any other parts of your destination during the day, the reason that you got there or the reason that those things were achieved is because of the hard work of our second largest department in the City and County of Denver. I just can't speak highly enough for this department, and I think you guys are kind of the unsung heroes, so I'm really glad we're taking this time today to recognize all of the really hard and valuable work that you do to make this city work. And I travel a lot. I travel in the United States a lot, but I also travel in a fair number of developing countries, and I'm always really struck by the way, by the contrast between the way our infrastructure works so well here in the United States and in Colorado specifically, as compared to some of the other cities and countries around the world that I have visited, which also have nice features as well. But perhaps things working on time correctly, safely, and efficiently may not be some of those strengths in other areas of the world. So I'm very thankful for the work that you all do, and I'm especially proud of the growth that we have made in the last few years in terms of really promoting an agenda that helps promote safety for pedestrians and cyclists. And the work that we have made to push the boundaries in this area in Denver in the last few years is really great, and it's also been a big focus of many members of this council, as evidenced by our budget retreats in the last few years. So thank you all so much for all your work, and I'm sure that some of my colleagues might have some comments as well to make, but it's great to see you in chambers tonight. Thank you, Councilwoman Sheppard. Any other comments? Proclamation 320. Councilwoman Ortega. Thank you, Mr. President. I just wanted to also weigh in, and first of all, thank Councilwoman Sheppard for bringing this forward once again. I think it's vitally important to be able to recognize our city employees for the incredible work that is done day in and day out that keeps this city looking clean and great. I know the issue of filling those potholes continues to be a challenge, especially as we continue to have rain, but the work that's done of all of the different public works divisions, if you will, is such an important part of the basic services that our public, our constituents, come to expect. We believe that their taxpayer dollars pay for those services, and if it were not for all of you sitting in the audience today and your colleagues who make this work happen and ensuring that everything works the way it's supposed to, you know, when people's toilets flush, when they turn on the water, you know, our drainage systems throughout the city, through our tributaries, all of that is part of the work that we do. It's part of the work that our city employees do for us, and I just want to say a big thank you. Congratulations to the honorees, but congratulations to all of you for the work that you do every day. Thank you, Mr. President. Councilman Ortega. Councilman Nevitt. Thank you, Mr. President. I will echo but not repeat what my colleagues have said very eloquently. I just ask that whoever comes up to speak to the proclamation, I assume it'll be Manager Cornejo that he'll introduce these awardees individually so we get a chance to thank them directly. Thank you, Councilman Nevitt. Councilwoman Montero. Thank you, Mr. President. I also want to extend my congratulations to all of you. For the general public, there are so many divisions that are within Public Works. For example, solid waste. I'm so happy that we have rollout barrels now in Global Hillary Swansea and now Lama Lincoln wants them. So that's something that Councilman Lopez will work on. And wastewater and traffic management, and I'm sure that there's other divisions that I'm forgetting, but I just want to say that, as was mentioned earlier, many times to keep things running smoothly, you don't hear from people and you don't hear them call and say, gee, you really did a good job today. I like the way my street sign looks or something, but the minute that someone hits a pothole or even the timing on the traffic lights, which I've called George Delaney on plenty of times, so it's one of those divisions where we just hear from people when the trains aren't running on time. So I just want to say that I appreciate with all my heart all of the work that Commander Cornejo and the whole staff do every day and that I am always thankful when everything is running smoothly and people are happy. So when people are happy, we won't hear from them. And so this is one night where we're able to celebrate and be able to tell you thank you. Thank you, Councilman Montero. Councilman Lopez. Thank you. I just wanted to say a quick thank you to all of you who are being honored, but also I think it's just a reflection of the department. It's a reflection of the leadership. When you look at basic city services and what our constituents see as city services, you are that face. And that department accounts for so much of our budget, and rightfully so, especially in a state where it snows one day, then it rains the hour later, and then it's sunny. It wreaks havoc on our infrastructure, and it wreaks havoc on our budget as well. It wreaks havoc in offices. There's always a phone call that comes in from council offices to public works saying, can you fix this pothole, that pothole? Can you get people out here? It doesn't just happen in a vacuum. These are hardworking people. A lot of them who I know call Council District 3 home, and it's their city, and there's nothing more gratifying than when you go out there and you see folks, for example, with street cleaners that are out there putting in new asphalt, blistering summer days. It's over 200 degrees with the asphalt, with that heat coming out. And to see them being able to work on streets that they grew up in really says something. And it says something about the quality of work that's being done, the dedication of our employees to our city. So I wish we could pass out, I don't know how many employees do we have, Manager Cortenejo and Public Works. We should name all of them one day on a proclamation. Not necessarily read it, but list it. It'd be interesting, but they all deserve it. Thank you very much, those of you who are being honored. Thank you, Councilman Lopez. Councilwoman Robb. Thank you, Mr. President. I just can't let this resolution go by, noting that it honors two people from right-of-way services, which is probably the part of Public Works that my office calls most frequently, whether it has to do with street occupancy permits in construction zones or closed sidewalks or parking. We talk to right-of-way services almost on a daily basis, so I wanted to call out that division. All of you are very deserving. Thank you very much. Thank you, Councilwoman Robb. Any other comments? 3-2-0. Seeing none, Madam Secretary, roll call. Shepard. Aye. Sussman. Aye. Brooks. Aye. Fatz. Aye. Layman. Aye. Roth. Aye. Mr. President. Aye. Madam Secretary, please close the voting and announce the results. 11 ayes. 11 ayes. Proclamation 3-2-0 has been adopted. Councilwoman Shepard, is there someone you'd like to invite to the podium to receive the proclamation? Absolutely. I would like to invite Director Jose Cornejo, and please be sure to introduce all of the employees tonight as well. Thank you very much. Thank you for the proclamation, but more important for the relationship that members of the council have developed with Public Works. I think this is very, very important that we have this type of relationship in order to not only maintain the city, but continuing building the city the way we're doing. Yes, I wish that all 1,100 employees could be here today, because each one of them really deserves a pat on the back for what they do. But we have our spotlight employees. We have the 10 employees that have been nominated as Employee of the Year, and I'd like to talk a little bit about each one of them, because I think sometimes we get lost a little bit when we have 1,100 employees not talking about each one of them and what they do on a day-to-day basis. So I'd like to start with Rudy Schloth from Finance and Administration. Rudy, \n",
      "\n",
      "**Minutes of the Denver City Council Meeting**\n",
      "=====================================================\n",
      "\n",
      "\n",
      "**Attendees:**\n",
      "---------------\n",
      "\n",
      "* Councilwoman Sussman\n",
      "* Councilman Brooks\n",
      "* Councilwoman Robb\n",
      "* Councilwoman Montero\n",
      "* Councilman Lopez\n",
      "* Councilwoman Shepard\n",
      "* Councilman Nevitt\n",
      "* Councilwoman Ortega\n",
      "* Councilwoman Layman\n",
      "* Councilman Brooks\n",
      "* Council President\n",
      "\n",
      "**Location:**\n",
      "-------------\n",
      "\n",
      "* Denver City Council Chambers\n",
      "\n",
      "**Date:**\n",
      "---------\n",
      "\n",
      "* Monday, May 18, 2015\n",
      "\n",
      "**Summary:**\n",
      "--------------\n",
      "\n",
      "The Denver City Council meeting on May 18, 2015, began with the Pledge of Allegiance and roll call. Councilwoman Montero announced the community unveiling of the new Youth on Record media studio, and Councilman Brooks announced the success of the Five Points Jazz Festival. Councilwoman Robb congratulated the organizers of the Colfax Marathon. The council then approved Proclamation 320, designating May 17th through May 23rd as Public Works Week in Denver and congratulating the 2015 Public Works Employees of the Year.\n",
      "\n",
      "**Key Discussion Points:**\n",
      "---------------------------\n",
      "\n",
      "* Councilwoman Montero's announcement of the Youth on Record media studio\n",
      "* Councilman Brooks' announcement of the Five Points Jazz Festival\n",
      "* Councilwoman Robb's congratulations to the Colfax Marathon organizers\n",
      "* Approval of Proclamation 320, Public Works Week in Denver\n",
      "\n",
      "**Takeaways:**\n",
      "--------------\n",
      "\n",
      "* The new Youth on Record media studio is a valuable resource for local youth\n",
      "* The Five Points Jazz Festival was a successful event\n",
      "* The Colfax Marathon was well-organized and had a significant economic impact\n",
      "* The 2015 Public Works Employees of the Year were recognized for their outstanding contributions to the department\n",
      "\n",
      "**Action Items:**\n",
      "------------------\n",
      "\n",
      "* None\n",
      "\n",
      "**Next Steps:**\n",
      "----------------\n",
      "\n",
      "* The council will reconvene on Monday, June 1st, after the Memorial Day holiday\n",
      "* The city council family has gifted the Herndon household with baby registry items\n",
      "* The proclamation for Public Works Week in Denver will be presented to the Public Works Employees of the Year<|eot_id|>\n",
      "<|begin_of_text|><|start_header_id|>system<|end_header_id|>\n",
      "\n",
      "Cutting Knowledge Date: December 2023\n",
      "Today Date: 26 Jul 2024\n",
      "\n",
      "you are an assistant that produces minutes of meeting from transcript, with summary, key discussion point, takeaways and action items with owner in markdown<|eot_id|><|start_header_id|>user<|end_header_id|>\n",
      "\n",
      "below is an extract transcript of Denver council meeting. please write minutes in markdown, including summary with attendees, location and dates, discussion points for ♪♪ ♪♪ ♪♪ ♪♪ ♪♪ ♪♪ ♪♪ ♪♪ ♪♪ ♪♪ ♪♪ ♪♪ ♪♪ ♪♪ ♪♪ Good evening, I want to welcome you to the Denver City Council meeting of Monday, May 18, 2015. Please rise and join Councilwoman Sussman in the Pledge of Allegiance. I pledge allegiance to the flag of the United States of America, and to the republic for which it stands, one nation, under God, indivisible, with liberty and justice for all. Thank you, Councilwoman. Madam Secretary, roll call. Brooks. Here. Brown. Here. Kenneche. Here. Layman. Here. Lopez. Here. Montero. Here. Nevitt. Here. Ortega. Here. Robb. Here. Shepard. Here. Sussman. Here. Mr. President. Here. 11 present. We have 11 members present. We have a quorum. Approval of minutes. Any corrections to the minutes of Monday, May 11, 2015? Seeing none, the minutes of May 11, 2015 stand approved. Council announcements. Any announcements from members of Council? Councilwoman Montero. Thank you, Mr. President. I just wanted to announce that last Thursday, on May 14th, we had a community unveiling of the new Youth on Record media studio located at the Mariposa Redevelopment in Lama Lincoln Park. And what's so significant about this particular program is that they were able to complete the $2 million youth media studio at 1301 10th Avenue. They began with a facility that they broke ground in 2012 with more than a million dollars in funding from the Denver Housing Authority. And then they raised another million with gifts from DeVita, Anschutz, Denver Public Library, Betcher, Gates Family Foundation, and others. So the crews have been putting the finishing touches on the control room where a sound board that was formerly part of the phrase studio is being not so much recycled. It's pretty fancy equipment. But they've donated it to Youth on Record, and it's a place where local producers and musicians will teach kids how to record and also learn audio engineering classes. So I am very, very proud of them and just wanted to give a shout-out. Many of the kids that go to Youth on Record are from the Colorado High School Charter, and 90% of the teens involved in Youth on Record are youth of color, and 90% are on free or reduced lunches. So I'm very, very happy, and congratulations to Youth on Record. Thank you, Councilman Montero. Councilman Brooks? Hey, thank you, Mr. President. I wanted to just say how thrilled I was at the event that we had in Five Points this weekend, the Five Points Jazz Festival. Come on, everybody. Who was there? Who was there? One. Okay, great. We had, even though we had a rainstorm in the middle, we had 20,000 people on Welton, and we were hoping for 30,000, but we'll take 20,000. It was incredible. I think so much work was done. Brooke Dilling, who is a representative from Arts & Venue, led the whole project. Norman Harris III, who is on our Five Points business board, did a great job orchestrating everything. But the picture that I want to give you guys is being on stage when one of our many jazz performers was singing and seeing 10 blocks wall-to-wall with the most beautiful presentation of people, rich, poor, old, young, all beautiful, and diverse, and just so eclectic, and not one problem, not one issue the whole day. And so it was completely safe. It was a lot of fun. So I am just thrilled, and I just want to say a special thanks to Kent Rice and Arts & Venue. This is their largest community event, and they invest over $100,000 into one day. But the economic impact is hard to track on that day because it's the gift that keeps on giving to our community in Five Points. So many, many thanks to Arts & Venue. Thank you. Thank you, Councilman. It's a great event. And speaking of great events, I'm betting Councilwoman Robb is going to talk about another one. Go ahead, Councilwoman Robb. You read my mind, Council President. I, too, want to talk about a fabulous event that occurred this weekend, which was the 10th anniversary Colfax Marathon. I really couldn't have been prouder. Without doing a proclamation this year, or even weeks of announcements beforehand, because I know most of the runners come from council announcements, right? But at any rate, without my doing any of that and driving my colleagues nutty, we had over 17,000 runners participate. And the event went very smoothly. All right. Who here ran? Who ran? Councilwoman Sussman? No. But I'll speak about that a little bit later. Councilwoman Sussman had family members who came to Denver for the marathon. We had great weather. Someone was responsible for that, I'm sure. A fabulous festival. 150 charity partners. And I do really want to, once again, thank the Public Works Department, the Denver Police Department, and our sponsors, Kaiser Permanente, which is the title sponsor, DaVita, which sponsors the charity partners. And finally, the thousands of volunteers it took to put on the event. So that's the last announcement I'll be making about the Colfax Marathon from this dais. Thank you, Councilwoman Robb. Councilwoman Sussman? I can't let that one go by. It was a fabulous event. And I was my daughter, Kate, and her husband, Zach, ran in that race and told me how well organized it was. It was so well organized. 23,000 runners, I understand. And they came through it with some excellent timing, although the looks on their faces afterwards looks as if they might be reconsidering their recreation choices. But they were very, very happy to be finished, and congratulations to Kate and Zach. Thank you, Councilwoman Sussman. Councilwoman Layman? Thank you. I just want to third this. My son, John, and his wife, Sarah, also ran. See, we might not run ourselves, but we, our generation, our next generation, are real great athletes. And again, it was just a wonderful experience for both of them. Thank you, Councilwoman Layman. Any other comments from members of council? I'd like to add just one, just to let you all know. We are off next week for the Memorial Day holiday, so we will be back on Monday, June 1st. And I'd like to make a personal announcement. So the Herndon household will be expanding by one or maybe half of a person next week, as my wife and I are expecting a baby boy to show up probably sometime next week. But I just wanted to say thank you to the city council family. We got some great gifts on our registry this weekend, and so I just wanted to publicly thank you all for that. We've got everything we need. We are now just waiting on the baby. So thank you all for that. I sincerely appreciate it on behalf of my wife and our daughter, Griffin, who I think is more excited than both of us combined. So seeing no other, we are moving to presentations. Madam Secretary, do we have any presentations? None, Mr. President. Communications. Madam Secretary, do we have any communications? None, Mr. President. We do have two proclamations this evening. We're going to start with Proclamation 320. Councilwoman Shepard, will you please read Proclamation 320? Thank you, Mr. President. With pleasure. Designating May 17th through May 23rd as Public Works Week in Denver and congratulating the Denver Public Works Department's 10 employees of the year for 2014. Whereas in celebrating the American Public Works Association's 2015 theme of Community Begins Here, we recognize that Denver Public Works, through its 1,100 employees, consistently delivers safe, high-quality, cost-effective services to the citizens of Denver. And whereas Denver Public Works services are an integral part of our residents' everyday lives, with programs that include street sweeping, recycling, refuse collection, pothole repair, and street paving. And whereas Denver Public Works enhances the quality of life in our city by managing and maintaining public infrastructure, including city rights-of-way, streets, alleys, on-street parking, drainage ways, sewers, bridges, traffic signals, street markings, and signage, as well as contracting, procurement, cashiering, and permitting programs that meet the needs of the public. And whereas Denver Public Works continues to make significant contributions to our built environment, managing the planning, design, and construction of public infrastructure and new transportation options, including installing Denver's first protected bikeway and permitting the city's first on-street public bike corrals. And whereas as our city grows, Denver Public Works will work to accommodate more people with a strategic plan that focuses on SMART growth, SMART being an acronym, and making Denver more, and this is what it stands for, sustainable, multimodal, attractive, resilient, and transparent. And whereas the council specifically recognizes and congratulates the Denver Public Works Employees of the Year for 2014 for their achievements. Michael Lopez, Capital Projects Management. Rudy Schlose, with Finance and Administration. Duane Fields, in Fleet Management. Rachel Reyes. We've got a popular one out there. Rachel Reyes-Walsh, with Right-of-Way Enforcement and Permitting. Steven Forvilli, Right-of-Way Services. Sarah Anderson, with Policy Planning and Sustainability. Rosalio Villalobos, Solid Waste Management. Larry Lovato, with Street Maintenance. Rachel Bronson, in Transportation. And Danny Lopez, with Wastewater Management. Now, therefore, be it proclaimed by the Council of the City and County of Denver, Section 1, that the Council designates the week of May 17th through May 23rd, 2015, as Public Works Week in Denver, and congratulates the 2015 Public Works Employees of the Year and their outstanding contributions to the department and the city. Section 2, that the clerk of the City and County of Denver shall attest and affix the seal of the City and County of Denver to this proclamation, and that copies hereof be forwarded to Denver Public Works and the 10 Public Works employees listed above. Thank you, Councilwoman Shepard. Your motion to adopt? I move that we adopt Proclamation Number 320, Series of 2015. Second. Moved and seconded. Comments from members of Council? Councilwoman Shepard. Thank you, Mr. President. It's such a pleasure to be able to read this proclamation again this year. I am chair of the Infrastructure and Culture Committee, and transportation planning and all the good work that we do in Public Works is really a specialty interest of mine. And a lot of people don't know this, but Public Works is the second biggest part of our city budget on an annual basis, just after the Public Safety Department. And when it's working well, we don't hear much from the public, but we do hear when they're upset about things. But the great news is, is that every time that your trash is picked up, or that your sewer works the way it's supposed to, or that you arrive on time and safely at work or at school or any other parts of your destination during the day, the reason that you got there or the reason that those things were achieved is because of the hard work of our second largest department in the City and County of Denver. I just can't speak highly enough for this department, and I think you guys are kind of the unsung heroes, so I'm really glad we're taking this time today to recognize all of the really hard and valuable work that you do to make this city work. And I travel a lot. I travel in the United States a lot, but I also travel in a fair number of developing countries, and I'm always really struck by the way, by the contrast between the way our infrastructure works so well here in the United States and in Colorado specifically, as compared to some of the other cities and countries around the world that I have visited, which also have nice features as well. But perhaps things working on time correctly, safely, and efficiently may not be some of those strengths in other areas of the world. So I'm very thankful for the work that you all do, and I'm especially proud of the growth that we have made in the last few years in terms of really promoting an agenda that helps promote safety for pedestrians and cyclists. And the work that we have made to push the boundaries in this area in Denver in the last few years is really great, and it's also been a big focus of many members of this council, as evidenced by our budget retreats in the last few years. So thank you all so much for all your work, and I'm sure that some of my colleagues might have some comments as well to make, but it's great to see you in chambers tonight. Thank you, Councilwoman Sheppard. Any other comments? Proclamation 320. Councilwoman Ortega. Thank you, Mr. President. I just wanted to also weigh in, and first of all, thank Councilwoman Sheppard for bringing this forward once again. I think it's vitally important to be able to recognize our city employees for the incredible work that is done day in and day out that keeps this city looking clean and great. I know the issue of filling those potholes continues to be a challenge, especially as we continue to have rain, but the work that's done of all of the different public works divisions, if you will, is such an important part of the basic services that our public, our constituents, come to expect. We believe that their taxpayer dollars pay for those services, and if it were not for all of you sitting in the audience today and your colleagues who make this work happen and ensuring that everything works the way it's supposed to, you know, when people's toilets flush, when they turn on the water, you know, our drainage systems throughout the city, through our tributaries, all of that is part of the work that we do. It's part of the work that our city employees do for us, and I just want to say a big thank you. Congratulations to the honorees, but congratulations to all of you for the work that you do every day. Thank you, Mr. President. Councilman Ortega. Councilman Nevitt. Thank you, Mr. President. I will echo but not repeat what my colleagues have said very eloquently. I just ask that whoever comes up to speak to the proclamation, I assume it'll be Manager Cornejo that he'll introduce these awardees individually so we get a chance to thank them directly. Thank you, Councilman Nevitt. Councilwoman Montero. Thank you, Mr. President. I also want to extend my congratulations to all of you. For the general public, there are so many divisions that are within Public Works. For example, solid waste. I'm so happy that we have rollout barrels now in Global Hillary Swansea and now Lama Lincoln wants them. So that's something that Councilman Lopez will work on. And wastewater and traffic management, and I'm sure that there's other divisions that I'm forgetting, but I just want to say that, as was mentioned earlier, many times to keep things running smoothly, you don't hear from people and you don't hear them call and say, gee, you really did a good job today. I like the way my street sign looks or something, but the minute that someone hits a pothole or even the timing on the traffic lights, which I've called George Delaney on plenty of times, so it's one of those divisions where we just hear from people when the trains aren't running on time. So I just want to say that I appreciate with all my heart all of the work that Commander Cornejo and the whole staff do every day and that I am always thankful when everything is running smoothly and people are happy. So when people are happy, we won't hear from them. And so this is one night where we're able to celebrate and be able to tell you thank you. Thank you, Councilman Montero. Councilman Lopez. Thank you. I just wanted to say a quick thank you to all of you who are being honored, but also I think it's just a reflection of the department. It's a reflection of the leadership. When you look at basic city services and what our constituents see as city services, you are that face. And that department accounts for so much of our budget, and rightfully so, especially in a state where it snows one day, then it rains the hour later, and then it's sunny. It wreaks havoc on our infrastructure, and it wreaks havoc on our budget as well. It wreaks havoc in offices. There's always a phone call that comes in from council offices to public works saying, can you fix this pothole, that pothole? Can you get people out here? It doesn't just happen in a vacuum. These are hardworking people. A lot of them who I know call Council District 3 home, and it's their city, and there's nothing more gratifying than when you go out there and you see folks, for example, with street cleaners that are out there putting in new asphalt, blistering summer days. It's over 200 degrees with the asphalt, with that heat coming out. And to see them being able to work on streets that they grew up in really says something. And it says something about the quality of work that's being done, the dedication of our employees to our city. So I wish we could pass out, I don't know how many employees do we have, Manager Cortenejo and Public Works. We should name all of them one day on a proclamation. Not necessarily read it, but list it. It'd be interesting, but they all deserve it. Thank you very much, those of you who are being honored. Thank you, Councilman Lopez. Councilwoman Robb. Thank you, Mr. President. I just can't let this resolution go by, noting that it honors two people from right-of-way services, which is probably the part of Public Works that my office calls most frequently, whether it has to do with street occupancy permits in construction zones or closed sidewalks or parking. We talk to right-of-way services almost on a daily basis, so I wanted to call out that division. All of you are very deserving. Thank you very much. Thank you, Councilwoman Robb. Any other comments? 3-2-0. Seeing none, Madam Secretary, roll call. Shepard. Aye. Sussman. Aye. Brooks. Aye. Fatz. Aye. Layman. Aye. Roth. Aye. Mr. President. Aye. Madam Secretary, please close the voting and announce the results. 11 ayes. 11 ayes. Proclamation 3-2-0 has been adopted. Councilwoman Shepard, is there someone you'd like to invite to the podium to receive the proclamation? Absolutely. I would like to invite Director Jose Cornejo, and please be sure to introduce all of the employees tonight as well. Thank you very much. Thank you for the proclamation, but more important for the relationship that members of the council have developed with Public Works. I think this is very, very important that we have this type of relationship in order to not only maintain the city, but continuing building the city the way we're doing. Yes, I wish that all 1,100 employees could be here today, because each one of them really deserves a pat on the back for what they do. But we have our spotlight employees. We have the 10 employees that have been nominated as Employee of the Year, and I'd like to talk a little bit about each one of them, because I think sometimes we get lost a little bit when we have 1,100 employees not talking about each one of them and what they do on a day-to-day basis. So I'd like to start with Rudy Schloth from Finance and Administration. Rudy, always.<|eot_id|><|start_header_id|>assistant<|end_header_id|>\n",
      "\n",
      "**Minutes of the Denver City Council Meeting**\n",
      "=====================================================\n",
      "\n",
      "\n",
      "**Attendees:**\n",
      "---------------\n",
      "\n",
      "* Councilwoman Sussman\n",
      "* Councilman Brooks\n",
      "* Councilwoman Robb\n",
      "* Councilwoman Montero\n",
      "* Councilman Lopez\n",
      "* Councilwoman Shepard\n",
      "* Councilman Nevitt\n",
      "* Councilwoman Ortega\n",
      "* Councilwoman Layman\n",
      "* Councilman Brooks\n",
      "* Council President\n",
      "\n",
      "**Location:**\n",
      "-------------\n",
      "\n",
      "* Denver City Council Chambers\n",
      "\n",
      "**Date:**\n",
      "---------\n",
      "\n",
      "* Monday, May 18, 2015\n",
      "\n",
      "**Summary:**\n",
      "--------------\n",
      "\n",
      "The Denver City Council meeting on May 18, 2015, began with the Pledge of Allegiance and roll call. Councilwoman Montero announced the community unveiling of the new Youth on Record media studio, and Councilman Brooks announced the success of the Five Points Jazz Festival. Councilwoman Robb congratulated the organizers of the Colfax Marathon. The council then approved Proclamation 320, designating May 17th through May 23rd as Public Works Week in Denver and congratulating the 2015 Public Works Employees of the Year.\n",
      "\n",
      "**Key Discussion Points:**\n",
      "---------------------------\n",
      "\n",
      "* Councilwoman Montero's announcement of the Youth on Record media studio\n",
      "* Councilman Brooks' announcement of the Five Points Jazz Festival\n",
      "* Councilwoman Robb's congratulations to the Colfax Marathon organizers\n",
      "* Approval of Proclamation 320, Public Works Week in Denver\n",
      "\n",
      "**Takeaways:**\n",
      "--------------\n",
      "\n",
      "* The new Youth on Record media studio is a valuable resource for local youth\n",
      "* The Five Points Jazz Festival was a successful event\n",
      "* The Colfax Marathon was well-organized and had a significant economic impact\n",
      "* The 2015 Public Works Employees of the Year were recognized for their outstanding contributions to the department\n",
      "\n",
      "**Action Items:**\n",
      "------------------\n",
      "\n",
      "* None\n",
      "\n",
      "**Next Steps:**\n",
      "----------------\n",
      "\n",
      "* The council will reconvene on Monday, June 1st, after the Memorial Day holiday\n",
      "* The city council family has gifted the Herndon household with baby registry items\n",
      "* The proclamation for Public Works Week in Denver will be presented to the Public Works Employees of the Year<|eot_id|>\n"
     ]
    }
   ],
   "source": [
    "tokenizer = AutoTokenizer.from_pretrained(LLAMA)\n",
    "tokenizer.pad_token = tokenizer.eos_token\n",
    "inputs = tokenizer.apply_chat_template(messages, return_tensors=\"pt\").to(\"cuda\")\n",
    "streamer = TextStreamer(tokenizer)\n",
    "model = AutoModelForCausalLM.from_pretrained(LLAMA, device_map=\"auto\", quantization_config=quant_config )\n",
    "outputs = model.generate(inputs, max_new_tokens=2000, streamer=streamer )\n",
    "response = tokenizer.decode(outputs[0])   \n",
    "print(response)\n",
    "\n",
    "    \n"
   ]
  },
  {
   "cell_type": "code",
   "execution_count": null,
   "id": "e2780463-2eb8-4040-b6ef-57d8e8b5c01b",
   "metadata": {},
   "outputs": [],
   "source": []
  }
 ],
 "metadata": {
  "kernelspec": {
   "display_name": "Python 3 (ipykernel)",
   "language": "python",
   "name": "python3"
  },
  "language_info": {
   "codemirror_mode": {
    "name": "ipython",
    "version": 3
   },
   "file_extension": ".py",
   "mimetype": "text/x-python",
   "name": "python",
   "nbconvert_exporter": "python",
   "pygments_lexer": "ipython3",
   "version": "3.12.7"
  }
 },
 "nbformat": 4,
 "nbformat_minor": 5
}
